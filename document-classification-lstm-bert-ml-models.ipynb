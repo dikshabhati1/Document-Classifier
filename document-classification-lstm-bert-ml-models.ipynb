{
 "cells": [
  {
   "cell_type": "markdown",
   "id": "turkish-booth",
   "metadata": {
    "papermill": {
     "duration": 0.0659,
     "end_time": "2021-04-28T03:21:57.153221",
     "exception": false,
     "start_time": "2021-04-28T03:21:57.087321",
     "status": "completed"
    },
    "tags": []
   },
   "source": [
    "Text classification is the task of assigning a set of predefined categories to open-ended text. Text classifiers can be used to organize, structure, and categorize pretty much any kind of text – from documents, medical studies and files, and all over the web.We will classify the text into 9 categories.The 9 categories are:\n",
    "- computer       \n",
    "- science        \n",
    "- politics       \n",
    "- sport          \n",
    "- automobile     \n",
    "- religion        \n",
    "- medicine       \n",
    "- sales           \n",
    "- alt.atheism"
   ]
  },
  {
   "cell_type": "markdown",
   "id": "vocational-cargo",
   "metadata": {
    "papermill": {
     "duration": 0.064068,
     "end_time": "2021-04-28T03:21:57.282148",
     "exception": false,
     "start_time": "2021-04-28T03:21:57.218080",
     "status": "completed"
    },
    "tags": []
   },
   "source": [
    "# Import Libraries"
   ]
  },
  {
   "cell_type": "markdown",
   "id": "approximate-investor",
   "metadata": {
    "papermill": {
     "duration": 0.064335,
     "end_time": "2021-04-28T03:21:57.411119",
     "exception": false,
     "start_time": "2021-04-28T03:21:57.346784",
     "status": "completed"
    },
    "tags": []
   },
   "source": [
    "Let's first import all the required libraries"
   ]
  },
  {
   "cell_type": "code",
   "execution_count": 1,
   "id": "continued-arbor",
   "metadata": {
    "execution": {
     "iopub.execute_input": "2021-04-28T03:21:57.552238Z",
     "iopub.status.busy": "2021-04-28T03:21:57.551586Z",
     "iopub.status.idle": "2021-04-28T03:22:05.981691Z",
     "shell.execute_reply": "2021-04-28T03:22:05.980727Z"
    },
    "papermill": {
     "duration": 8.506234,
     "end_time": "2021-04-28T03:22:05.981865",
     "exception": false,
     "start_time": "2021-04-28T03:21:57.475631",
     "status": "completed"
    },
    "tags": []
   },
   "outputs": [],
   "source": [
    "import os\n",
    "import pandas as pd\n",
    "import numpy as np\n",
    "import random\n",
    "import matplotlib.pyplot as plt\n",
    "import seaborn as sns\n",
    "import plotly.graph_objects as go\n",
    "import re\n",
    "import string\n",
    "import nltk\n",
    "from nltk.corpus import stopwords\n",
    "from nltk.stem import WordNetLemmatizer\n",
    "from sklearn.datasets import fetch_20newsgroups\n",
    "from sklearn.model_selection import train_test_split\n",
    "from sklearn.feature_extraction.text import CountVectorizer,TfidfVectorizer\n",
    "from sklearn.naive_bayes import MultinomialNB\n",
    "from sklearn import svm\n",
    "from time import time\n",
    "from sklearn import linear_model\n",
    "from sklearn import preprocessing\n",
    "from sklearn.model_selection import StratifiedKFold\n",
    "from imblearn.over_sampling import SMOTE\n",
    "from sklearn.ensemble import RandomForestClassifier\n",
    "from sklearn.linear_model import LogisticRegression\n",
    "from sklearn import model_selection\n",
    "from sklearn.metrics import accuracy_score, precision_score, recall_score, plot_confusion_matrix, confusion_matrix, f1_score\n",
    "from statistics import mean\n",
    "import pickle\n",
    "from tensorflow import keras\n",
    "from keras import layers\n",
    "from keras import losses\n",
    "from keras import utils\n",
    "from keras.layers.experimental.preprocessing import TextVectorization\n",
    "from keras.callbacks import EarlyStopping\n",
    "from keras.preprocessing.text import Tokenizer\n",
    "from keras.preprocessing.sequence import pad_sequences\n",
    "from keras.layers import Dense, Embedding, LSTM, SpatialDropout1D, Bidirectional, Dropout\n",
    "from tensorflow.keras.models import load_model\n",
    "import torch\n",
    "from tqdm.notebook import tqdm\n",
    "from transformers import BertTokenizer\n",
    "from torch.utils.data import TensorDataset\n",
    "from transformers import BertForSequenceClassification\n",
    "from torch.utils.data import DataLoader, RandomSampler, SequentialSampler\n",
    "from transformers import AdamW, get_linear_schedule_with_warmup"
   ]
  },
  {
   "cell_type": "markdown",
   "id": "aggregate-lloyd",
   "metadata": {
    "papermill": {
     "duration": 0.064526,
     "end_time": "2021-04-28T03:22:06.111426",
     "exception": false,
     "start_time": "2021-04-28T03:22:06.046900",
     "status": "completed"
    },
    "tags": []
   },
   "source": [
    "# Load Dataset"
   ]
  },
  {
   "cell_type": "markdown",
   "id": "alternate-fifty",
   "metadata": {
    "papermill": {
     "duration": 0.065082,
     "end_time": "2021-04-28T03:22:06.242853",
     "exception": false,
     "start_time": "2021-04-28T03:22:06.177771",
     "status": "completed"
    },
    "tags": []
   },
   "source": [
    "We will going to use the 20 news group dataset.Let's load the dataset in dataframe"
   ]
  },
  {
   "cell_type": "code",
   "execution_count": 2,
   "id": "animal-revolution",
   "metadata": {
    "execution": {
     "iopub.execute_input": "2021-04-28T03:22:06.382272Z",
     "iopub.status.busy": "2021-04-28T03:22:06.381395Z",
     "iopub.status.idle": "2021-04-28T03:22:19.655083Z",
     "shell.execute_reply": "2021-04-28T03:22:19.654062Z"
    },
    "papermill": {
     "duration": 13.347215,
     "end_time": "2021-04-28T03:22:19.655309",
     "exception": false,
     "start_time": "2021-04-28T03:22:06.308094",
     "status": "completed"
    },
    "tags": []
   },
   "outputs": [],
   "source": [
    "dataset = fetch_20newsgroups(subset='train', remove=('headers', 'footers', 'quotes'), shuffle=True, random_state=42)\n",
    "df = pd.DataFrame()\n",
    "df['text'] = dataset.data\n",
    "df['source'] = dataset.target\n",
    "label=[]\n",
    "for i in df['source']:\n",
    "    label.append(dataset.target_names[i])\n",
    "df['label']=label"
   ]
  },
  {
   "cell_type": "code",
   "execution_count": 3,
   "id": "white-atlantic",
   "metadata": {
    "execution": {
     "iopub.execute_input": "2021-04-28T03:22:19.802970Z",
     "iopub.status.busy": "2021-04-28T03:22:19.802101Z",
     "iopub.status.idle": "2021-04-28T03:22:19.809273Z",
     "shell.execute_reply": "2021-04-28T03:22:19.809812Z"
    },
    "papermill": {
     "duration": 0.085819,
     "end_time": "2021-04-28T03:22:19.809945",
     "exception": false,
     "start_time": "2021-04-28T03:22:19.724126",
     "status": "completed"
    },
    "tags": []
   },
   "outputs": [
    {
     "data": {
      "text/html": [
       "<div>\n",
       "<style scoped>\n",
       "    .dataframe tbody tr th:only-of-type {\n",
       "        vertical-align: middle;\n",
       "    }\n",
       "\n",
       "    .dataframe tbody tr th {\n",
       "        vertical-align: top;\n",
       "    }\n",
       "\n",
       "    .dataframe thead th {\n",
       "        text-align: right;\n",
       "    }\n",
       "</style>\n",
       "<table border=\"1\" class=\"dataframe\">\n",
       "  <thead>\n",
       "    <tr style=\"text-align: right;\">\n",
       "      <th></th>\n",
       "      <th>text</th>\n",
       "      <th>source</th>\n",
       "      <th>label</th>\n",
       "    </tr>\n",
       "  </thead>\n",
       "  <tbody>\n",
       "    <tr>\n",
       "      <th>0</th>\n",
       "      <td>I was wondering if anyone out there could enli...</td>\n",
       "      <td>7</td>\n",
       "      <td>rec.autos</td>\n",
       "    </tr>\n",
       "    <tr>\n",
       "      <th>1</th>\n",
       "      <td>A fair number of brave souls who upgraded thei...</td>\n",
       "      <td>4</td>\n",
       "      <td>comp.sys.mac.hardware</td>\n",
       "    </tr>\n",
       "    <tr>\n",
       "      <th>2</th>\n",
       "      <td>well folks, my mac plus finally gave up the gh...</td>\n",
       "      <td>4</td>\n",
       "      <td>comp.sys.mac.hardware</td>\n",
       "    </tr>\n",
       "    <tr>\n",
       "      <th>3</th>\n",
       "      <td>\\nDo you have Weitek's address/phone number?  ...</td>\n",
       "      <td>1</td>\n",
       "      <td>comp.graphics</td>\n",
       "    </tr>\n",
       "    <tr>\n",
       "      <th>4</th>\n",
       "      <td>From article &lt;C5owCB.n3p@world.std.com&gt;, by to...</td>\n",
       "      <td>14</td>\n",
       "      <td>sci.space</td>\n",
       "    </tr>\n",
       "  </tbody>\n",
       "</table>\n",
       "</div>"
      ],
      "text/plain": [
       "                                                text  source  \\\n",
       "0  I was wondering if anyone out there could enli...       7   \n",
       "1  A fair number of brave souls who upgraded thei...       4   \n",
       "2  well folks, my mac plus finally gave up the gh...       4   \n",
       "3  \\nDo you have Weitek's address/phone number?  ...       1   \n",
       "4  From article <C5owCB.n3p@world.std.com>, by to...      14   \n",
       "\n",
       "                   label  \n",
       "0              rec.autos  \n",
       "1  comp.sys.mac.hardware  \n",
       "2  comp.sys.mac.hardware  \n",
       "3          comp.graphics  \n",
       "4              sci.space  "
      ]
     },
     "execution_count": 3,
     "metadata": {},
     "output_type": "execute_result"
    }
   ],
   "source": [
    "# first few rows of the dataset\n",
    "df.head()"
   ]
  },
  {
   "cell_type": "markdown",
   "id": "measured-circular",
   "metadata": {
    "papermill": {
     "duration": 0.064938,
     "end_time": "2021-04-28T03:22:19.940459",
     "exception": false,
     "start_time": "2021-04-28T03:22:19.875521",
     "status": "completed"
    },
    "tags": []
   },
   "source": [
    "We will later use the label enocder to convert the labels (categorical value) into numeric value.So now, we will drop that column"
   ]
  },
  {
   "cell_type": "code",
   "execution_count": 4,
   "id": "ranking-turning",
   "metadata": {
    "execution": {
     "iopub.execute_input": "2021-04-28T03:22:20.076569Z",
     "iopub.status.busy": "2021-04-28T03:22:20.075606Z",
     "iopub.status.idle": "2021-04-28T03:22:20.080376Z",
     "shell.execute_reply": "2021-04-28T03:22:20.079942Z"
    },
    "papermill": {
     "duration": 0.075139,
     "end_time": "2021-04-28T03:22:20.080490",
     "exception": false,
     "start_time": "2021-04-28T03:22:20.005351",
     "status": "completed"
    },
    "tags": []
   },
   "outputs": [],
   "source": [
    "# drop source column\n",
    "df.drop(['source'],axis=1,inplace=True)"
   ]
  },
  {
   "cell_type": "markdown",
   "id": "supposed-brush",
   "metadata": {
    "papermill": {
     "duration": 0.06543,
     "end_time": "2021-04-28T03:22:20.212373",
     "exception": false,
     "start_time": "2021-04-28T03:22:20.146943",
     "status": "completed"
    },
    "tags": []
   },
   "source": [
    "Let's see the count of each label"
   ]
  },
  {
   "cell_type": "code",
   "execution_count": 5,
   "id": "freelance-lafayette",
   "metadata": {
    "execution": {
     "iopub.execute_input": "2021-04-28T03:22:20.353738Z",
     "iopub.status.busy": "2021-04-28T03:22:20.352963Z",
     "iopub.status.idle": "2021-04-28T03:22:20.356712Z",
     "shell.execute_reply": "2021-04-28T03:22:20.356240Z"
    },
    "papermill": {
     "duration": 0.078541,
     "end_time": "2021-04-28T03:22:20.356830",
     "exception": false,
     "start_time": "2021-04-28T03:22:20.278289",
     "status": "completed"
    },
    "tags": []
   },
   "outputs": [
    {
     "data": {
      "text/plain": [
       "rec.sport.hockey            600\n",
       "soc.religion.christian      599\n",
       "rec.motorcycles             598\n",
       "rec.sport.baseball          597\n",
       "sci.crypt                   595\n",
       "rec.autos                   594\n",
       "sci.med                     594\n",
       "comp.windows.x              593\n",
       "sci.space                   593\n",
       "comp.os.ms-windows.misc     591\n",
       "sci.electronics             591\n",
       "comp.sys.ibm.pc.hardware    590\n",
       "misc.forsale                585\n",
       "comp.graphics               584\n",
       "comp.sys.mac.hardware       578\n",
       "talk.politics.mideast       564\n",
       "talk.politics.guns          546\n",
       "alt.atheism                 480\n",
       "talk.politics.misc          465\n",
       "talk.religion.misc          377\n",
       "Name: label, dtype: int64"
      ]
     },
     "execution_count": 5,
     "metadata": {},
     "output_type": "execute_result"
    }
   ],
   "source": [
    "# value count\n",
    "df['label'].value_counts()"
   ]
  },
  {
   "cell_type": "markdown",
   "id": "confirmed-entrance",
   "metadata": {
    "papermill": {
     "duration": 0.066102,
     "end_time": "2021-04-28T03:22:20.488132",
     "exception": false,
     "start_time": "2021-04-28T03:22:20.422030",
     "status": "completed"
    },
    "tags": []
   },
   "source": [
    "In our dataset we have very less data in a each categorical label and there are 20 categories which are too much.We will combine the sub-categories"
   ]
  },
  {
   "cell_type": "markdown",
   "id": "golden-consequence",
   "metadata": {
    "papermill": {
     "duration": 0.066655,
     "end_time": "2021-04-28T03:22:20.620739",
     "exception": false,
     "start_time": "2021-04-28T03:22:20.554084",
     "status": "completed"
    },
    "tags": []
   },
   "source": [
    "- So in politics we have mideast, guns and misc sub-topics we will replace all to politics\n",
    "- We have sub-categories in sports, we will going to replace this also into sports\n",
    "- We have two sub categories in religion, we will replace them to one\n",
    "- We are going to make 9 categories in all"
   ]
  },
  {
   "cell_type": "code",
   "execution_count": 6,
   "id": "detected-facial",
   "metadata": {
    "execution": {
     "iopub.execute_input": "2021-04-28T03:22:20.763641Z",
     "iopub.status.busy": "2021-04-28T03:22:20.762788Z",
     "iopub.status.idle": "2021-04-28T03:22:20.785992Z",
     "shell.execute_reply": "2021-04-28T03:22:20.785531Z"
    },
    "papermill": {
     "duration": 0.099004,
     "end_time": "2021-04-28T03:22:20.786119",
     "exception": false,
     "start_time": "2021-04-28T03:22:20.687115",
     "status": "completed"
    },
    "tags": []
   },
   "outputs": [],
   "source": [
    "# replace to politics\n",
    "df['label'].replace({'talk.politics.misc':'politics','talk.politics.guns':'politics',\n",
    "                     'talk.politics.mideast':'politics'},inplace=True)\n",
    "                    \n",
    "# replace to sport\n",
    "df['label'].replace({'rec.sport.hockey':'sport','rec.sport.baseball':'sport'},inplace=True)\n",
    "                    \n",
    "# replace to religion\n",
    "df['label'].replace({'soc.religion.christian':'religion','talk.religion.misc':'religion'},inplace=True)\n",
    "                    \n",
    "# replace to computer\n",
    "df['label'].replace({'comp.windows.x':'computer','comp.sys.ibm.pc.hardware':'computer',\n",
    "                    'comp.os.ms-windows.misc':'computer','comp.graphics':'computer',\n",
    "                    'comp.sys.mac.hardware':'computer'},inplace=True)  \n",
    "# replace to sales\n",
    "df['label'].replace({'misc.forsale':'sales'},inplace=True)\n",
    "\n",
    "# replace to automobile\n",
    "df['label'].replace({'rec.autos':'automobile','rec.motorcycles':'automobile'},inplace=True)\n",
    "\n",
    "# replace to science\n",
    "df['label'].replace({'sci.crypt':'science','sci.electronics':'science','sci.space':'science'},inplace=True)\n",
    "\n",
    "# replace to medicine\n",
    "df['label'].replace({'sci.med':'medicine'},inplace=True)"
   ]
  },
  {
   "cell_type": "markdown",
   "id": "british-bundle",
   "metadata": {
    "papermill": {
     "duration": 0.066562,
     "end_time": "2021-04-28T03:22:20.920181",
     "exception": false,
     "start_time": "2021-04-28T03:22:20.853619",
     "status": "completed"
    },
    "tags": []
   },
   "source": [
    "Let's see the number of unique targets "
   ]
  },
  {
   "cell_type": "code",
   "execution_count": 7,
   "id": "buried-winning",
   "metadata": {
    "execution": {
     "iopub.execute_input": "2021-04-28T03:22:21.080802Z",
     "iopub.status.busy": "2021-04-28T03:22:21.079808Z",
     "iopub.status.idle": "2021-04-28T03:22:21.084959Z",
     "shell.execute_reply": "2021-04-28T03:22:21.084490Z"
    },
    "papermill": {
     "duration": 0.088244,
     "end_time": "2021-04-28T03:22:21.085086",
     "exception": false,
     "start_time": "2021-04-28T03:22:20.996842",
     "status": "completed"
    },
    "tags": []
   },
   "outputs": [
    {
     "data": {
      "text/plain": [
       "9"
      ]
     },
     "execution_count": 7,
     "metadata": {},
     "output_type": "execute_result"
    }
   ],
   "source": [
    "# number of targets\n",
    "df['label'].nunique()"
   ]
  },
  {
   "cell_type": "code",
   "execution_count": 8,
   "id": "institutional-radiation",
   "metadata": {
    "execution": {
     "iopub.execute_input": "2021-04-28T03:22:21.239705Z",
     "iopub.status.busy": "2021-04-28T03:22:21.238934Z",
     "iopub.status.idle": "2021-04-28T03:22:21.242024Z",
     "shell.execute_reply": "2021-04-28T03:22:21.242523Z"
    },
    "papermill": {
     "duration": 0.083991,
     "end_time": "2021-04-28T03:22:21.242655",
     "exception": false,
     "start_time": "2021-04-28T03:22:21.158664",
     "status": "completed"
    },
    "tags": []
   },
   "outputs": [
    {
     "data": {
      "text/plain": [
       "computer       2936\n",
       "science        1779\n",
       "politics       1575\n",
       "sport          1197\n",
       "automobile     1192\n",
       "religion        976\n",
       "medicine        594\n",
       "sales           585\n",
       "alt.atheism     480\n",
       "Name: label, dtype: int64"
      ]
     },
     "execution_count": 8,
     "metadata": {},
     "output_type": "execute_result"
    }
   ],
   "source": [
    "# value count\n",
    "df['label'].value_counts()"
   ]
  },
  {
   "cell_type": "markdown",
   "id": "growing-comparison",
   "metadata": {
    "papermill": {
     "duration": 0.066426,
     "end_time": "2021-04-28T03:22:21.376012",
     "exception": false,
     "start_time": "2021-04-28T03:22:21.309586",
     "status": "completed"
    },
    "tags": []
   },
   "source": [
    "We are going to make a number of words column in which there is the number of words in a particular text"
   ]
  },
  {
   "cell_type": "code",
   "execution_count": 9,
   "id": "biological-correction",
   "metadata": {
    "execution": {
     "iopub.execute_input": "2021-04-28T03:22:21.549777Z",
     "iopub.status.busy": "2021-04-28T03:22:21.529206Z",
     "iopub.status.idle": "2021-04-28T03:22:21.653744Z",
     "shell.execute_reply": "2021-04-28T03:22:21.654181Z"
    },
    "papermill": {
     "duration": 0.211738,
     "end_time": "2021-04-28T03:22:21.654324",
     "exception": false,
     "start_time": "2021-04-28T03:22:21.442586",
     "status": "completed"
    },
    "tags": []
   },
   "outputs": [
    {
     "data": {
      "text/html": [
       "<div>\n",
       "<style scoped>\n",
       "    .dataframe tbody tr th:only-of-type {\n",
       "        vertical-align: middle;\n",
       "    }\n",
       "\n",
       "    .dataframe tbody tr th {\n",
       "        vertical-align: top;\n",
       "    }\n",
       "\n",
       "    .dataframe thead th {\n",
       "        text-align: right;\n",
       "    }\n",
       "</style>\n",
       "<table border=\"1\" class=\"dataframe\">\n",
       "  <thead>\n",
       "    <tr style=\"text-align: right;\">\n",
       "      <th></th>\n",
       "      <th>text</th>\n",
       "      <th>label</th>\n",
       "      <th>Number_of_words</th>\n",
       "    </tr>\n",
       "  </thead>\n",
       "  <tbody>\n",
       "    <tr>\n",
       "      <th>0</th>\n",
       "      <td>I was wondering if anyone out there could enli...</td>\n",
       "      <td>automobile</td>\n",
       "      <td>91</td>\n",
       "    </tr>\n",
       "    <tr>\n",
       "      <th>1</th>\n",
       "      <td>A fair number of brave souls who upgraded thei...</td>\n",
       "      <td>computer</td>\n",
       "      <td>90</td>\n",
       "    </tr>\n",
       "    <tr>\n",
       "      <th>2</th>\n",
       "      <td>well folks, my mac plus finally gave up the gh...</td>\n",
       "      <td>computer</td>\n",
       "      <td>307</td>\n",
       "    </tr>\n",
       "    <tr>\n",
       "      <th>3</th>\n",
       "      <td>\\nDo you have Weitek's address/phone number?  ...</td>\n",
       "      <td>computer</td>\n",
       "      <td>15</td>\n",
       "    </tr>\n",
       "    <tr>\n",
       "      <th>4</th>\n",
       "      <td>From article &lt;C5owCB.n3p@world.std.com&gt;, by to...</td>\n",
       "      <td>science</td>\n",
       "      <td>72</td>\n",
       "    </tr>\n",
       "  </tbody>\n",
       "</table>\n",
       "</div>"
      ],
      "text/plain": [
       "                                                text       label  \\\n",
       "0  I was wondering if anyone out there could enli...  automobile   \n",
       "1  A fair number of brave souls who upgraded thei...    computer   \n",
       "2  well folks, my mac plus finally gave up the gh...    computer   \n",
       "3  \\nDo you have Weitek's address/phone number?  ...    computer   \n",
       "4  From article <C5owCB.n3p@world.std.com>, by to...     science   \n",
       "\n",
       "   Number_of_words  \n",
       "0               91  \n",
       "1               90  \n",
       "2              307  \n",
       "3               15  \n",
       "4               72  "
      ]
     },
     "execution_count": 9,
     "metadata": {},
     "output_type": "execute_result"
    }
   ],
   "source": [
    "df['Number_of_words'] = df['text'].apply(lambda x:len(str(x).split()))\n",
    "df.head()"
   ]
  },
  {
   "cell_type": "markdown",
   "id": "elementary-yemen",
   "metadata": {
    "papermill": {
     "duration": 0.068465,
     "end_time": "2021-04-28T03:22:21.790425",
     "exception": false,
     "start_time": "2021-04-28T03:22:21.721960",
     "status": "completed"
    },
    "tags": []
   },
   "source": [
    "Check the basic stats of number of words, like maximum, minimum, average number of words"
   ]
  },
  {
   "cell_type": "code",
   "execution_count": 10,
   "id": "junior-antenna",
   "metadata": {
    "execution": {
     "iopub.execute_input": "2021-04-28T03:22:21.937785Z",
     "iopub.status.busy": "2021-04-28T03:22:21.936743Z",
     "iopub.status.idle": "2021-04-28T03:22:21.948699Z",
     "shell.execute_reply": "2021-04-28T03:22:21.948140Z"
    },
    "papermill": {
     "duration": 0.087173,
     "end_time": "2021-04-28T03:22:21.948841",
     "exception": false,
     "start_time": "2021-04-28T03:22:21.861668",
     "status": "completed"
    },
    "tags": []
   },
   "outputs": [
    {
     "data": {
      "text/plain": [
       "count    11314.000000\n",
       "mean       185.827382\n",
       "std        523.971647\n",
       "min          0.000000\n",
       "25%         40.000000\n",
       "50%         83.000000\n",
       "75%        167.000000\n",
       "max      11765.000000\n",
       "Name: Number_of_words, dtype: float64"
      ]
     },
     "execution_count": 10,
     "metadata": {},
     "output_type": "execute_result"
    }
   ],
   "source": [
    "# basic stats\n",
    "df['Number_of_words'].describe()"
   ]
  },
  {
   "cell_type": "markdown",
   "id": "subjective-ivory",
   "metadata": {
    "papermill": {
     "duration": 0.072493,
     "end_time": "2021-04-28T03:22:22.106320",
     "exception": false,
     "start_time": "2021-04-28T03:22:22.033827",
     "status": "completed"
    },
    "tags": []
   },
   "source": [
    "So the maximum number of words in our dataset is 11,765.Let's have a look at it"
   ]
  },
  {
   "cell_type": "code",
   "execution_count": 11,
   "id": "martial-worse",
   "metadata": {
    "execution": {
     "iopub.execute_input": "2021-04-28T03:22:22.248151Z",
     "iopub.status.busy": "2021-04-28T03:22:22.247491Z",
     "iopub.status.idle": "2021-04-28T03:22:22.269846Z",
     "shell.execute_reply": "2021-04-28T03:22:22.270227Z"
    },
    "papermill": {
     "duration": 0.095217,
     "end_time": "2021-04-28T03:22:22.270396",
     "exception": false,
     "start_time": "2021-04-28T03:22:22.175179",
     "status": "completed"
    },
    "tags": []
   },
   "outputs": [
    {
     "data": {
      "text/html": [
       "<div>\n",
       "<style scoped>\n",
       "    .dataframe tbody tr th:only-of-type {\n",
       "        vertical-align: middle;\n",
       "    }\n",
       "\n",
       "    .dataframe tbody tr th {\n",
       "        vertical-align: top;\n",
       "    }\n",
       "\n",
       "    .dataframe thead th {\n",
       "        text-align: right;\n",
       "    }\n",
       "</style>\n",
       "<table border=\"1\" class=\"dataframe\">\n",
       "  <thead>\n",
       "    <tr style=\"text-align: right;\">\n",
       "      <th></th>\n",
       "      <th>text</th>\n",
       "      <th>label</th>\n",
       "      <th>Number_of_words</th>\n",
       "    </tr>\n",
       "  </thead>\n",
       "  <tbody>\n",
       "    <tr>\n",
       "      <th>9192</th>\n",
       "      <td>Since electrical wiring questions do turn up f...</td>\n",
       "      <td>science</td>\n",
       "      <td>11765</td>\n",
       "    </tr>\n",
       "  </tbody>\n",
       "</table>\n",
       "</div>"
      ],
      "text/plain": [
       "                                                   text    label  \\\n",
       "9192  Since electrical wiring questions do turn up f...  science   \n",
       "\n",
       "      Number_of_words  \n",
       "9192            11765  "
      ]
     },
     "execution_count": 11,
     "metadata": {},
     "output_type": "execute_result"
    }
   ],
   "source": [
    "df[df['Number_of_words']==11765]"
   ]
  },
  {
   "cell_type": "markdown",
   "id": "sized-actor",
   "metadata": {
    "papermill": {
     "duration": 0.0685,
     "end_time": "2021-04-28T03:22:22.409067",
     "exception": false,
     "start_time": "2021-04-28T03:22:22.340567",
     "status": "completed"
    },
    "tags": []
   },
   "source": [
    "So maximu number of words text is belongs to electronics category.In our dataset we have some rows where there are no text at all i.e. the number of words is 0.We will drop those rows"
   ]
  },
  {
   "cell_type": "code",
   "execution_count": 12,
   "id": "tired-murray",
   "metadata": {
    "execution": {
     "iopub.execute_input": "2021-04-28T03:22:22.564116Z",
     "iopub.status.busy": "2021-04-28T03:22:22.563250Z",
     "iopub.status.idle": "2021-04-28T03:22:22.576809Z",
     "shell.execute_reply": "2021-04-28T03:22:22.578778Z"
    },
    "papermill": {
     "duration": 0.10043,
     "end_time": "2021-04-28T03:22:22.579100",
     "exception": false,
     "start_time": "2021-04-28T03:22:22.478670",
     "status": "completed"
    },
    "tags": []
   },
   "outputs": [
    {
     "name": "stdout",
     "output_type": "stream",
     "text": [
      "300\n"
     ]
    }
   ],
   "source": [
    "no_text = df[df['Number_of_words']==0]\n",
    "print(len(no_text))\n",
    "\n",
    "# drop these rows\n",
    "df.drop(no_text.index,inplace=True)"
   ]
  },
  {
   "cell_type": "code",
   "execution_count": 13,
   "id": "collective-porcelain",
   "metadata": {
    "execution": {
     "iopub.execute_input": "2021-04-28T03:22:22.742064Z",
     "iopub.status.busy": "2021-04-28T03:22:22.741441Z",
     "iopub.status.idle": "2021-04-28T03:22:23.292122Z",
     "shell.execute_reply": "2021-04-28T03:22:23.292640Z"
    },
    "papermill": {
     "duration": 0.626963,
     "end_time": "2021-04-28T03:22:23.292797",
     "exception": false,
     "start_time": "2021-04-28T03:22:22.665834",
     "status": "completed"
    },
    "tags": []
   },
   "outputs": [
    {
     "name": "stderr",
     "output_type": "stream",
     "text": [
      "/opt/conda/lib/python3.7/site-packages/seaborn/distributions.py:2557: FutureWarning: `distplot` is a deprecated function and will be removed in a future version. Please adapt your code to use either `displot` (a figure-level function with similar flexibility) or `histplot` (an axes-level function for histograms).\n",
      "  warnings.warn(msg, FutureWarning)\n"
     ]
    },
    {
     "data": {
      "text/plain": [
       "Text(0.5, 1.0, 'Frequency distribution of number of words for each text extracted')"
      ]
     },
     "execution_count": 13,
     "metadata": {},
     "output_type": "execute_result"
    },
    {
     "data": {
      "image/png": "[encoded data removed]",
      "text/plain": [
       "<Figure size 864x432 with 1 Axes>"
      ]
     },
     "metadata": {},
     "output_type": "display_data"
    }
   ],
   "source": [
    "plt.style.use('ggplot')\n",
    "plt.figure(figsize=(12,6))\n",
    "sns.distplot(df['Number_of_words'],kde = False,color=\"red\",bins=200)\n",
    "plt.title(\"Frequency distribution of number of words for each text extracted\", size=20)"
   ]
  },
  {
   "cell_type": "markdown",
   "id": "about-amazon",
   "metadata": {
    "papermill": {
     "duration": 0.08099,
     "end_time": "2021-04-28T03:22:23.460033",
     "exception": false,
     "start_time": "2021-04-28T03:22:23.379043",
     "status": "completed"
    },
    "tags": []
   },
   "source": [
    "# Data Pre-Processing"
   ]
  },
  {
   "cell_type": "markdown",
   "id": "unavailable-harvey",
   "metadata": {
    "papermill": {
     "duration": 0.123609,
     "end_time": "2021-04-28T03:22:23.661387",
     "exception": false,
     "start_time": "2021-04-28T03:22:23.537778",
     "status": "completed"
    },
    "tags": []
   },
   "source": [
    "Now it's time to clean our dataset, we will lower the text, remove the text in square brackets, remove links and remove words containing numbers"
   ]
  },
  {
   "cell_type": "code",
   "execution_count": 14,
   "id": "foster-exhibit",
   "metadata": {
    "execution": {
     "iopub.execute_input": "2021-04-28T03:22:23.905756Z",
     "iopub.status.busy": "2021-04-28T03:22:23.904911Z",
     "iopub.status.idle": "2021-04-28T03:22:27.529058Z",
     "shell.execute_reply": "2021-04-28T03:22:27.528631Z"
    },
    "papermill": {
     "duration": 3.749078,
     "end_time": "2021-04-28T03:22:27.529180",
     "exception": false,
     "start_time": "2021-04-28T03:22:23.780102",
     "status": "completed"
    },
    "tags": []
   },
   "outputs": [
    {
     "data": {
      "text/plain": [
       "0    i was wondering if anyone out there could enli...\n",
       "1    a fair number of brave souls who upgraded thei...\n",
       "2    well folks my mac plus finally gave up the gho...\n",
       "3    do you have weiteks addressphone number  id li...\n",
       "4    from article  by tombakerworldstdcom tom a bak...\n",
       "Name: cleaned_text, dtype: object"
      ]
     },
     "execution_count": 14,
     "metadata": {},
     "output_type": "execute_result"
    }
   ],
   "source": [
    "# cleaning the text\n",
    "\n",
    "def clean_text(text):\n",
    "    '''Make text lowercase, remove text in square brackets,remove links,remove punctuation\n",
    "    and remove words containing numbers.'''\n",
    "    text = text.lower()\n",
    "    text = re.sub('\\[.*?\\]', '', text)\n",
    "    text = re.sub('https?://\\S+|www\\.\\S+', '', text)\n",
    "    text = re.sub('<.*?>+', '', text)\n",
    "    text = re.sub('[%s]' % re.escape(string.punctuation), '', text)\n",
    "    text = re.sub('\\n', '', text)\n",
    "    text = re.sub('\\w*\\d\\w*', '', text)\n",
    "    return text\n",
    "\n",
    "# Applying the cleaning function to  datasets\n",
    "df['cleaned_text'] = df['text'].apply(lambda x: clean_text(x))\n",
    "\n",
    "# updated text\n",
    "df['cleaned_text'].head()"
   ]
  },
  {
   "cell_type": "markdown",
   "id": "individual-collectible",
   "metadata": {
    "papermill": {
     "duration": 0.074118,
     "end_time": "2021-04-28T03:22:27.680066",
     "exception": false,
     "start_time": "2021-04-28T03:22:27.605948",
     "status": "completed"
    },
    "tags": []
   },
   "source": [
    "Let's convert our cleaned text into tokens"
   ]
  },
  {
   "cell_type": "code",
   "execution_count": 15,
   "id": "vertical-monitor",
   "metadata": {
    "execution": {
     "iopub.execute_input": "2021-04-28T03:22:27.890108Z",
     "iopub.status.busy": "2021-04-28T03:22:27.868742Z",
     "iopub.status.idle": "2021-04-28T03:22:28.478709Z",
     "shell.execute_reply": "2021-04-28T03:22:28.479085Z"
    },
    "papermill": {
     "duration": 0.726215,
     "end_time": "2021-04-28T03:22:28.479232",
     "exception": false,
     "start_time": "2021-04-28T03:22:27.753017",
     "status": "completed"
    },
    "tags": []
   },
   "outputs": [
    {
     "data": {
      "text/html": [
       "<div>\n",
       "<style scoped>\n",
       "    .dataframe tbody tr th:only-of-type {\n",
       "        vertical-align: middle;\n",
       "    }\n",
       "\n",
       "    .dataframe tbody tr th {\n",
       "        vertical-align: top;\n",
       "    }\n",
       "\n",
       "    .dataframe thead th {\n",
       "        text-align: right;\n",
       "    }\n",
       "</style>\n",
       "<table border=\"1\" class=\"dataframe\">\n",
       "  <thead>\n",
       "    <tr style=\"text-align: right;\">\n",
       "      <th></th>\n",
       "      <th>text</th>\n",
       "      <th>label</th>\n",
       "      <th>Number_of_words</th>\n",
       "      <th>cleaned_text</th>\n",
       "      <th>tokens</th>\n",
       "    </tr>\n",
       "  </thead>\n",
       "  <tbody>\n",
       "    <tr>\n",
       "      <th>0</th>\n",
       "      <td>I was wondering if anyone out there could enli...</td>\n",
       "      <td>automobile</td>\n",
       "      <td>91</td>\n",
       "      <td>i was wondering if anyone out there could enli...</td>\n",
       "      <td>[i, was, wondering, if, anyone, out, there, co...</td>\n",
       "    </tr>\n",
       "    <tr>\n",
       "      <th>1</th>\n",
       "      <td>A fair number of brave souls who upgraded thei...</td>\n",
       "      <td>computer</td>\n",
       "      <td>90</td>\n",
       "      <td>a fair number of brave souls who upgraded thei...</td>\n",
       "      <td>[a, fair, number, of, brave, souls, who, upgra...</td>\n",
       "    </tr>\n",
       "    <tr>\n",
       "      <th>2</th>\n",
       "      <td>well folks, my mac plus finally gave up the gh...</td>\n",
       "      <td>computer</td>\n",
       "      <td>307</td>\n",
       "      <td>well folks my mac plus finally gave up the gho...</td>\n",
       "      <td>[well, folks, my, mac, plus, finally, gave, up...</td>\n",
       "    </tr>\n",
       "    <tr>\n",
       "      <th>3</th>\n",
       "      <td>\\nDo you have Weitek's address/phone number?  ...</td>\n",
       "      <td>computer</td>\n",
       "      <td>15</td>\n",
       "      <td>do you have weiteks addressphone number  id li...</td>\n",
       "      <td>[do, you, have, weiteks, addressphone, number,...</td>\n",
       "    </tr>\n",
       "    <tr>\n",
       "      <th>4</th>\n",
       "      <td>From article &lt;C5owCB.n3p@world.std.com&gt;, by to...</td>\n",
       "      <td>science</td>\n",
       "      <td>72</td>\n",
       "      <td>from article  by tombakerworldstdcom tom a bak...</td>\n",
       "      <td>[from, article, by, tombakerworldstdcom, tom, ...</td>\n",
       "    </tr>\n",
       "  </tbody>\n",
       "</table>\n",
       "</div>"
      ],
      "text/plain": [
       "                                                text       label  \\\n",
       "0  I was wondering if anyone out there could enli...  automobile   \n",
       "1  A fair number of brave souls who upgraded thei...    computer   \n",
       "2  well folks, my mac plus finally gave up the gh...    computer   \n",
       "3  \\nDo you have Weitek's address/phone number?  ...    computer   \n",
       "4  From article <C5owCB.n3p@world.std.com>, by to...     science   \n",
       "\n",
       "   Number_of_words                                       cleaned_text  \\\n",
       "0               91  i was wondering if anyone out there could enli...   \n",
       "1               90  a fair number of brave souls who upgraded thei...   \n",
       "2              307  well folks my mac plus finally gave up the gho...   \n",
       "3               15  do you have weiteks addressphone number  id li...   \n",
       "4               72  from article  by tombakerworldstdcom tom a bak...   \n",
       "\n",
       "                                              tokens  \n",
       "0  [i, was, wondering, if, anyone, out, there, co...  \n",
       "1  [a, fair, number, of, brave, souls, who, upgra...  \n",
       "2  [well, folks, my, mac, plus, finally, gave, up...  \n",
       "3  [do, you, have, weiteks, addressphone, number,...  \n",
       "4  [from, article, by, tombakerworldstdcom, tom, ...  "
      ]
     },
     "execution_count": 15,
     "metadata": {},
     "output_type": "execute_result"
    }
   ],
   "source": [
    "tokenizer=nltk.tokenize.RegexpTokenizer(r'\\w+')\n",
    "df['tokens'] = df['cleaned_text'].apply(lambda x:tokenizer.tokenize(x))\n",
    "df.head()"
   ]
  },
  {
   "cell_type": "markdown",
   "id": "covered-bachelor",
   "metadata": {
    "papermill": {
     "duration": 0.072813,
     "end_time": "2021-04-28T03:22:28.625055",
     "exception": false,
     "start_time": "2021-04-28T03:22:28.552242",
     "status": "completed"
    },
    "tags": []
   },
   "source": [
    "Stopwords are those english words which do not add much meaning to a sentence.They are very commonly used words and we do not required those words. So we can remove those stopwords"
   ]
  },
  {
   "cell_type": "code",
   "execution_count": 16,
   "id": "crazy-receipt",
   "metadata": {
    "execution": {
     "iopub.execute_input": "2021-04-28T03:22:28.776186Z",
     "iopub.status.busy": "2021-04-28T03:22:28.775252Z",
     "iopub.status.idle": "2021-04-28T03:22:28.784056Z",
     "shell.execute_reply": "2021-04-28T03:22:28.783542Z"
    },
    "papermill": {
     "duration": 0.086118,
     "end_time": "2021-04-28T03:22:28.784171",
     "exception": false,
     "start_time": "2021-04-28T03:22:28.698053",
     "status": "completed"
    },
    "tags": []
   },
   "outputs": [
    {
     "data": {
      "text/plain": [
       "['i', 'me', 'my', 'myself', 'we']"
      ]
     },
     "execution_count": 16,
     "metadata": {},
     "output_type": "execute_result"
    }
   ],
   "source": [
    "# stopwords\n",
    "stopwords.words('english')[0:5]"
   ]
  },
  {
   "cell_type": "markdown",
   "id": "beginning-statement",
   "metadata": {
    "papermill": {
     "duration": 0.072812,
     "end_time": "2021-04-28T03:22:28.933749",
     "exception": false,
     "start_time": "2021-04-28T03:22:28.860937",
     "status": "completed"
    },
    "tags": []
   },
   "source": [
    "Let's check number of stopwords in nltk library"
   ]
  },
  {
   "cell_type": "code",
   "execution_count": 17,
   "id": "amino-serve",
   "metadata": {
    "execution": {
     "iopub.execute_input": "2021-04-28T03:22:29.086584Z",
     "iopub.status.busy": "2021-04-28T03:22:29.085923Z",
     "iopub.status.idle": "2021-04-28T03:22:29.088727Z",
     "shell.execute_reply": "2021-04-28T03:22:29.089203Z"
    },
    "papermill": {
     "duration": 0.082379,
     "end_time": "2021-04-28T03:22:29.089350",
     "exception": false,
     "start_time": "2021-04-28T03:22:29.006971",
     "status": "completed"
    },
    "tags": []
   },
   "outputs": [
    {
     "data": {
      "text/plain": [
       "179"
      ]
     },
     "execution_count": 17,
     "metadata": {},
     "output_type": "execute_result"
    }
   ],
   "source": [
    "len(stopwords.words('english'))"
   ]
  },
  {
   "cell_type": "markdown",
   "id": "directed-source",
   "metadata": {
    "papermill": {
     "duration": 0.073517,
     "end_time": "2021-04-28T03:22:29.237016",
     "exception": false,
     "start_time": "2021-04-28T03:22:29.163499",
     "status": "completed"
    },
    "tags": []
   },
   "source": [
    "Now we are going to remome the stopwords from the sentences"
   ]
  },
  {
   "cell_type": "code",
   "execution_count": 18,
   "id": "expensive-plenty",
   "metadata": {
    "execution": {
     "iopub.execute_input": "2021-04-28T03:22:29.391210Z",
     "iopub.status.busy": "2021-04-28T03:22:29.390432Z",
     "iopub.status.idle": "2021-04-28T03:25:55.975210Z",
     "shell.execute_reply": "2021-04-28T03:25:55.975707Z"
    },
    "papermill": {
     "duration": 206.665076,
     "end_time": "2021-04-28T03:25:55.975865",
     "exception": false,
     "start_time": "2021-04-28T03:22:29.310789",
     "status": "completed"
    },
    "tags": []
   },
   "outputs": [
    {
     "data": {
      "text/html": [
       "<div>\n",
       "<style scoped>\n",
       "    .dataframe tbody tr th:only-of-type {\n",
       "        vertical-align: middle;\n",
       "    }\n",
       "\n",
       "    .dataframe tbody tr th {\n",
       "        vertical-align: top;\n",
       "    }\n",
       "\n",
       "    .dataframe thead th {\n",
       "        text-align: right;\n",
       "    }\n",
       "</style>\n",
       "<table border=\"1\" class=\"dataframe\">\n",
       "  <thead>\n",
       "    <tr style=\"text-align: right;\">\n",
       "      <th></th>\n",
       "      <th>text</th>\n",
       "      <th>label</th>\n",
       "      <th>Number_of_words</th>\n",
       "      <th>cleaned_text</th>\n",
       "      <th>tokens</th>\n",
       "      <th>stopwordremove_tokens</th>\n",
       "    </tr>\n",
       "  </thead>\n",
       "  <tbody>\n",
       "    <tr>\n",
       "      <th>0</th>\n",
       "      <td>I was wondering if anyone out there could enli...</td>\n",
       "      <td>automobile</td>\n",
       "      <td>91</td>\n",
       "      <td>i was wondering if anyone out there could enli...</td>\n",
       "      <td>[i, was, wondering, if, anyone, out, there, co...</td>\n",
       "      <td>[wondering, anyone, could, enlighten, car, saw...</td>\n",
       "    </tr>\n",
       "    <tr>\n",
       "      <th>1</th>\n",
       "      <td>A fair number of brave souls who upgraded thei...</td>\n",
       "      <td>computer</td>\n",
       "      <td>90</td>\n",
       "      <td>a fair number of brave souls who upgraded thei...</td>\n",
       "      <td>[a, fair, number, of, brave, souls, who, upgra...</td>\n",
       "      <td>[fair, number, brave, souls, upgraded, si, clo...</td>\n",
       "    </tr>\n",
       "    <tr>\n",
       "      <th>2</th>\n",
       "      <td>well folks, my mac plus finally gave up the gh...</td>\n",
       "      <td>computer</td>\n",
       "      <td>307</td>\n",
       "      <td>well folks my mac plus finally gave up the gho...</td>\n",
       "      <td>[well, folks, my, mac, plus, finally, gave, up...</td>\n",
       "      <td>[well, folks, mac, plus, finally, gave, ghost,...</td>\n",
       "    </tr>\n",
       "    <tr>\n",
       "      <th>3</th>\n",
       "      <td>\\nDo you have Weitek's address/phone number?  ...</td>\n",
       "      <td>computer</td>\n",
       "      <td>15</td>\n",
       "      <td>do you have weiteks addressphone number  id li...</td>\n",
       "      <td>[do, you, have, weiteks, addressphone, number,...</td>\n",
       "      <td>[weiteks, addressphone, number, id, like, get,...</td>\n",
       "    </tr>\n",
       "    <tr>\n",
       "      <th>4</th>\n",
       "      <td>From article &lt;C5owCB.n3p@world.std.com&gt;, by to...</td>\n",
       "      <td>science</td>\n",
       "      <td>72</td>\n",
       "      <td>from article  by tombakerworldstdcom tom a bak...</td>\n",
       "      <td>[from, article, by, tombakerworldstdcom, tom, ...</td>\n",
       "      <td>[article, tombakerworldstdcom, tom, bakermy, u...</td>\n",
       "    </tr>\n",
       "  </tbody>\n",
       "</table>\n",
       "</div>"
      ],
      "text/plain": [
       "                                                text       label  \\\n",
       "0  I was wondering if anyone out there could enli...  automobile   \n",
       "1  A fair number of brave souls who upgraded thei...    computer   \n",
       "2  well folks, my mac plus finally gave up the gh...    computer   \n",
       "3  \\nDo you have Weitek's address/phone number?  ...    computer   \n",
       "4  From article <C5owCB.n3p@world.std.com>, by to...     science   \n",
       "\n",
       "   Number_of_words                                       cleaned_text  \\\n",
       "0               91  i was wondering if anyone out there could enli...   \n",
       "1               90  a fair number of brave souls who upgraded thei...   \n",
       "2              307  well folks my mac plus finally gave up the gho...   \n",
       "3               15  do you have weiteks addressphone number  id li...   \n",
       "4               72  from article  by tombakerworldstdcom tom a bak...   \n",
       "\n",
       "                                              tokens  \\\n",
       "0  [i, was, wondering, if, anyone, out, there, co...   \n",
       "1  [a, fair, number, of, brave, souls, who, upgra...   \n",
       "2  [well, folks, my, mac, plus, finally, gave, up...   \n",
       "3  [do, you, have, weiteks, addressphone, number,...   \n",
       "4  [from, article, by, tombakerworldstdcom, tom, ...   \n",
       "\n",
       "                               stopwordremove_tokens  \n",
       "0  [wondering, anyone, could, enlighten, car, saw...  \n",
       "1  [fair, number, brave, souls, upgraded, si, clo...  \n",
       "2  [well, folks, mac, plus, finally, gave, ghost,...  \n",
       "3  [weiteks, addressphone, number, id, like, get,...  \n",
       "4  [article, tombakerworldstdcom, tom, bakermy, u...  "
      ]
     },
     "execution_count": 18,
     "metadata": {},
     "output_type": "execute_result"
    }
   ],
   "source": [
    "# removing stopwords\n",
    "def remove_stopwords(text):\n",
    "    words = [w for w in text if w not in stopwords.words('english')]\n",
    "    return words \n",
    "df['stopwordremove_tokens'] = df['tokens'].apply(lambda x : remove_stopwords(x))\n",
    "df.head()"
   ]
  },
  {
   "cell_type": "markdown",
   "id": "encouraging-threshold",
   "metadata": {
    "papermill": {
     "duration": 0.071332,
     "end_time": "2021-04-28T03:25:56.118842",
     "exception": false,
     "start_time": "2021-04-28T03:25:56.047510",
     "status": "completed"
    },
    "tags": []
   },
   "source": [
    "It's time to do lemmatization"
   ]
  },
  {
   "cell_type": "code",
   "execution_count": 19,
   "id": "harmful-circumstances",
   "metadata": {
    "execution": {
     "iopub.execute_input": "2021-04-28T03:25:56.267702Z",
     "iopub.status.busy": "2021-04-28T03:25:56.267148Z",
     "iopub.status.idle": "2021-04-28T03:26:03.571995Z",
     "shell.execute_reply": "2021-04-28T03:26:03.572485Z"
    },
    "papermill": {
     "duration": 7.381681,
     "end_time": "2021-04-28T03:26:03.572678",
     "exception": false,
     "start_time": "2021-04-28T03:25:56.190997",
     "status": "completed"
    },
    "tags": []
   },
   "outputs": [
    {
     "data": {
      "text/html": [
       "<div>\n",
       "<style scoped>\n",
       "    .dataframe tbody tr th:only-of-type {\n",
       "        vertical-align: middle;\n",
       "    }\n",
       "\n",
       "    .dataframe tbody tr th {\n",
       "        vertical-align: top;\n",
       "    }\n",
       "\n",
       "    .dataframe thead th {\n",
       "        text-align: right;\n",
       "    }\n",
       "</style>\n",
       "<table border=\"1\" class=\"dataframe\">\n",
       "  <thead>\n",
       "    <tr style=\"text-align: right;\">\n",
       "      <th></th>\n",
       "      <th>text</th>\n",
       "      <th>label</th>\n",
       "      <th>Number_of_words</th>\n",
       "      <th>cleaned_text</th>\n",
       "      <th>tokens</th>\n",
       "      <th>stopwordremove_tokens</th>\n",
       "      <th>lemmatized_text</th>\n",
       "    </tr>\n",
       "  </thead>\n",
       "  <tbody>\n",
       "    <tr>\n",
       "      <th>0</th>\n",
       "      <td>I was wondering if anyone out there could enli...</td>\n",
       "      <td>automobile</td>\n",
       "      <td>91</td>\n",
       "      <td>i was wondering if anyone out there could enli...</td>\n",
       "      <td>[i, was, wondering, if, anyone, out, there, co...</td>\n",
       "      <td>[wondering, anyone, could, enlighten, car, saw...</td>\n",
       "      <td>[wondering, anyone, could, enlighten, car, saw...</td>\n",
       "    </tr>\n",
       "    <tr>\n",
       "      <th>1</th>\n",
       "      <td>A fair number of brave souls who upgraded thei...</td>\n",
       "      <td>computer</td>\n",
       "      <td>90</td>\n",
       "      <td>a fair number of brave souls who upgraded thei...</td>\n",
       "      <td>[a, fair, number, of, brave, souls, who, upgra...</td>\n",
       "      <td>[fair, number, brave, souls, upgraded, si, clo...</td>\n",
       "      <td>[fair, number, brave, soul, upgraded, si, cloc...</td>\n",
       "    </tr>\n",
       "    <tr>\n",
       "      <th>2</th>\n",
       "      <td>well folks, my mac plus finally gave up the gh...</td>\n",
       "      <td>computer</td>\n",
       "      <td>307</td>\n",
       "      <td>well folks my mac plus finally gave up the gho...</td>\n",
       "      <td>[well, folks, my, mac, plus, finally, gave, up...</td>\n",
       "      <td>[well, folks, mac, plus, finally, gave, ghost,...</td>\n",
       "      <td>[well, folk, mac, plus, finally, gave, ghost, ...</td>\n",
       "    </tr>\n",
       "    <tr>\n",
       "      <th>3</th>\n",
       "      <td>\\nDo you have Weitek's address/phone number?  ...</td>\n",
       "      <td>computer</td>\n",
       "      <td>15</td>\n",
       "      <td>do you have weiteks addressphone number  id li...</td>\n",
       "      <td>[do, you, have, weiteks, addressphone, number,...</td>\n",
       "      <td>[weiteks, addressphone, number, id, like, get,...</td>\n",
       "      <td>[weiteks, addressphone, number, id, like, get,...</td>\n",
       "    </tr>\n",
       "    <tr>\n",
       "      <th>4</th>\n",
       "      <td>From article &lt;C5owCB.n3p@world.std.com&gt;, by to...</td>\n",
       "      <td>science</td>\n",
       "      <td>72</td>\n",
       "      <td>from article  by tombakerworldstdcom tom a bak...</td>\n",
       "      <td>[from, article, by, tombakerworldstdcom, tom, ...</td>\n",
       "      <td>[article, tombakerworldstdcom, tom, bakermy, u...</td>\n",
       "      <td>[article, tombakerworldstdcom, tom, bakermy, u...</td>\n",
       "    </tr>\n",
       "  </tbody>\n",
       "</table>\n",
       "</div>"
      ],
      "text/plain": [
       "                                                text       label  \\\n",
       "0  I was wondering if anyone out there could enli...  automobile   \n",
       "1  A fair number of brave souls who upgraded thei...    computer   \n",
       "2  well folks, my mac plus finally gave up the gh...    computer   \n",
       "3  \\nDo you have Weitek's address/phone number?  ...    computer   \n",
       "4  From article <C5owCB.n3p@world.std.com>, by to...     science   \n",
       "\n",
       "   Number_of_words                                       cleaned_text  \\\n",
       "0               91  i was wondering if anyone out there could enli...   \n",
       "1               90  a fair number of brave souls who upgraded thei...   \n",
       "2              307  well folks my mac plus finally gave up the gho...   \n",
       "3               15  do you have weiteks addressphone number  id li...   \n",
       "4               72  from article  by tombakerworldstdcom tom a bak...   \n",
       "\n",
       "                                              tokens  \\\n",
       "0  [i, was, wondering, if, anyone, out, there, co...   \n",
       "1  [a, fair, number, of, brave, souls, who, upgra...   \n",
       "2  [well, folks, my, mac, plus, finally, gave, up...   \n",
       "3  [do, you, have, weiteks, addressphone, number,...   \n",
       "4  [from, article, by, tombakerworldstdcom, tom, ...   \n",
       "\n",
       "                               stopwordremove_tokens  \\\n",
       "0  [wondering, anyone, could, enlighten, car, saw...   \n",
       "1  [fair, number, brave, souls, upgraded, si, clo...   \n",
       "2  [well, folks, mac, plus, finally, gave, ghost,...   \n",
       "3  [weiteks, addressphone, number, id, like, get,...   \n",
       "4  [article, tombakerworldstdcom, tom, bakermy, u...   \n",
       "\n",
       "                                     lemmatized_text  \n",
       "0  [wondering, anyone, could, enlighten, car, saw...  \n",
       "1  [fair, number, brave, soul, upgraded, si, cloc...  \n",
       "2  [well, folk, mac, plus, finally, gave, ghost, ...  \n",
       "3  [weiteks, addressphone, number, id, like, get,...  \n",
       "4  [article, tombakerworldstdcom, tom, bakermy, u...  "
      ]
     },
     "execution_count": 19,
     "metadata": {},
     "output_type": "execute_result"
    }
   ],
   "source": [
    "# lemmatization\n",
    "lem = WordNetLemmatizer()\n",
    "def lem_word(x):\n",
    "    return [lem.lemmatize(w) for w in x]\n",
    "\n",
    "df['lemmatized_text'] = df['stopwordremove_tokens'].apply(lem_word)\n",
    "df.head()"
   ]
  },
  {
   "cell_type": "markdown",
   "id": "amended-variety",
   "metadata": {
    "papermill": {
     "duration": 0.118614,
     "end_time": "2021-04-28T03:26:03.815867",
     "exception": false,
     "start_time": "2021-04-28T03:26:03.697253",
     "status": "completed"
    },
    "tags": []
   },
   "source": [
    "Now we are going to combine our text, this is our final text"
   ]
  },
  {
   "cell_type": "code",
   "execution_count": 20,
   "id": "unlike-manual",
   "metadata": {
    "execution": {
     "iopub.execute_input": "2021-04-28T03:26:04.072475Z",
     "iopub.status.busy": "2021-04-28T03:26:04.071641Z",
     "iopub.status.idle": "2021-04-28T03:26:04.193058Z",
     "shell.execute_reply": "2021-04-28T03:26:04.194053Z"
    },
    "papermill": {
     "duration": 0.256983,
     "end_time": "2021-04-28T03:26:04.194243",
     "exception": false,
     "start_time": "2021-04-28T03:26:03.937260",
     "status": "completed"
    },
    "tags": []
   },
   "outputs": [
    {
     "data": {
      "text/html": [
       "<div>\n",
       "<style scoped>\n",
       "    .dataframe tbody tr th:only-of-type {\n",
       "        vertical-align: middle;\n",
       "    }\n",
       "\n",
       "    .dataframe tbody tr th {\n",
       "        vertical-align: top;\n",
       "    }\n",
       "\n",
       "    .dataframe thead th {\n",
       "        text-align: right;\n",
       "    }\n",
       "</style>\n",
       "<table border=\"1\" class=\"dataframe\">\n",
       "  <thead>\n",
       "    <tr style=\"text-align: right;\">\n",
       "      <th></th>\n",
       "      <th>text</th>\n",
       "      <th>label</th>\n",
       "      <th>Number_of_words</th>\n",
       "      <th>cleaned_text</th>\n",
       "      <th>tokens</th>\n",
       "      <th>stopwordremove_tokens</th>\n",
       "      <th>lemmatized_text</th>\n",
       "      <th>final_text</th>\n",
       "    </tr>\n",
       "  </thead>\n",
       "  <tbody>\n",
       "    <tr>\n",
       "      <th>0</th>\n",
       "      <td>I was wondering if anyone out there could enli...</td>\n",
       "      <td>automobile</td>\n",
       "      <td>91</td>\n",
       "      <td>i was wondering if anyone out there could enli...</td>\n",
       "      <td>[i, was, wondering, if, anyone, out, there, co...</td>\n",
       "      <td>[wondering, anyone, could, enlighten, car, saw...</td>\n",
       "      <td>[wondering, anyone, could, enlighten, car, saw...</td>\n",
       "      <td>wondering anyone could enlighten car sawthe da...</td>\n",
       "    </tr>\n",
       "    <tr>\n",
       "      <th>1</th>\n",
       "      <td>A fair number of brave souls who upgraded thei...</td>\n",
       "      <td>computer</td>\n",
       "      <td>90</td>\n",
       "      <td>a fair number of brave souls who upgraded thei...</td>\n",
       "      <td>[a, fair, number, of, brave, souls, who, upgra...</td>\n",
       "      <td>[fair, number, brave, souls, upgraded, si, clo...</td>\n",
       "      <td>[fair, number, brave, soul, upgraded, si, cloc...</td>\n",
       "      <td>fair number brave soul upgraded si clock oscil...</td>\n",
       "    </tr>\n",
       "    <tr>\n",
       "      <th>2</th>\n",
       "      <td>well folks, my mac plus finally gave up the gh...</td>\n",
       "      <td>computer</td>\n",
       "      <td>307</td>\n",
       "      <td>well folks my mac plus finally gave up the gho...</td>\n",
       "      <td>[well, folks, my, mac, plus, finally, gave, up...</td>\n",
       "      <td>[well, folks, mac, plus, finally, gave, ghost,...</td>\n",
       "      <td>[well, folk, mac, plus, finally, gave, ghost, ...</td>\n",
       "      <td>well folk mac plus finally gave ghost weekend ...</td>\n",
       "    </tr>\n",
       "    <tr>\n",
       "      <th>3</th>\n",
       "      <td>\\nDo you have Weitek's address/phone number?  ...</td>\n",
       "      <td>computer</td>\n",
       "      <td>15</td>\n",
       "      <td>do you have weiteks addressphone number  id li...</td>\n",
       "      <td>[do, you, have, weiteks, addressphone, number,...</td>\n",
       "      <td>[weiteks, addressphone, number, id, like, get,...</td>\n",
       "      <td>[weiteks, addressphone, number, id, like, get,...</td>\n",
       "      <td>weiteks addressphone number id like get inform...</td>\n",
       "    </tr>\n",
       "    <tr>\n",
       "      <th>4</th>\n",
       "      <td>From article &lt;C5owCB.n3p@world.std.com&gt;, by to...</td>\n",
       "      <td>science</td>\n",
       "      <td>72</td>\n",
       "      <td>from article  by tombakerworldstdcom tom a bak...</td>\n",
       "      <td>[from, article, by, tombakerworldstdcom, tom, ...</td>\n",
       "      <td>[article, tombakerworldstdcom, tom, bakermy, u...</td>\n",
       "      <td>[article, tombakerworldstdcom, tom, bakermy, u...</td>\n",
       "      <td>article tombakerworldstdcom tom bakermy unders...</td>\n",
       "    </tr>\n",
       "  </tbody>\n",
       "</table>\n",
       "</div>"
      ],
      "text/plain": [
       "                                                text       label  \\\n",
       "0  I was wondering if anyone out there could enli...  automobile   \n",
       "1  A fair number of brave souls who upgraded thei...    computer   \n",
       "2  well folks, my mac plus finally gave up the gh...    computer   \n",
       "3  \\nDo you have Weitek's address/phone number?  ...    computer   \n",
       "4  From article <C5owCB.n3p@world.std.com>, by to...     science   \n",
       "\n",
       "   Number_of_words                                       cleaned_text  \\\n",
       "0               91  i was wondering if anyone out there could enli...   \n",
       "1               90  a fair number of brave souls who upgraded thei...   \n",
       "2              307  well folks my mac plus finally gave up the gho...   \n",
       "3               15  do you have weiteks addressphone number  id li...   \n",
       "4               72  from article  by tombakerworldstdcom tom a bak...   \n",
       "\n",
       "                                              tokens  \\\n",
       "0  [i, was, wondering, if, anyone, out, there, co...   \n",
       "1  [a, fair, number, of, brave, souls, who, upgra...   \n",
       "2  [well, folks, my, mac, plus, finally, gave, up...   \n",
       "3  [do, you, have, weiteks, addressphone, number,...   \n",
       "4  [from, article, by, tombakerworldstdcom, tom, ...   \n",
       "\n",
       "                               stopwordremove_tokens  \\\n",
       "0  [wondering, anyone, could, enlighten, car, saw...   \n",
       "1  [fair, number, brave, souls, upgraded, si, clo...   \n",
       "2  [well, folks, mac, plus, finally, gave, ghost,...   \n",
       "3  [weiteks, addressphone, number, id, like, get,...   \n",
       "4  [article, tombakerworldstdcom, tom, bakermy, u...   \n",
       "\n",
       "                                     lemmatized_text  \\\n",
       "0  [wondering, anyone, could, enlighten, car, saw...   \n",
       "1  [fair, number, brave, soul, upgraded, si, cloc...   \n",
       "2  [well, folk, mac, plus, finally, gave, ghost, ...   \n",
       "3  [weiteks, addressphone, number, id, like, get,...   \n",
       "4  [article, tombakerworldstdcom, tom, bakermy, u...   \n",
       "\n",
       "                                          final_text  \n",
       "0  wondering anyone could enlighten car sawthe da...  \n",
       "1  fair number brave soul upgraded si clock oscil...  \n",
       "2  well folk mac plus finally gave ghost weekend ...  \n",
       "3  weiteks addressphone number id like get inform...  \n",
       "4  article tombakerworldstdcom tom bakermy unders...  "
      ]
     },
     "execution_count": 20,
     "metadata": {},
     "output_type": "execute_result"
    }
   ],
   "source": [
    "def combine_text(list_of_text):\n",
    "    '''Takes a list of text and combines them into one large chunk of text.'''\n",
    "    combined_text = ' '.join(list_of_text)\n",
    "    return combined_text\n",
    "\n",
    "df['final_text'] = df['lemmatized_text'].apply(lambda x : combine_text(x))\n",
    "df.head()"
   ]
  },
  {
   "cell_type": "markdown",
   "id": "practical-anatomy",
   "metadata": {
    "papermill": {
     "duration": 0.196094,
     "end_time": "2021-04-28T03:26:04.507063",
     "exception": false,
     "start_time": "2021-04-28T03:26:04.310969",
     "status": "completed"
    },
    "tags": []
   },
   "source": [
    "So we have cleaned the dataset and remove stopwords, it's possible that there are rows in which the text length is 0.We will find those rows and remove them"
   ]
  },
  {
   "cell_type": "code",
   "execution_count": 21,
   "id": "pressing-voice",
   "metadata": {
    "execution": {
     "iopub.execute_input": "2021-04-28T03:26:04.731304Z",
     "iopub.status.busy": "2021-04-28T03:26:04.730616Z",
     "iopub.status.idle": "2021-04-28T03:26:04.998390Z",
     "shell.execute_reply": "2021-04-28T03:26:04.997206Z"
    },
    "papermill": {
     "duration": 0.390665,
     "end_time": "2021-04-28T03:26:04.998517",
     "exception": false,
     "start_time": "2021-04-28T03:26:04.607852",
     "status": "completed"
    },
    "tags": []
   },
   "outputs": [
    {
     "data": {
      "text/html": [
       "<div>\n",
       "<style scoped>\n",
       "    .dataframe tbody tr th:only-of-type {\n",
       "        vertical-align: middle;\n",
       "    }\n",
       "\n",
       "    .dataframe tbody tr th {\n",
       "        vertical-align: top;\n",
       "    }\n",
       "\n",
       "    .dataframe thead th {\n",
       "        text-align: right;\n",
       "    }\n",
       "</style>\n",
       "<table border=\"1\" class=\"dataframe\">\n",
       "  <thead>\n",
       "    <tr style=\"text-align: right;\">\n",
       "      <th></th>\n",
       "      <th>text</th>\n",
       "      <th>label</th>\n",
       "      <th>Number_of_words</th>\n",
       "      <th>cleaned_text</th>\n",
       "      <th>tokens</th>\n",
       "      <th>stopwordremove_tokens</th>\n",
       "      <th>lemmatized_text</th>\n",
       "      <th>final_text</th>\n",
       "      <th>Final_no_of_words</th>\n",
       "    </tr>\n",
       "  </thead>\n",
       "  <tbody>\n",
       "    <tr>\n",
       "      <th>0</th>\n",
       "      <td>I was wondering if anyone out there could enli...</td>\n",
       "      <td>automobile</td>\n",
       "      <td>91</td>\n",
       "      <td>i was wondering if anyone out there could enli...</td>\n",
       "      <td>[i, was, wondering, if, anyone, out, there, co...</td>\n",
       "      <td>[wondering, anyone, could, enlighten, car, saw...</td>\n",
       "      <td>[wondering, anyone, could, enlighten, car, saw...</td>\n",
       "      <td>wondering anyone could enlighten car sawthe da...</td>\n",
       "      <td>42</td>\n",
       "    </tr>\n",
       "    <tr>\n",
       "      <th>1</th>\n",
       "      <td>A fair number of brave souls who upgraded thei...</td>\n",
       "      <td>computer</td>\n",
       "      <td>90</td>\n",
       "      <td>a fair number of brave souls who upgraded thei...</td>\n",
       "      <td>[a, fair, number, of, brave, souls, who, upgra...</td>\n",
       "      <td>[fair, number, brave, souls, upgraded, si, clo...</td>\n",
       "      <td>[fair, number, brave, soul, upgraded, si, cloc...</td>\n",
       "      <td>fair number brave soul upgraded si clock oscil...</td>\n",
       "      <td>52</td>\n",
       "    </tr>\n",
       "    <tr>\n",
       "      <th>2</th>\n",
       "      <td>well folks, my mac plus finally gave up the gh...</td>\n",
       "      <td>computer</td>\n",
       "      <td>307</td>\n",
       "      <td>well folks my mac plus finally gave up the gho...</td>\n",
       "      <td>[well, folks, my, mac, plus, finally, gave, up...</td>\n",
       "      <td>[well, folks, mac, plus, finally, gave, ghost,...</td>\n",
       "      <td>[well, folk, mac, plus, finally, gave, ghost, ...</td>\n",
       "      <td>well folk mac plus finally gave ghost weekend ...</td>\n",
       "      <td>149</td>\n",
       "    </tr>\n",
       "    <tr>\n",
       "      <th>3</th>\n",
       "      <td>\\nDo you have Weitek's address/phone number?  ...</td>\n",
       "      <td>computer</td>\n",
       "      <td>15</td>\n",
       "      <td>do you have weiteks addressphone number  id li...</td>\n",
       "      <td>[do, you, have, weiteks, addressphone, number,...</td>\n",
       "      <td>[weiteks, addressphone, number, id, like, get,...</td>\n",
       "      <td>[weiteks, addressphone, number, id, like, get,...</td>\n",
       "      <td>weiteks addressphone number id like get inform...</td>\n",
       "      <td>8</td>\n",
       "    </tr>\n",
       "    <tr>\n",
       "      <th>4</th>\n",
       "      <td>From article &lt;C5owCB.n3p@world.std.com&gt;, by to...</td>\n",
       "      <td>science</td>\n",
       "      <td>72</td>\n",
       "      <td>from article  by tombakerworldstdcom tom a bak...</td>\n",
       "      <td>[from, article, by, tombakerworldstdcom, tom, ...</td>\n",
       "      <td>[article, tombakerworldstdcom, tom, bakermy, u...</td>\n",
       "      <td>[article, tombakerworldstdcom, tom, bakermy, u...</td>\n",
       "      <td>article tombakerworldstdcom tom bakermy unders...</td>\n",
       "      <td>35</td>\n",
       "    </tr>\n",
       "  </tbody>\n",
       "</table>\n",
       "</div>"
      ],
      "text/plain": [
       "                                                text       label  \\\n",
       "0  I was wondering if anyone out there could enli...  automobile   \n",
       "1  A fair number of brave souls who upgraded thei...    computer   \n",
       "2  well folks, my mac plus finally gave up the gh...    computer   \n",
       "3  \\nDo you have Weitek's address/phone number?  ...    computer   \n",
       "4  From article <C5owCB.n3p@world.std.com>, by to...     science   \n",
       "\n",
       "   Number_of_words                                       cleaned_text  \\\n",
       "0               91  i was wondering if anyone out there could enli...   \n",
       "1               90  a fair number of brave souls who upgraded thei...   \n",
       "2              307  well folks my mac plus finally gave up the gho...   \n",
       "3               15  do you have weiteks addressphone number  id li...   \n",
       "4               72  from article  by tombakerworldstdcom tom a bak...   \n",
       "\n",
       "                                              tokens  \\\n",
       "0  [i, was, wondering, if, anyone, out, there, co...   \n",
       "1  [a, fair, number, of, brave, souls, who, upgra...   \n",
       "2  [well, folks, my, mac, plus, finally, gave, up...   \n",
       "3  [do, you, have, weiteks, addressphone, number,...   \n",
       "4  [from, article, by, tombakerworldstdcom, tom, ...   \n",
       "\n",
       "                               stopwordremove_tokens  \\\n",
       "0  [wondering, anyone, could, enlighten, car, saw...   \n",
       "1  [fair, number, brave, souls, upgraded, si, clo...   \n",
       "2  [well, folks, mac, plus, finally, gave, ghost,...   \n",
       "3  [weiteks, addressphone, number, id, like, get,...   \n",
       "4  [article, tombakerworldstdcom, tom, bakermy, u...   \n",
       "\n",
       "                                     lemmatized_text  \\\n",
       "0  [wondering, anyone, could, enlighten, car, saw...   \n",
       "1  [fair, number, brave, soul, upgraded, si, cloc...   \n",
       "2  [well, folk, mac, plus, finally, gave, ghost, ...   \n",
       "3  [weiteks, addressphone, number, id, like, get,...   \n",
       "4  [article, tombakerworldstdcom, tom, bakermy, u...   \n",
       "\n",
       "                                          final_text  Final_no_of_words  \n",
       "0  wondering anyone could enlighten car sawthe da...                 42  \n",
       "1  fair number brave soul upgraded si clock oscil...                 52  \n",
       "2  well folk mac plus finally gave ghost weekend ...                149  \n",
       "3  weiteks addressphone number id like get inform...                  8  \n",
       "4  article tombakerworldstdcom tom bakermy unders...                 35  "
      ]
     },
     "execution_count": 21,
     "metadata": {},
     "output_type": "execute_result"
    }
   ],
   "source": [
    "df['Final_no_of_words'] = df['final_text'].apply(lambda x:len(str(x).split()))\n",
    "df.head()"
   ]
  },
  {
   "cell_type": "code",
   "execution_count": 22,
   "id": "perceived-coordinator",
   "metadata": {
    "execution": {
     "iopub.execute_input": "2021-04-28T03:26:05.153132Z",
     "iopub.status.busy": "2021-04-28T03:26:05.152315Z",
     "iopub.status.idle": "2021-04-28T03:26:05.160891Z",
     "shell.execute_reply": "2021-04-28T03:26:05.160437Z"
    },
    "papermill": {
     "duration": 0.088062,
     "end_time": "2021-04-28T03:26:05.161032",
     "exception": false,
     "start_time": "2021-04-28T03:26:05.072970",
     "status": "completed"
    },
    "tags": []
   },
   "outputs": [
    {
     "data": {
      "text/plain": [
       "count    11014.000000\n",
       "mean        93.284547\n",
       "std        269.498465\n",
       "min          0.000000\n",
       "25%         21.000000\n",
       "50%         42.000000\n",
       "75%         83.000000\n",
       "max       6433.000000\n",
       "Name: Final_no_of_words, dtype: float64"
      ]
     },
     "execution_count": 22,
     "metadata": {},
     "output_type": "execute_result"
    }
   ],
   "source": [
    "# basic stats\n",
    "df['Final_no_of_words'].describe()"
   ]
  },
  {
   "cell_type": "code",
   "execution_count": 23,
   "id": "urban-warner",
   "metadata": {
    "execution": {
     "iopub.execute_input": "2021-04-28T03:26:05.316620Z",
     "iopub.status.busy": "2021-04-28T03:26:05.315764Z",
     "iopub.status.idle": "2021-04-28T03:26:05.327933Z",
     "shell.execute_reply": "2021-04-28T03:26:05.327279Z"
    },
    "papermill": {
     "duration": 0.091787,
     "end_time": "2021-04-28T03:26:05.328079",
     "exception": false,
     "start_time": "2021-04-28T03:26:05.236292",
     "status": "completed"
    },
    "tags": []
   },
   "outputs": [
    {
     "name": "stdout",
     "output_type": "stream",
     "text": [
      "20\n"
     ]
    }
   ],
   "source": [
    "# number of rows with text lenth = 0\n",
    "print(len(df[df['Final_no_of_words']==0]))\n",
    "\n",
    "# drop those rows\n",
    "df.drop(df[df['Final_no_of_words']==0].index,inplace=True)"
   ]
  },
  {
   "cell_type": "markdown",
   "id": "bored-editor",
   "metadata": {
    "papermill": {
     "duration": 0.074588,
     "end_time": "2021-04-28T03:26:05.478401",
     "exception": false,
     "start_time": "2021-04-28T03:26:05.403813",
     "status": "completed"
    },
    "tags": []
   },
   "source": [
    "Now our text has been cleaned, we will convert the labels into numeric values using LableEncoder()"
   ]
  },
  {
   "cell_type": "code",
   "execution_count": 24,
   "id": "retained-satin",
   "metadata": {
    "execution": {
     "iopub.execute_input": "2021-04-28T03:26:05.638452Z",
     "iopub.status.busy": "2021-04-28T03:26:05.637872Z",
     "iopub.status.idle": "2021-04-28T03:26:05.642709Z",
     "shell.execute_reply": "2021-04-28T03:26:05.642237Z"
    },
    "papermill": {
     "duration": 0.089409,
     "end_time": "2021-04-28T03:26:05.642816",
     "exception": false,
     "start_time": "2021-04-28T03:26:05.553407",
     "status": "completed"
    },
    "tags": []
   },
   "outputs": [
    {
     "data": {
      "text/plain": [
       "array([1, 2, 7, 4, 3, 5, 6, 0, 8])"
      ]
     },
     "execution_count": 24,
     "metadata": {},
     "output_type": "execute_result"
    }
   ],
   "source": [
    "# label_encoder object knows how to understand word labels.\n",
    "label_encoder = preprocessing.LabelEncoder()\n",
    "  \n",
    "# Encode labels in column 'species'.\n",
    "df['target']= label_encoder.fit_transform(df['label'])\n",
    "  \n",
    "df['target'].unique()"
   ]
  },
  {
   "cell_type": "markdown",
   "id": "excess-welding",
   "metadata": {
    "papermill": {
     "duration": 0.075607,
     "end_time": "2021-04-28T03:26:05.793793",
     "exception": false,
     "start_time": "2021-04-28T03:26:05.718186",
     "status": "completed"
    },
    "tags": []
   },
   "source": [
    "# Dependent and Independent Variable"
   ]
  },
  {
   "cell_type": "code",
   "execution_count": 25,
   "id": "operational-democracy",
   "metadata": {
    "execution": {
     "iopub.execute_input": "2021-04-28T03:26:05.949637Z",
     "iopub.status.busy": "2021-04-28T03:26:05.948943Z",
     "iopub.status.idle": "2021-04-28T03:26:05.951951Z",
     "shell.execute_reply": "2021-04-28T03:26:05.951549Z"
    },
    "papermill": {
     "duration": 0.082606,
     "end_time": "2021-04-28T03:26:05.952061",
     "exception": false,
     "start_time": "2021-04-28T03:26:05.869455",
     "status": "completed"
    },
    "tags": []
   },
   "outputs": [],
   "source": [
    "# dependent and independent variable\n",
    "X = df['final_text']\n",
    "y = df['target']"
   ]
  },
  {
   "cell_type": "code",
   "execution_count": 26,
   "id": "sustained-hospital",
   "metadata": {
    "execution": {
     "iopub.execute_input": "2021-04-28T03:26:06.107805Z",
     "iopub.status.busy": "2021-04-28T03:26:06.107021Z",
     "iopub.status.idle": "2021-04-28T03:26:06.110791Z",
     "shell.execute_reply": "2021-04-28T03:26:06.110384Z"
    },
    "papermill": {
     "duration": 0.083089,
     "end_time": "2021-04-28T03:26:06.110900",
     "exception": false,
     "start_time": "2021-04-28T03:26:06.027811",
     "status": "completed"
    },
    "tags": []
   },
   "outputs": [
    {
     "data": {
      "text/plain": [
       "((10994,), (10994,))"
      ]
     },
     "execution_count": 26,
     "metadata": {},
     "output_type": "execute_result"
    }
   ],
   "source": [
    "X.shape,y.shape"
   ]
  },
  {
   "cell_type": "markdown",
   "id": "ultimate-zealand",
   "metadata": {
    "papermill": {
     "duration": 0.07577,
     "end_time": "2021-04-28T03:26:06.262981",
     "exception": false,
     "start_time": "2021-04-28T03:26:06.187211",
     "status": "completed"
    },
    "tags": []
   },
   "source": [
    "# Bag-of-Words"
   ]
  },
  {
   "cell_type": "markdown",
   "id": "intelligent-certification",
   "metadata": {
    "papermill": {
     "duration": 0.075635,
     "end_time": "2021-04-28T03:26:06.414311",
     "exception": false,
     "start_time": "2021-04-28T03:26:06.338676",
     "status": "completed"
    },
    "tags": []
   },
   "source": [
    "CountVectorizer is used to transform a given text into a vector on the basis of the frequency(count) of each word that occurs in the entire text.It involves counting the number of occurences each words appears in a document(text)"
   ]
  },
  {
   "cell_type": "code",
   "execution_count": 27,
   "id": "partial-nutrition",
   "metadata": {
    "execution": {
     "iopub.execute_input": "2021-04-28T03:26:06.609496Z",
     "iopub.status.busy": "2021-04-28T03:26:06.604326Z",
     "iopub.status.idle": "2021-04-28T03:26:07.988971Z",
     "shell.execute_reply": "2021-04-28T03:26:07.989388Z"
    },
    "papermill": {
     "duration": 1.499595,
     "end_time": "2021-04-28T03:26:07.989534",
     "exception": false,
     "start_time": "2021-04-28T03:26:06.489939",
     "status": "completed"
    },
    "tags": []
   },
   "outputs": [
    {
     "name": "stdout",
     "output_type": "stream",
     "text": [
      "[[0 0 0 ... 0 0 0]]\n"
     ]
    }
   ],
   "source": [
    "count_vectorizer = CountVectorizer()\n",
    "count_vector = count_vectorizer.fit_transform(X)\n",
    "print(count_vector[0].todense())"
   ]
  },
  {
   "cell_type": "markdown",
   "id": "naughty-credits",
   "metadata": {
    "papermill": {
     "duration": 0.075738,
     "end_time": "2021-04-28T03:26:08.141650",
     "exception": false,
     "start_time": "2021-04-28T03:26:08.065912",
     "status": "completed"
    },
    "tags": []
   },
   "source": [
    "# Tf-Idf"
   ]
  },
  {
   "cell_type": "markdown",
   "id": "solved-memphis",
   "metadata": {
    "papermill": {
     "duration": 0.075345,
     "end_time": "2021-04-28T03:26:08.293274",
     "exception": false,
     "start_time": "2021-04-28T03:26:08.217929",
     "status": "completed"
    },
    "tags": []
   },
   "source": [
    "Tf-Idf stands for Term Frequency-Inverse document frequency.It is a techinque to quantify a word in documents,we generally compute a weight to each word which signifies the importance of the word which signifies the importance of the word in the document and corpus"
   ]
  },
  {
   "cell_type": "code",
   "execution_count": 28,
   "id": "burning-thong",
   "metadata": {
    "execution": {
     "iopub.execute_input": "2021-04-28T03:26:08.531425Z",
     "iopub.status.busy": "2021-04-28T03:26:08.510920Z",
     "iopub.status.idle": "2021-04-28T03:26:11.842719Z",
     "shell.execute_reply": "2021-04-28T03:26:11.842244Z"
    },
    "papermill": {
     "duration": 3.472475,
     "end_time": "2021-04-28T03:26:11.842842",
     "exception": false,
     "start_time": "2021-04-28T03:26:08.370367",
     "status": "completed"
    },
    "tags": []
   },
   "outputs": [
    {
     "name": "stdout",
     "output_type": "stream",
     "text": [
      "[[0. 0. 0. ... 0. 0. 0.]]\n"
     ]
    }
   ],
   "source": [
    "tfidf_vectorizer = TfidfVectorizer(min_df = 2,max_df = 0.5,ngram_range = (1,2))\n",
    "tfidf = tfidf_vectorizer.fit_transform(X)\n",
    "print(tfidf[0].todense())"
   ]
  },
  {
   "cell_type": "markdown",
   "id": "friendly-driving",
   "metadata": {
    "papermill": {
     "duration": 0.079447,
     "end_time": "2021-04-28T03:26:12.000047",
     "exception": false,
     "start_time": "2021-04-28T03:26:11.920600",
     "status": "completed"
    },
    "tags": []
   },
   "source": [
    "# SMOTE technique to balance the dataset"
   ]
  },
  {
   "cell_type": "markdown",
   "id": "mechanical-palmer",
   "metadata": {
    "papermill": {
     "duration": 0.075732,
     "end_time": "2021-04-28T03:26:12.153181",
     "exception": false,
     "start_time": "2021-04-28T03:26:12.077449",
     "status": "completed"
    },
    "tags": []
   },
   "source": [
    "So we can clearly see that our dataset is imbalanced dataset.We will use SMOTE technique to balance the dataset.SMOTE is an oversampling technique where the synthetic samples are generated for the minority class.The algorithm helps to overcome the overfitting problem posed by random sampling. "
   ]
  },
  {
   "cell_type": "code",
   "execution_count": 29,
   "id": "humanitarian-variance",
   "metadata": {
    "execution": {
     "iopub.execute_input": "2021-04-28T03:26:12.312196Z",
     "iopub.status.busy": "2021-04-28T03:26:12.311328Z",
     "iopub.status.idle": "2021-04-28T03:26:13.075173Z",
     "shell.execute_reply": "2021-04-28T03:26:13.075597Z"
    },
    "papermill": {
     "duration": 0.845813,
     "end_time": "2021-04-28T03:26:13.075741",
     "exception": false,
     "start_time": "2021-04-28T03:26:12.229928",
     "status": "completed"
    },
    "tags": []
   },
   "outputs": [
    {
     "name": "stderr",
     "output_type": "stream",
     "text": [
      "/opt/conda/lib/python3.7/site-packages/seaborn/_decorators.py:43: FutureWarning: Pass the following variable as a keyword arg: x. From version 0.12, the only valid positional argument will be `data`, and passing other arguments without an explicit keyword will result in an error or misinterpretation.\n",
      "  FutureWarning\n"
     ]
    },
    {
     "data": {
      "text/plain": [
       "<AxesSubplot:xlabel='target', ylabel='count'>"
      ]
     },
     "execution_count": 29,
     "metadata": {},
     "output_type": "execute_result"
    },
    {
     "data": {
      "image/png": "[encoded data removed]",
      "text/plain": [
       "<Figure size 432x288 with 1 Axes>"
      ]
     },
     "metadata": {},
     "output_type": "display_data"
    }
   ],
   "source": [
    "# count vector\n",
    "smote = SMOTE(random_state = 402)\n",
    "X_smote, Y_smote = smote.fit_resample(count_vector,y)\n",
    "\n",
    "\n",
    "sns.countplot(Y_smote)"
   ]
  },
  {
   "cell_type": "code",
   "execution_count": 30,
   "id": "individual-arkansas",
   "metadata": {
    "execution": {
     "iopub.execute_input": "2021-04-28T03:26:13.237551Z",
     "iopub.status.busy": "2021-04-28T03:26:13.236523Z",
     "iopub.status.idle": "2021-04-28T03:26:14.024138Z",
     "shell.execute_reply": "2021-04-28T03:26:14.024567Z"
    },
    "papermill": {
     "duration": 0.870533,
     "end_time": "2021-04-28T03:26:14.024711",
     "exception": false,
     "start_time": "2021-04-28T03:26:13.154178",
     "status": "completed"
    },
    "tags": []
   },
   "outputs": [
    {
     "name": "stderr",
     "output_type": "stream",
     "text": [
      "/opt/conda/lib/python3.7/site-packages/seaborn/_decorators.py:43: FutureWarning: Pass the following variable as a keyword arg: x. From version 0.12, the only valid positional argument will be `data`, and passing other arguments without an explicit keyword will result in an error or misinterpretation.\n",
      "  FutureWarning\n"
     ]
    },
    {
     "data": {
      "text/plain": [
       "<AxesSubplot:xlabel='target', ylabel='count'>"
      ]
     },
     "execution_count": 30,
     "metadata": {},
     "output_type": "execute_result"
    },
    {
     "data": {
      "image/png": "[encoded data removed]",
      "text/plain": [
       "<Figure size 432x288 with 1 Axes>"
      ]
     },
     "metadata": {},
     "output_type": "display_data"
    }
   ],
   "source": [
    "# tfidf\n",
    "smote = SMOTE(random_state = 402)\n",
    "X_smote_tfidf, Y_smote_tfidf = smote.fit_resample(tfidf,y)\n",
    "\n",
    "sns.countplot(Y_smote_tfidf)"
   ]
  },
  {
   "cell_type": "markdown",
   "id": "representative-forge",
   "metadata": {
    "papermill": {
     "duration": 0.079104,
     "end_time": "2021-04-28T03:26:14.183176",
     "exception": false,
     "start_time": "2021-04-28T03:26:14.104072",
     "status": "completed"
    },
    "tags": []
   },
   "source": [
    "## Train-Test Split"
   ]
  },
  {
   "cell_type": "code",
   "execution_count": 31,
   "id": "mediterranean-venice",
   "metadata": {
    "execution": {
     "iopub.execute_input": "2021-04-28T03:26:14.347817Z",
     "iopub.status.busy": "2021-04-28T03:26:14.346864Z",
     "iopub.status.idle": "2021-04-28T03:26:14.360024Z",
     "shell.execute_reply": "2021-04-28T03:26:14.359621Z"
    },
    "papermill": {
     "duration": 0.097666,
     "end_time": "2021-04-28T03:26:14.360137",
     "exception": false,
     "start_time": "2021-04-28T03:26:14.262471",
     "status": "completed"
    },
    "tags": []
   },
   "outputs": [
    {
     "data": {
      "text/plain": [
       "((20584, 137337), (5147, 137337), (20584,), (5147,))"
      ]
     },
     "execution_count": 31,
     "metadata": {},
     "output_type": "execute_result"
    }
   ],
   "source": [
    "# train-test split countvector\n",
    "X_train, X_test, y_train, y_test = train_test_split(X_smote, Y_smote, test_size = 0.20, random_state = 0)\n",
    "X_train.shape, X_test.shape,y_train.shape, y_test.shape"
   ]
  },
  {
   "cell_type": "code",
   "execution_count": 32,
   "id": "buried-reduction",
   "metadata": {
    "execution": {
     "iopub.execute_input": "2021-04-28T03:26:14.525686Z",
     "iopub.status.busy": "2021-04-28T03:26:14.524610Z",
     "iopub.status.idle": "2021-04-28T03:26:14.547928Z",
     "shell.execute_reply": "2021-04-28T03:26:14.548684Z"
    },
    "papermill": {
     "duration": 0.109407,
     "end_time": "2021-04-28T03:26:14.548894",
     "exception": false,
     "start_time": "2021-04-28T03:26:14.439487",
     "status": "completed"
    },
    "tags": []
   },
   "outputs": [],
   "source": [
    "# train-test split tfidf\n",
    "X_train_tfidf, X_test_tfidf, y_train_tfidf, y_test_tfidf = train_test_split(X_smote_tfidf, Y_smote_tfidf , test_size = 0.20, random_state = 0)"
   ]
  },
  {
   "cell_type": "code",
   "execution_count": 33,
   "id": "global-legislature",
   "metadata": {
    "execution": {
     "iopub.execute_input": "2021-04-28T03:26:14.826806Z",
     "iopub.status.busy": "2021-04-28T03:26:14.825957Z",
     "iopub.status.idle": "2021-04-28T03:26:14.828533Z",
     "shell.execute_reply": "2021-04-28T03:26:14.829257Z"
    },
    "papermill": {
     "duration": 0.141315,
     "end_time": "2021-04-28T03:26:14.829472",
     "exception": false,
     "start_time": "2021-04-28T03:26:14.688157",
     "status": "completed"
    },
    "tags": []
   },
   "outputs": [],
   "source": [
    "training_time_container = {'linear_svm_tfidf':0,'linear_svm':0,'mnb_naive_bayes_tfidf':0,\n",
    "                         'mnb_naive_bayes':0,'random_forest_tfidf':0,'random_forest':0,\n",
    "                          'logistic_reg':0,'logistic_reg_tfidf':0}\n",
    "prediction_time_container = {'linear_svm_tfidf':0,'linear_svm':0,'mnb_naive_bayes_tfidf':0,\n",
    "                         'mnb_naive_bayes':0,'random_forest_tfidf':0,'random_forest':0,\n",
    "                            'logistic_reg':0,'logistic_reg_tfidf':0}\n",
    "accuracy_container = {'linear_svm_tfidf':0,'linear_svm':0,'mnb_naive_bayes_tfidf':0,\n",
    "                         'mnb_naive_bayes':0,'random_forest_tfidf':0,'random_forest':0,\n",
    "                     'logistic_reg':0,'logistic_reg_tfidf':0}"
   ]
  },
  {
   "cell_type": "markdown",
   "id": "killing-conducting",
   "metadata": {
    "papermill": {
     "duration": 0.132217,
     "end_time": "2021-04-28T03:26:15.091582",
     "exception": false,
     "start_time": "2021-04-28T03:26:14.959365",
     "status": "completed"
    },
    "tags": []
   },
   "source": [
    "# Logistic Regression"
   ]
  },
  {
   "cell_type": "code",
   "execution_count": 34,
   "id": "guilty-cooling",
   "metadata": {
    "execution": {
     "iopub.execute_input": "2021-04-28T03:26:15.441071Z",
     "iopub.status.busy": "2021-04-28T03:26:15.440218Z",
     "iopub.status.idle": "2021-04-28T03:26:52.976100Z",
     "shell.execute_reply": "2021-04-28T03:26:52.975478Z"
    },
    "papermill": {
     "duration": 37.741813,
     "end_time": "2021-04-28T03:26:52.976248",
     "exception": false,
     "start_time": "2021-04-28T03:26:15.234435",
     "status": "completed"
    },
    "tags": []
   },
   "outputs": [
    {
     "name": "stdout",
     "output_type": "stream",
     "text": [
      "Training Accuracy :  0.8101923824329577\n",
      "Testing Accuracy:  0.6790363318437925\n",
      "Training Time:  37.385868549346924\n",
      "Prediction Time:  0.01749396324157715\n",
      "[[356   6   2  12   9  21 176   2   5]\n",
      " [ 21 344   9  29   6   9 128  15  10]\n",
      " [ 10  10 433   7   3   6  30  33   1]\n",
      " [  9   4   7 396   4   4 132   7   6]\n",
      " [ 26  26   3  22 348  20  93  11   7]\n",
      " [ 31   9   7  18  21 346 118   4   6]\n",
      " [  4   8  15   4   0   4 539   9   8]\n",
      " [ 17  29  47  11  19  10  87 351  10]\n",
      " [ 14  17   7   5   7   5 154   6 382]]\n"
     ]
    },
    {
     "name": "stderr",
     "output_type": "stream",
     "text": [
      "/opt/conda/lib/python3.7/site-packages/sklearn/linear_model/_logistic.py:765: ConvergenceWarning: lbfgs failed to converge (status=1):\n",
      "STOP: TOTAL NO. of ITERATIONS REACHED LIMIT.\n",
      "\n",
      "Increase the number of iterations (max_iter) or scale the data as shown in:\n",
      "    https://scikit-learn.org/stable/modules/preprocessing.html\n",
      "Please also refer to the documentation for alternative solver options:\n",
      "    https://scikit-learn.org/stable/modules/linear_model.html#logistic-regression\n",
      "  extra_warning_msg=_LOGISTIC_SOLVER_CONVERGENCE_MSG)\n"
     ]
    }
   ],
   "source": [
    "# on countvector\n",
    "lg = LogisticRegression(C = 1.0)\n",
    "#Fitting the model \n",
    "t0=time()\n",
    "lg.fit(X_train,y_train)\n",
    "training_time_container['logistic_reg']=time()-t0\n",
    "\n",
    "\n",
    "# Predicting the Test set results\n",
    "t0 = time()\n",
    "y_pred_lg = lg.predict(X_test)\n",
    "prediction_time_container['logistic_reg']=time()-t0\n",
    "\n",
    "lg_test_accuracy =  accuracy_score(y_test,y_pred_lg)\n",
    "accuracy_container['logistic_reg'] = lg_test_accuracy\n",
    "\n",
    "print('Training Accuracy : ', accuracy_score(y_train,lg.predict(X_train)))\n",
    "print('Testing Accuracy: ',lg_test_accuracy)\n",
    "print(\"Training Time: \",training_time_container['logistic_reg'])\n",
    "print(\"Prediction Time: \",prediction_time_container['logistic_reg'])\n",
    "print(confusion_matrix(y_test,y_pred_lg))"
   ]
  },
  {
   "cell_type": "code",
   "execution_count": 35,
   "id": "accurate-twins",
   "metadata": {
    "execution": {
     "iopub.execute_input": "2021-04-28T03:26:53.148674Z",
     "iopub.status.busy": "2021-04-28T03:26:53.147763Z",
     "iopub.status.idle": "2021-04-28T03:27:34.777318Z",
     "shell.execute_reply": "2021-04-28T03:27:34.776866Z"
    },
    "papermill": {
     "duration": 41.717379,
     "end_time": "2021-04-28T03:27:34.777453",
     "exception": false,
     "start_time": "2021-04-28T03:26:53.060074",
     "status": "completed"
    },
    "tags": []
   },
   "outputs": [
    {
     "name": "stdout",
     "output_type": "stream",
     "text": [
      "Training Accuracy:  0.9605518849591916\n",
      "Testing Accuracy:  0.9215076743734214\n",
      "Training Time:  41.4539589881897\n",
      "Prediction Time:  0.02503037452697754\n",
      "[[577   2   1   0   5   2   0   2   0]\n",
      " [  0 520   3   0   7   4   2   7  28]\n",
      " [  2   6 479   2   2   1  18  12  11]\n",
      " [  0   1   4 542   0   0   0   2  20]\n",
      " [  3   6   2   2 502   6   2   4  29]\n",
      " [  6   3   2   1  16 494   0   2  36]\n",
      " [  0   3  10   0   0   0 547   0  31]\n",
      " [  1  10  33   0  11   5   6 501  14]\n",
      " [  0   3   7   0   4   1   0   1 581]]\n"
     ]
    },
    {
     "name": "stderr",
     "output_type": "stream",
     "text": [
      "/opt/conda/lib/python3.7/site-packages/sklearn/linear_model/_logistic.py:765: ConvergenceWarning: lbfgs failed to converge (status=1):\n",
      "STOP: TOTAL NO. of ITERATIONS REACHED LIMIT.\n",
      "\n",
      "Increase the number of iterations (max_iter) or scale the data as shown in:\n",
      "    https://scikit-learn.org/stable/modules/preprocessing.html\n",
      "Please also refer to the documentation for alternative solver options:\n",
      "    https://scikit-learn.org/stable/modules/linear_model.html#logistic-regression\n",
      "  extra_warning_msg=_LOGISTIC_SOLVER_CONVERGENCE_MSG)\n"
     ]
    }
   ],
   "source": [
    "# on tfidf\n",
    "lg = LogisticRegression(C = 1.0)\n",
    "#Fitting the model \n",
    "t0=time()\n",
    "lg.fit(X_train_tfidf,y_train_tfidf)\n",
    "training_time_container['logistic_reg_tfidf']=time()-t0\n",
    "\n",
    "# Predicting the Test set results\n",
    "t0=time()\n",
    "ypred_lg_tf = lg.predict(X_test_tfidf)\n",
    "prediction_time_container['logistic_reg_tfidf']=time()-t0\n",
    "\n",
    "lg_test_accuracy_tf  = accuracy_score(y_test_tfidf,ypred_lg_tf)\n",
    "accuracy_container['logistic_reg_tfidf'] = lg_test_accuracy_tf\n",
    "\n",
    "print('Training Accuracy: ', accuracy_score(y_train_tfidf,lg.predict(X_train_tfidf)))\n",
    "print('Testing Accuracy: ', lg_test_accuracy_tf)\n",
    "print(\"Training Time: \",training_time_container['logistic_reg_tfidf'])\n",
    "print(\"Prediction Time: \",prediction_time_container['logistic_reg_tfidf'])\n",
    "print(confusion_matrix(y_test,ypred_lg_tf))"
   ]
  },
  {
   "cell_type": "markdown",
   "id": "latin-little",
   "metadata": {
    "papermill": {
     "duration": 0.081849,
     "end_time": "2021-04-28T03:27:34.940867",
     "exception": false,
     "start_time": "2021-04-28T03:27:34.859018",
     "status": "completed"
    },
    "tags": []
   },
   "source": [
    "## Multinomial Naive Bayes"
   ]
  },
  {
   "cell_type": "code",
   "execution_count": 36,
   "id": "critical-underwear",
   "metadata": {
    "execution": {
     "iopub.execute_input": "2021-04-28T03:27:35.111028Z",
     "iopub.status.busy": "2021-04-28T03:27:35.110247Z",
     "iopub.status.idle": "2021-04-28T03:27:35.213754Z",
     "shell.execute_reply": "2021-04-28T03:27:35.213217Z"
    },
    "papermill": {
     "duration": 0.192014,
     "end_time": "2021-04-28T03:27:35.213877",
     "exception": false,
     "start_time": "2021-04-28T03:27:35.021863",
     "status": "completed"
    },
    "tags": []
   },
   "outputs": [
    {
     "name": "stdout",
     "output_type": "stream",
     "text": [
      "Training Accuracy :  0.6573066459385931\n",
      "Testing Accuracy:  0.5919953370895668\n",
      "Training Time:  0.05366396903991699\n",
      "Prediction Time:  0.007699728012084961\n",
      "[[205   1 191   3  72 102   0   9   6]\n",
      " [  2 298 136   7  74  25   5  17   7]\n",
      " [  0   1 494   3   7   3   4  21   0]\n",
      " [  2   2 155 320  43  21   5  16   5]\n",
      " [  3   7  93   4 411  20   2  12   4]\n",
      " [ 10   0 123   0  51 364   1  10   1]\n",
      " [  0  12 284   3  21   1 216  42  12]\n",
      " [  3  11 141   2  45   6   4 365   4]\n",
      " [  3   1 157   1  37  13   5   6 374]]\n"
     ]
    }
   ],
   "source": [
    "# on countvector\n",
    "nb = MultinomialNB()\n",
    "#Fitting the model \n",
    "t0=time()\n",
    "nb.fit(X_train,y_train)\n",
    "training_time_container['mnb_naive_bayes']=time()-t0\n",
    "\n",
    "\n",
    "# Predicting the Test set results\n",
    "t0 = time()\n",
    "y_pred_nb = nb.predict(X_test)\n",
    "prediction_time_container['mnb_naive_bayes']=time()-t0\n",
    "\n",
    "mnb_test_accuracy =  accuracy_score(y_test,y_pred_nb)\n",
    "accuracy_container['mnb_naive_bayes'] = mnb_test_accuracy\n",
    "\n",
    "print('Training Accuracy : ', accuracy_score(y_train,nb.predict(X_train)))\n",
    "print('Testing Accuracy: ',mnb_test_accuracy)\n",
    "print(\"Training Time: \",training_time_container['mnb_naive_bayes'])\n",
    "print(\"Prediction Time: \",prediction_time_container['mnb_naive_bayes'])\n",
    "print(confusion_matrix(y_test,y_pred_nb))"
   ]
  },
  {
   "cell_type": "code",
   "execution_count": 37,
   "id": "wicked-welcome",
   "metadata": {
    "execution": {
     "iopub.execute_input": "2021-04-28T03:27:35.384383Z",
     "iopub.status.busy": "2021-04-28T03:27:35.383423Z",
     "iopub.status.idle": "2021-04-28T03:27:35.527146Z",
     "shell.execute_reply": "2021-04-28T03:27:35.527771Z"
    },
    "papermill": {
     "duration": 0.232365,
     "end_time": "2021-04-28T03:27:35.527965",
     "exception": false,
     "start_time": "2021-04-28T03:27:35.295600",
     "status": "completed"
    },
    "tags": []
   },
   "outputs": [
    {
     "name": "stdout",
     "output_type": "stream",
     "text": [
      "Training Accuracy:  0.9689564710454722\n",
      "Testing Accuracy:  0.9362735574120847\n",
      "Training Time:  0.06893253326416016\n",
      "Prediction Time:  0.013717174530029297\n",
      "[[582   0   0   0   1   6   0   0   0]\n",
      " [ 11 528   5   2   7   7   3   6   2]\n",
      " [  8   4 477   5   2   3  22  12   0]\n",
      " [  1   0   5 561   0   0   0   1   1]\n",
      " [ 10   4   3   3 517  12   1   4   2]\n",
      " [ 20   0   2   0  19 515   2   2   0]\n",
      " [  2   0  11   0   1   0 575   2   0]\n",
      " [ 10   8  30   4  18   5   7 499   0]\n",
      " [ 10   3   6   1   7   2   1   2 565]]\n"
     ]
    }
   ],
   "source": [
    "# on tfidf\n",
    "nb = MultinomialNB()\n",
    "#Fitting the model \n",
    "t0=time()\n",
    "nb.fit(X_train_tfidf,y_train_tfidf)\n",
    "training_time_container['mnb_naive_bayes_tfidf']=time()-t0\n",
    "\n",
    "# Predicting the Test set results\n",
    "t0=time()\n",
    "ypred_nb_tf = nb.predict(X_test_tfidf)\n",
    "prediction_time_container['mnb_naive_bayes_tfidf']=time()-t0\n",
    "\n",
    "mnb_tfidf_test_accuracy = accuracy_score(y_test_tfidf,ypred_nb_tf)\n",
    "accuracy_container['mnb_naive_bayes_tfidf'] = mnb_tfidf_test_accuracy \n",
    "\n",
    "\n",
    "print('Training Accuracy: ', accuracy_score(y_train_tfidf,nb.predict(X_train_tfidf)))\n",
    "print('Testing Accuracy: ',mnb_tfidf_test_accuracy )\n",
    "print(\"Training Time: \",training_time_container['mnb_naive_bayes_tfidf'])\n",
    "print(\"Prediction Time: \",prediction_time_container['mnb_naive_bayes_tfidf'])\n",
    "print(confusion_matrix(y_test,ypred_nb_tf))"
   ]
  },
  {
   "cell_type": "markdown",
   "id": "neural-springfield",
   "metadata": {
    "papermill": {
     "duration": 0.13445,
     "end_time": "2021-04-28T03:27:35.750495",
     "exception": false,
     "start_time": "2021-04-28T03:27:35.616045",
     "status": "completed"
    },
    "tags": []
   },
   "source": [
    "## SVM using Stochastic Gradient Descent"
   ]
  },
  {
   "cell_type": "code",
   "execution_count": 38,
   "id": "crucial-blanket",
   "metadata": {
    "execution": {
     "iopub.execute_input": "2021-04-28T03:27:36.038872Z",
     "iopub.status.busy": "2021-04-28T03:27:36.035708Z",
     "iopub.status.idle": "2021-04-28T03:27:37.446716Z",
     "shell.execute_reply": "2021-04-28T03:27:37.446245Z"
    },
    "papermill": {
     "duration": 1.564198,
     "end_time": "2021-04-28T03:27:37.446848",
     "exception": false,
     "start_time": "2021-04-28T03:27:35.882650",
     "status": "completed"
    },
    "tags": []
   },
   "outputs": [
    {
     "name": "stdout",
     "output_type": "stream",
     "text": [
      "Training Accuracy :  0.7924115818111155\n",
      "Testing Accuracy:  0.6683504954342335\n",
      "Training Time:  1.3418939113616943\n",
      "Prediction Time:  0.013004064559936523\n",
      "[[350   6   2  15  10 199   0   4   3]\n",
      " [ 14 348   5  24  18 124  10  21   7]\n",
      " [  9  15 406   7  10  11  30  40   5]\n",
      " [  6   5   4 403   5 133   2   6   5]\n",
      " [ 18  25   2  20 360 107   7  10   7]\n",
      " [ 25   7   5  15  23 471   2  10   2]\n",
      " [  6   6  10   3   3 193 348  14   8]\n",
      " [ 15  22  39   9  21  82  15 367  11]\n",
      " [ 11  12   6   6  13 147   6   9 387]]\n"
     ]
    }
   ],
   "source": [
    "# Used hinge loss which gives linear Support Vector Machine. Also set the learning rate to 0.0001 (also the default value)\n",
    "# which is a constant that's gets multiplied with the regularization term. For penalty, I've used L2 which is the standard\n",
    "#regularizer for linear SVMs\n",
    "\n",
    "\n",
    "# on countvector\n",
    "svm_classifier = linear_model.SGDClassifier(loss='hinge',alpha=0.0001)\n",
    "t0=time()\n",
    "svm_classifier.fit(X_train,y_train)\n",
    "training_time_container['linear_svm']=time()-t0\n",
    "\n",
    "# Predicting the Test set results\n",
    "t0=time()\n",
    "y_pred_svm = svm_classifier.predict(X_test)\n",
    "prediction_time_container['linear_svm']=time()-t0\n",
    "\n",
    "svm_test_accuracy  = accuracy_score(y_test,y_pred_svm)\n",
    "accuracy_container['linear_svm'] = svm_test_accuracy \n",
    "\n",
    "print('Training Accuracy : ', accuracy_score(y_train,svm_classifier.predict(X_train)))\n",
    "print('Testing Accuracy: ',svm_test_accuracy )\n",
    "print(\"Training Time: \",training_time_container['linear_svm'])\n",
    "print(\"Prediction Time: \",prediction_time_container['linear_svm'])\n",
    "print(confusion_matrix(y_test,y_pred_svm))"
   ]
  },
  {
   "cell_type": "code",
   "execution_count": 39,
   "id": "elect-convertible",
   "metadata": {
    "execution": {
     "iopub.execute_input": "2021-04-28T03:27:37.621623Z",
     "iopub.status.busy": "2021-04-28T03:27:37.620669Z",
     "iopub.status.idle": "2021-04-28T03:27:38.983454Z",
     "shell.execute_reply": "2021-04-28T03:27:38.982846Z"
    },
    "papermill": {
     "duration": 1.453044,
     "end_time": "2021-04-28T03:27:38.983613",
     "exception": false,
     "start_time": "2021-04-28T03:27:37.530569",
     "status": "completed"
    },
    "tags": []
   },
   "outputs": [
    {
     "name": "stdout",
     "output_type": "stream",
     "text": [
      "Training Accuracy:  0.9863486202876021\n",
      "Testing Accuracy:  0.9475422576258015\n",
      "Training Time:  1.2894432544708252\n",
      "Prediction Time:  0.018860340118408203\n",
      "[[585   0   1   0   1   2   0   0   0]\n",
      " [  2 539   6   0   5   2   2   8   7]\n",
      " [  3   4 483   6   3   1  21  10   2]\n",
      " [  0   0   2 559   0   0   0   1   7]\n",
      " [  3   8   1   2 517  10   3   2  10]\n",
      " [  6   0   2   4  14 519   0   5  10]\n",
      " [  0   0   7   0   0   0 575   0   9]\n",
      " [  1   9  31   1   8   4   5 515   7]\n",
      " [  4   1   4   0   2   0   0   1 585]]\n"
     ]
    }
   ],
   "source": [
    "# on tfidf\n",
    "svm_classifier = linear_model.SGDClassifier(loss='hinge',alpha=0.0001)\n",
    "#Fitting the model \n",
    "t0=time()\n",
    "svm_classifier.fit(X_train_tfidf,y_train_tfidf)\n",
    "training_time_container['linear_svm_tfidf']=time()-t0\n",
    "\n",
    "# Predicting the Test set results\n",
    "t0=time()\n",
    "ypred_svm_tf = svm_classifier.predict(X_test_tfidf)\n",
    "prediction_time_container['linear_svm_tfidf']=time()-t0\n",
    "\n",
    "svm_test_accuracy_tf  = accuracy_score(y_test_tfidf,ypred_svm_tf)\n",
    "accuracy_container['linear_svm_tfdif'] = svm_test_accuracy_tf \n",
    "\n",
    "print('Training Accuracy: ', accuracy_score(y_train_tfidf,svm_classifier.predict(X_train_tfidf)))\n",
    "print('Testing Accuracy: ', svm_test_accuracy_tf)\n",
    "print(\"Training Time: \",training_time_container['linear_svm_tfidf'])\n",
    "print(\"Prediction Time: \",prediction_time_container['linear_svm_tfidf'])\n",
    "print(confusion_matrix(y_test,ypred_svm_tf))"
   ]
  },
  {
   "cell_type": "markdown",
   "id": "forbidden-isolation",
   "metadata": {
    "papermill": {
     "duration": 0.082441,
     "end_time": "2021-04-28T03:27:39.151437",
     "exception": false,
     "start_time": "2021-04-28T03:27:39.068996",
     "status": "completed"
    },
    "tags": []
   },
   "source": [
    "## RandomForest "
   ]
  },
  {
   "cell_type": "code",
   "execution_count": 40,
   "id": "presidential-stable",
   "metadata": {
    "execution": {
     "iopub.execute_input": "2021-04-28T03:27:39.320319Z",
     "iopub.status.busy": "2021-04-28T03:27:39.319565Z",
     "iopub.status.idle": "2021-04-28T03:30:13.762082Z",
     "shell.execute_reply": "2021-04-28T03:30:13.762579Z"
    },
    "papermill": {
     "duration": 154.528323,
     "end_time": "2021-04-28T03:30:13.762737",
     "exception": false,
     "start_time": "2021-04-28T03:27:39.234414",
     "status": "completed"
    },
    "tags": []
   },
   "outputs": [
    {
     "name": "stdout",
     "output_type": "stream",
     "text": [
      "Training Accuracy :  0.8280217644772639\n",
      "Testing Accuracy:  0.6405673207693802\n",
      "Training Time:  152.18152713775635\n",
      "Prediction Time:  0.4677259922027588\n",
      "[[335   6   3  12  15  34 177   4   3]\n",
      " [ 13 330  14  31   7   8 133  19  16]\n",
      " [  9  17 410  13   2   3  54  18   7]\n",
      " [ 10  11  10 378   9   2 141   5   3]\n",
      " [ 29  26  13  24 309  27  95  21  12]\n",
      " [ 30  18   4  13  19 338 125  10   3]\n",
      " [  4  10  17   8   3   1 535   5   8]\n",
      " [ 19  48  71  18  28   5  96 283  13]\n",
      " [  7  19   7  11   5   5 158   6 379]]\n"
     ]
    }
   ],
   "source": [
    "# on count vectorizer\n",
    "rf = RandomForestClassifier(n_estimators=50)\n",
    "t0=time()\n",
    "rf.fit(X_train,y_train)\n",
    "training_time_container['random_forest']=time()-t0\n",
    "\n",
    "# Predicting the Test set results\n",
    "t0=time()\n",
    "y_pred_rf = rf.predict(X_test)\n",
    "prediction_time_container['random_forest']=time()-t0\n",
    "\n",
    "rf_test_accuracy  = accuracy_score(y_test,y_pred_rf)\n",
    "accuracy_container['random_forest'] = rf_test_accuracy \n",
    "\n",
    "\n",
    "print('Training Accuracy : ', accuracy_score(y_train,rf.predict(X_train)))\n",
    "print('Testing Accuracy: ',rf_test_accuracy )\n",
    "print(\"Training Time: \",training_time_container['random_forest'])\n",
    "print(\"Prediction Time: \",prediction_time_container['random_forest'])\n",
    "print(confusion_matrix(y_test,y_pred_rf))"
   ]
  },
  {
   "cell_type": "code",
   "execution_count": 41,
   "id": "clear-summer",
   "metadata": {
    "execution": {
     "iopub.execute_input": "2021-04-28T03:30:13.937851Z",
     "iopub.status.busy": "2021-04-28T03:30:13.936643Z",
     "iopub.status.idle": "2021-04-28T03:31:10.319316Z",
     "shell.execute_reply": "2021-04-28T03:31:10.319845Z"
    },
    "papermill": {
     "duration": 56.474631,
     "end_time": "2021-04-28T03:31:10.320004",
     "exception": false,
     "start_time": "2021-04-28T03:30:13.845373",
     "status": "completed"
    },
    "tags": []
   },
   "outputs": [
    {
     "name": "stdout",
     "output_type": "stream",
     "text": [
      "Training Accuracy:  0.9990769529731831\n",
      "Testing Accuracy:  0.9183990674179133\n",
      "Training Time:  54.618358850479126\n",
      "Prediction Time:  0.3478507995605469\n",
      "[[565   2   6   0   8   5   0   0   3]\n",
      " [  0 522  19   0   4   0   1   4  21]\n",
      " [  0   5 494   0   3   0  15   6  10]\n",
      " [  0   1   4 551   7   1   0   0   5]\n",
      " [  4   7  14   3 495   4   2   5  22]\n",
      " [  2   5   4   0  11 520   0   7  11]\n",
      " [  0   0   9   0   1   0 574   0   7]\n",
      " [  0   8 100   0  20   3   7 427  16]\n",
      " [  0   1  10   3   2   0   0   2 579]]\n"
     ]
    }
   ],
   "source": [
    "# on tfidf\n",
    "rf = RandomForestClassifier(n_estimators=50)\n",
    "#Fitting the model \n",
    "t0=time()\n",
    "rf.fit(X_train_tfidf,y_train_tfidf)\n",
    "training_time_container['random_forest_tfidf']=time()-t0\n",
    "\n",
    "# Predicting the Test set results\n",
    "t0=time()\n",
    "ypred_rf_tf = rf.predict(X_test_tfidf)\n",
    "prediction_time_container['random_forest_tfidf']=time()-t0\n",
    "\n",
    "rf_test_accuracy_tf  = accuracy_score(y_test_tfidf,ypred_rf_tf)\n",
    "accuracy_container['random_forest_tfidf'] = rf_test_accuracy_tf\n",
    "\n",
    "print('Training Accuracy: ', accuracy_score(y_train_tfidf,rf.predict(X_train_tfidf)))\n",
    "print('Testing Accuracy: ',rf_test_accuracy_tf )\n",
    "print(\"Training Time: \",training_time_container['random_forest_tfidf'])\n",
    "print(\"Prediction Time: \",prediction_time_container['random_forest_tfidf'])\n",
    "print(confusion_matrix(y_test,ypred_rf_tf ))"
   ]
  },
  {
   "cell_type": "code",
   "execution_count": 42,
   "id": "colonial-niger",
   "metadata": {
    "execution": {
     "iopub.execute_input": "2021-04-28T03:31:10.504629Z",
     "iopub.status.busy": "2021-04-28T03:31:10.503993Z",
     "iopub.status.idle": "2021-04-28T03:31:10.689402Z",
     "shell.execute_reply": "2021-04-28T03:31:10.689816Z"
    },
    "papermill": {
     "duration": 0.280824,
     "end_time": "2021-04-28T03:31:10.689954",
     "exception": false,
     "start_time": "2021-04-28T03:31:10.409130",
     "status": "completed"
    },
    "tags": []
   },
   "outputs": [
    {
     "data": {
      "text/html": [
       "        <script type=\"text/javascript\">\n",
       "        window.PlotlyConfig = {MathJaxConfig: 'local'};\n",
       "        if (window.MathJax) {MathJax.Hub.Config({SVG: {font: \"STIX-Web\"}});}\n",
       "        if (typeof require !== 'undefined') {\n",
       "        require.undef(\"plotly\");\n",
       "        requirejs.config({\n",
       "            paths: {\n",
       "                'plotly': ['https://cdn.plot.ly/plotly-latest.min']\n",
       "            }\n",
       "        });\n",
       "        require(['plotly'], function(Plotly) {\n",
       "            window._Plotly = Plotly;\n",
       "        });\n",
       "        }\n",
       "        </script>\n",
       "        "
      ]
     },
     "metadata": {},
     "output_type": "display_data"
    },
    {
     "data": {
      "text/html": [
       "<div>                            <div id=\"d7cb22c1-b5c5-48f2-b666-959ab82e4ad2\" class=\"plotly-graph-div\" style=\"height:525px; width:100%;\"></div>            <script type=\"text/javascript\">                require([\"plotly\"], function(Plotly) {                    window.PLOTLYENV=window.PLOTLYENV || {};                                    if (document.getElementById(\"d7cb22c1-b5c5-48f2-b666-959ab82e4ad2\")) {                    Plotly.newPlot(                        \"d7cb22c1-b5c5-48f2-b666-959ab82e4ad2\",                        [{\"marker\": {\"color\": [0, 1, 2, 3, 4, 5, 6, 7], \"line\": {\"color\": \"black\", \"width\": 3}}, \"text\": [\"1.2894432544708252\", \"1.3418939113616943\", \"0.06893253326416016\", \"0.05366396903991699\", \"54.618358850479126\", \"152.18152713775635\", \"37.385868549346924\", \"41.4539589881897\"], \"textposition\": \"auto\", \"type\": \"bar\", \"x\": [\"linear_svm_tfidf\", \"linear_svm\", \"mnb_naive_bayes_tfidf\", \"mnb_naive_bayes\", \"random_forest_tfidf\", \"random_forest\", \"logistic_reg\", \"logistic_reg_tfidf\"], \"y\": [1.2894432544708252, 1.3418939113616943, 0.06893253326416016, 0.05366396903991699, 54.618358850479126, 152.18152713775635, 37.385868549346924, 41.4539589881897]}],                        {\"autosize\": true, \"plot_bgcolor\": \"rgb(275, 275, 275)\", \"template\": {\"data\": {\"bar\": [{\"error_x\": {\"color\": \"#2a3f5f\"}, \"error_y\": {\"color\": \"#2a3f5f\"}, \"marker\": {\"line\": {\"color\": \"#E5ECF6\", \"width\": 0.5}}, \"type\": \"bar\"}], \"barpolar\": [{\"marker\": {\"line\": {\"color\": \"#E5ECF6\", \"width\": 0.5}}, \"type\": \"barpolar\"}], \"carpet\": [{\"aaxis\": {\"endlinecolor\": \"#2a3f5f\", \"gridcolor\": \"white\", \"linecolor\": \"white\", \"minorgridcolor\": \"white\", \"startlinecolor\": \"#2a3f5f\"}, \"baxis\": {\"endlinecolor\": \"#2a3f5f\", \"gridcolor\": \"white\", \"linecolor\": \"white\", \"minorgridcolor\": \"white\", \"startlinecolor\": \"#2a3f5f\"}, \"type\": \"carpet\"}], \"choropleth\": [{\"colorbar\": {\"outlinewidth\": 0, \"ticks\": \"\"}, \"type\": \"choropleth\"}], \"contour\": [{\"colorbar\": {\"outlinewidth\": 0, \"ticks\": \"\"}, \"colorscale\": [[0.0, \"#0d0887\"], [0.1111111111111111, \"#46039f\"], [0.2222222222222222, \"#7201a8\"], [0.3333333333333333, \"#9c179e\"], [0.4444444444444444, \"#bd3786\"], [0.5555555555555556, \"#d8576b\"], [0.6666666666666666, \"#ed7953\"], [0.7777777777777778, \"#fb9f3a\"], [0.8888888888888888, \"#fdca26\"], [1.0, \"#f0f921\"]], \"type\": \"contour\"}], \"contourcarpet\": [{\"colorbar\": {\"outlinewidth\": 0, \"ticks\": \"\"}, \"type\": \"contourcarpet\"}], \"heatmap\": [{\"colorbar\": {\"outlinewidth\": 0, \"ticks\": \"\"}, \"colorscale\": [[0.0, \"#0d0887\"], [0.1111111111111111, \"#46039f\"], [0.2222222222222222, \"#7201a8\"], [0.3333333333333333, \"#9c179e\"], [0.4444444444444444, \"#bd3786\"], [0.5555555555555556, \"#d8576b\"], [0.6666666666666666, \"#ed7953\"], [0.7777777777777778, \"#fb9f3a\"], [0.8888888888888888, \"#fdca26\"], [1.0, \"#f0f921\"]], \"type\": \"heatmap\"}], \"heatmapgl\": [{\"colorbar\": {\"outlinewidth\": 0, \"ticks\": \"\"}, \"colorscale\": [[0.0, \"#0d0887\"], [0.1111111111111111, \"#46039f\"], [0.2222222222222222, \"#7201a8\"], [0.3333333333333333, \"#9c179e\"], [0.4444444444444444, \"#bd3786\"], [0.5555555555555556, \"#d8576b\"], [0.6666666666666666, \"#ed7953\"], [0.7777777777777778, \"#fb9f3a\"], [0.8888888888888888, \"#fdca26\"], [1.0, \"#f0f921\"]], \"type\": \"heatmapgl\"}], \"histogram\": [{\"marker\": {\"colorbar\": {\"outlinewidth\": 0, \"ticks\": \"\"}}, \"type\": \"histogram\"}], \"histogram2d\": [{\"colorbar\": {\"outlinewidth\": 0, \"ticks\": \"\"}, \"colorscale\": [[0.0, \"#0d0887\"], [0.1111111111111111, \"#46039f\"], [0.2222222222222222, \"#7201a8\"], [0.3333333333333333, \"#9c179e\"], [0.4444444444444444, \"#bd3786\"], [0.5555555555555556, \"#d8576b\"], [0.6666666666666666, \"#ed7953\"], [0.7777777777777778, \"#fb9f3a\"], [0.8888888888888888, \"#fdca26\"], [1.0, \"#f0f921\"]], \"type\": \"histogram2d\"}], \"histogram2dcontour\": [{\"colorbar\": {\"outlinewidth\": 0, \"ticks\": \"\"}, \"colorscale\": [[0.0, \"#0d0887\"], [0.1111111111111111, \"#46039f\"], [0.2222222222222222, \"#7201a8\"], [0.3333333333333333, \"#9c179e\"], [0.4444444444444444, \"#bd3786\"], [0.5555555555555556, \"#d8576b\"], [0.6666666666666666, \"#ed7953\"], [0.7777777777777778, \"#fb9f3a\"], [0.8888888888888888, \"#fdca26\"], [1.0, \"#f0f921\"]], \"type\": \"histogram2dcontour\"}], \"mesh3d\": [{\"colorbar\": {\"outlinewidth\": 0, \"ticks\": \"\"}, \"type\": \"mesh3d\"}], \"parcoords\": [{\"line\": {\"colorbar\": {\"outlinewidth\": 0, \"ticks\": \"\"}}, \"type\": \"parcoords\"}], \"pie\": [{\"automargin\": true, \"type\": \"pie\"}], \"scatter\": [{\"marker\": {\"colorbar\": {\"outlinewidth\": 0, \"ticks\": \"\"}}, \"type\": \"scatter\"}], \"scatter3d\": [{\"line\": {\"colorbar\": {\"outlinewidth\": 0, \"ticks\": \"\"}}, \"marker\": {\"colorbar\": {\"outlinewidth\": 0, \"ticks\": \"\"}}, \"type\": \"scatter3d\"}], \"scattercarpet\": [{\"marker\": {\"colorbar\": {\"outlinewidth\": 0, \"ticks\": \"\"}}, \"type\": \"scattercarpet\"}], \"scattergeo\": [{\"marker\": {\"colorbar\": {\"outlinewidth\": 0, \"ticks\": \"\"}}, \"type\": \"scattergeo\"}], \"scattergl\": [{\"marker\": {\"colorbar\": {\"outlinewidth\": 0, \"ticks\": \"\"}}, \"type\": \"scattergl\"}], \"scattermapbox\": [{\"marker\": {\"colorbar\": {\"outlinewidth\": 0, \"ticks\": \"\"}}, \"type\": \"scattermapbox\"}], \"scatterpolar\": [{\"marker\": {\"colorbar\": {\"outlinewidth\": 0, \"ticks\": \"\"}}, \"type\": \"scatterpolar\"}], \"scatterpolargl\": [{\"marker\": {\"colorbar\": {\"outlinewidth\": 0, \"ticks\": \"\"}}, \"type\": \"scatterpolargl\"}], \"scatterternary\": [{\"marker\": {\"colorbar\": {\"outlinewidth\": 0, \"ticks\": \"\"}}, \"type\": \"scatterternary\"}], \"surface\": [{\"colorbar\": {\"outlinewidth\": 0, \"ticks\": \"\"}, \"colorscale\": [[0.0, \"#0d0887\"], [0.1111111111111111, \"#46039f\"], [0.2222222222222222, \"#7201a8\"], [0.3333333333333333, \"#9c179e\"], [0.4444444444444444, \"#bd3786\"], [0.5555555555555556, \"#d8576b\"], [0.6666666666666666, \"#ed7953\"], [0.7777777777777778, \"#fb9f3a\"], [0.8888888888888888, \"#fdca26\"], [1.0, \"#f0f921\"]], \"type\": \"surface\"}], \"table\": [{\"cells\": {\"fill\": {\"color\": \"#EBF0F8\"}, \"line\": {\"color\": \"white\"}}, \"header\": {\"fill\": {\"color\": \"#C8D4E3\"}, \"line\": {\"color\": \"white\"}}, \"type\": \"table\"}]}, \"layout\": {\"annotationdefaults\": {\"arrowcolor\": \"#2a3f5f\", \"arrowhead\": 0, \"arrowwidth\": 1}, \"autotypenumbers\": \"strict\", \"coloraxis\": {\"colorbar\": {\"outlinewidth\": 0, \"ticks\": \"\"}}, \"colorscale\": {\"diverging\": [[0, \"#8e0152\"], [0.1, \"#c51b7d\"], [0.2, \"#de77ae\"], [0.3, \"#f1b6da\"], [0.4, \"#fde0ef\"], [0.5, \"#f7f7f7\"], [0.6, \"#e6f5d0\"], [0.7, \"#b8e186\"], [0.8, \"#7fbc41\"], [0.9, \"#4d9221\"], [1, \"#276419\"]], \"sequential\": [[0.0, \"#0d0887\"], [0.1111111111111111, \"#46039f\"], [0.2222222222222222, \"#7201a8\"], [0.3333333333333333, \"#9c179e\"], [0.4444444444444444, \"#bd3786\"], [0.5555555555555556, \"#d8576b\"], [0.6666666666666666, \"#ed7953\"], [0.7777777777777778, \"#fb9f3a\"], [0.8888888888888888, \"#fdca26\"], [1.0, \"#f0f921\"]], \"sequentialminus\": [[0.0, \"#0d0887\"], [0.1111111111111111, \"#46039f\"], [0.2222222222222222, \"#7201a8\"], [0.3333333333333333, \"#9c179e\"], [0.4444444444444444, \"#bd3786\"], [0.5555555555555556, \"#d8576b\"], [0.6666666666666666, \"#ed7953\"], [0.7777777777777778, \"#fb9f3a\"], [0.8888888888888888, \"#fdca26\"], [1.0, \"#f0f921\"]]}, \"colorway\": [\"#636efa\", \"#EF553B\", \"#00cc96\", \"#ab63fa\", \"#FFA15A\", \"#19d3f3\", \"#FF6692\", \"#B6E880\", \"#FF97FF\", \"#FECB52\"], \"font\": {\"color\": \"#2a3f5f\"}, \"geo\": {\"bgcolor\": \"white\", \"lakecolor\": \"white\", \"landcolor\": \"#E5ECF6\", \"showlakes\": true, \"showland\": true, \"subunitcolor\": \"white\"}, \"hoverlabel\": {\"align\": \"left\"}, \"hovermode\": \"closest\", \"mapbox\": {\"style\": \"light\"}, \"paper_bgcolor\": \"white\", \"plot_bgcolor\": \"#E5ECF6\", \"polar\": {\"angularaxis\": {\"gridcolor\": \"white\", \"linecolor\": \"white\", \"ticks\": \"\"}, \"bgcolor\": \"#E5ECF6\", \"radialaxis\": {\"gridcolor\": \"white\", \"linecolor\": \"white\", \"ticks\": \"\"}}, \"scene\": {\"xaxis\": {\"backgroundcolor\": \"#E5ECF6\", \"gridcolor\": \"white\", \"gridwidth\": 2, \"linecolor\": \"white\", \"showbackground\": true, \"ticks\": \"\", \"zerolinecolor\": \"white\"}, \"yaxis\": {\"backgroundcolor\": \"#E5ECF6\", \"gridcolor\": \"white\", \"gridwidth\": 2, \"linecolor\": \"white\", \"showbackground\": true, \"ticks\": \"\", \"zerolinecolor\": \"white\"}, \"zaxis\": {\"backgroundcolor\": \"#E5ECF6\", \"gridcolor\": \"white\", \"gridwidth\": 2, \"linecolor\": \"white\", \"showbackground\": true, \"ticks\": \"\", \"zerolinecolor\": \"white\"}}, \"shapedefaults\": {\"line\": {\"color\": \"#2a3f5f\"}}, \"ternary\": {\"aaxis\": {\"gridcolor\": \"white\", \"linecolor\": \"white\", \"ticks\": \"\"}, \"baxis\": {\"gridcolor\": \"white\", \"linecolor\": \"white\", \"ticks\": \"\"}, \"bgcolor\": \"#E5ECF6\", \"caxis\": {\"gridcolor\": \"white\", \"linecolor\": \"white\", \"ticks\": \"\"}}, \"title\": {\"x\": 0.05}, \"xaxis\": {\"automargin\": true, \"gridcolor\": \"white\", \"linecolor\": \"white\", \"ticks\": \"\", \"title\": {\"standoff\": 15}, \"zerolinecolor\": \"white\", \"zerolinewidth\": 2}, \"yaxis\": {\"automargin\": true, \"gridcolor\": \"white\", \"linecolor\": \"white\", \"ticks\": \"\", \"title\": {\"standoff\": 15}, \"zerolinecolor\": \"white\", \"zerolinewidth\": 2}}}, \"title\": {\"text\": \"Comparison of Training Time of different classifiers\"}, \"xaxis\": {\"title\": {\"text\": \"Machine Learning Models\"}}, \"yaxis\": {\"title\": {\"text\": \"Training time in seconds\"}}},                        {\"responsive\": true}                    ).then(function(){\n",
       "                            \n",
       "var gd = document.getElementById('d7cb22c1-b5c5-48f2-b666-959ab82e4ad2');\n",
       "var x = new MutationObserver(function (mutations, observer) {{\n",
       "        var display = window.getComputedStyle(gd).display;\n",
       "        if (!display || display === 'none') {{\n",
       "            console.log([gd, 'removed!']);\n",
       "            Plotly.purge(gd);\n",
       "            observer.disconnect();\n",
       "        }}\n",
       "}});\n",
       "\n",
       "// Listen for the removal of the full notebook cells\n",
       "var notebookContainer = gd.closest('#notebook-container');\n",
       "if (notebookContainer) {{\n",
       "    x.observe(notebookContainer, {childList: true});\n",
       "}}\n",
       "\n",
       "// Listen for the clearing of the current output cell\n",
       "var outputEl = gd.closest('.output');\n",
       "if (outputEl) {{\n",
       "    x.observe(outputEl, {childList: true});\n",
       "}}\n",
       "\n",
       "                        })                };                });            </script>        </div>"
      ]
     },
     "metadata": {},
     "output_type": "display_data"
    }
   ],
   "source": [
    "fig=go.Figure(data=[go.Bar(y=list(training_time_container.values()),x=list(training_time_container.keys()),\n",
    "                           marker={'color':np.arange(len(list(training_time_container.values())))}\n",
    "                          ,text=list(training_time_container.values()), textposition='auto' )])\n",
    "\n",
    "fig.update_layout(autosize=True ,plot_bgcolor='rgb(275, 275, 275)',\n",
    "                  title=\"Comparison of Training Time of different classifiers\",\n",
    "                    xaxis_title=\"Machine Learning Models\",\n",
    "                    yaxis_title=\"Training time in seconds\" )\n",
    "\n",
    "fig.data[0].marker.line.width = 3\n",
    "fig.data[0].marker.line.color = \"black\"  \n",
    "fig"
   ]
  },
  {
   "cell_type": "code",
   "execution_count": 43,
   "id": "checked-guarantee",
   "metadata": {
    "execution": {
     "iopub.execute_input": "2021-04-28T03:31:10.878040Z",
     "iopub.status.busy": "2021-04-28T03:31:10.877236Z",
     "iopub.status.idle": "2021-04-28T03:31:10.882557Z",
     "shell.execute_reply": "2021-04-28T03:31:10.882091Z"
    },
    "papermill": {
     "duration": 0.10711,
     "end_time": "2021-04-28T03:31:10.882692",
     "exception": false,
     "start_time": "2021-04-28T03:31:10.775582",
     "status": "completed"
    },
    "tags": []
   },
   "outputs": [
    {
     "data": {
      "text/html": [
       "<div>                            <div id=\"eb7880f5-f74e-4fe7-a648-4a8408dde404\" class=\"plotly-graph-div\" style=\"height:525px; width:100%;\"></div>            <script type=\"text/javascript\">                require([\"plotly\"], function(Plotly) {                    window.PLOTLYENV=window.PLOTLYENV || {};                                    if (document.getElementById(\"eb7880f5-f74e-4fe7-a648-4a8408dde404\")) {                    Plotly.newPlot(                        \"eb7880f5-f74e-4fe7-a648-4a8408dde404\",                        [{\"marker\": {\"color\": [0, 1, 2, 3, 4, 5, 6, 7], \"line\": {\"color\": \"black\", \"width\": 3}}, \"text\": [\"0.018860340118408203\", \"0.013004064559936523\", \"0.013717174530029297\", \"0.007699728012084961\", \"0.3478507995605469\", \"0.4677259922027588\", \"0.01749396324157715\", \"0.02503037452697754\"], \"textposition\": \"auto\", \"type\": \"bar\", \"x\": [\"linear_svm_tfidf\", \"linear_svm\", \"mnb_naive_bayes_tfidf\", \"mnb_naive_bayes\", \"random_forest_tfidf\", \"random_forest\", \"logistic_reg\", \"logistic_reg_tfidf\"], \"y\": [0.018860340118408203, 0.013004064559936523, 0.013717174530029297, 0.007699728012084961, 0.3478507995605469, 0.4677259922027588, 0.01749396324157715, 0.02503037452697754]}],                        {\"autosize\": true, \"plot_bgcolor\": \"rgb(275, 275, 275)\", \"template\": {\"data\": {\"bar\": [{\"error_x\": {\"color\": \"#2a3f5f\"}, \"error_y\": {\"color\": \"#2a3f5f\"}, \"marker\": {\"line\": {\"color\": \"#E5ECF6\", \"width\": 0.5}}, \"type\": \"bar\"}], \"barpolar\": [{\"marker\": {\"line\": {\"color\": \"#E5ECF6\", \"width\": 0.5}}, \"type\": \"barpolar\"}], \"carpet\": [{\"aaxis\": {\"endlinecolor\": \"#2a3f5f\", \"gridcolor\": \"white\", \"linecolor\": \"white\", \"minorgridcolor\": \"white\", \"startlinecolor\": \"#2a3f5f\"}, \"baxis\": {\"endlinecolor\": \"#2a3f5f\", \"gridcolor\": \"white\", \"linecolor\": \"white\", \"minorgridcolor\": \"white\", \"startlinecolor\": \"#2a3f5f\"}, \"type\": \"carpet\"}], \"choropleth\": [{\"colorbar\": {\"outlinewidth\": 0, \"ticks\": \"\"}, \"type\": \"choropleth\"}], \"contour\": [{\"colorbar\": {\"outlinewidth\": 0, \"ticks\": \"\"}, \"colorscale\": [[0.0, \"#0d0887\"], [0.1111111111111111, \"#46039f\"], [0.2222222222222222, \"#7201a8\"], [0.3333333333333333, \"#9c179e\"], [0.4444444444444444, \"#bd3786\"], [0.5555555555555556, \"#d8576b\"], [0.6666666666666666, \"#ed7953\"], [0.7777777777777778, \"#fb9f3a\"], [0.8888888888888888, \"#fdca26\"], [1.0, \"#f0f921\"]], \"type\": \"contour\"}], \"contourcarpet\": [{\"colorbar\": {\"outlinewidth\": 0, \"ticks\": \"\"}, \"type\": \"contourcarpet\"}], \"heatmap\": [{\"colorbar\": {\"outlinewidth\": 0, \"ticks\": \"\"}, \"colorscale\": [[0.0, \"#0d0887\"], [0.1111111111111111, \"#46039f\"], [0.2222222222222222, \"#7201a8\"], [0.3333333333333333, \"#9c179e\"], [0.4444444444444444, \"#bd3786\"], [0.5555555555555556, \"#d8576b\"], [0.6666666666666666, \"#ed7953\"], [0.7777777777777778, \"#fb9f3a\"], [0.8888888888888888, \"#fdca26\"], [1.0, \"#f0f921\"]], \"type\": \"heatmap\"}], \"heatmapgl\": [{\"colorbar\": {\"outlinewidth\": 0, \"ticks\": \"\"}, \"colorscale\": [[0.0, \"#0d0887\"], [0.1111111111111111, \"#46039f\"], [0.2222222222222222, \"#7201a8\"], [0.3333333333333333, \"#9c179e\"], [0.4444444444444444, \"#bd3786\"], [0.5555555555555556, \"#d8576b\"], [0.6666666666666666, \"#ed7953\"], [0.7777777777777778, \"#fb9f3a\"], [0.8888888888888888, \"#fdca26\"], [1.0, \"#f0f921\"]], \"type\": \"heatmapgl\"}], \"histogram\": [{\"marker\": {\"colorbar\": {\"outlinewidth\": 0, \"ticks\": \"\"}}, \"type\": \"histogram\"}], \"histogram2d\": [{\"colorbar\": {\"outlinewidth\": 0, \"ticks\": \"\"}, \"colorscale\": [[0.0, \"#0d0887\"], [0.1111111111111111, \"#46039f\"], [0.2222222222222222, \"#7201a8\"], [0.3333333333333333, \"#9c179e\"], [0.4444444444444444, \"#bd3786\"], [0.5555555555555556, \"#d8576b\"], [0.6666666666666666, \"#ed7953\"], [0.7777777777777778, \"#fb9f3a\"], [0.8888888888888888, \"#fdca26\"], [1.0, \"#f0f921\"]], \"type\": \"histogram2d\"}], \"histogram2dcontour\": [{\"colorbar\": {\"outlinewidth\": 0, \"ticks\": \"\"}, \"colorscale\": [[0.0, \"#0d0887\"], [0.1111111111111111, \"#46039f\"], [0.2222222222222222, \"#7201a8\"], [0.3333333333333333, \"#9c179e\"], [0.4444444444444444, \"#bd3786\"], [0.5555555555555556, \"#d8576b\"], [0.6666666666666666, \"#ed7953\"], [0.7777777777777778, \"#fb9f3a\"], [0.8888888888888888, \"#fdca26\"], [1.0, \"#f0f921\"]], \"type\": \"histogram2dcontour\"}], \"mesh3d\": [{\"colorbar\": {\"outlinewidth\": 0, \"ticks\": \"\"}, \"type\": \"mesh3d\"}], \"parcoords\": [{\"line\": {\"colorbar\": {\"outlinewidth\": 0, \"ticks\": \"\"}}, \"type\": \"parcoords\"}], \"pie\": [{\"automargin\": true, \"type\": \"pie\"}], \"scatter\": [{\"marker\": {\"colorbar\": {\"outlinewidth\": 0, \"ticks\": \"\"}}, \"type\": \"scatter\"}], \"scatter3d\": [{\"line\": {\"colorbar\": {\"outlinewidth\": 0, \"ticks\": \"\"}}, \"marker\": {\"colorbar\": {\"outlinewidth\": 0, \"ticks\": \"\"}}, \"type\": \"scatter3d\"}], \"scattercarpet\": [{\"marker\": {\"colorbar\": {\"outlinewidth\": 0, \"ticks\": \"\"}}, \"type\": \"scattercarpet\"}], \"scattergeo\": [{\"marker\": {\"colorbar\": {\"outlinewidth\": 0, \"ticks\": \"\"}}, \"type\": \"scattergeo\"}], \"scattergl\": [{\"marker\": {\"colorbar\": {\"outlinewidth\": 0, \"ticks\": \"\"}}, \"type\": \"scattergl\"}], \"scattermapbox\": [{\"marker\": {\"colorbar\": {\"outlinewidth\": 0, \"ticks\": \"\"}}, \"type\": \"scattermapbox\"}], \"scatterpolar\": [{\"marker\": {\"colorbar\": {\"outlinewidth\": 0, \"ticks\": \"\"}}, \"type\": \"scatterpolar\"}], \"scatterpolargl\": [{\"marker\": {\"colorbar\": {\"outlinewidth\": 0, \"ticks\": \"\"}}, \"type\": \"scatterpolargl\"}], \"scatterternary\": [{\"marker\": {\"colorbar\": {\"outlinewidth\": 0, \"ticks\": \"\"}}, \"type\": \"scatterternary\"}], \"surface\": [{\"colorbar\": {\"outlinewidth\": 0, \"ticks\": \"\"}, \"colorscale\": [[0.0, \"#0d0887\"], [0.1111111111111111, \"#46039f\"], [0.2222222222222222, \"#7201a8\"], [0.3333333333333333, \"#9c179e\"], [0.4444444444444444, \"#bd3786\"], [0.5555555555555556, \"#d8576b\"], [0.6666666666666666, \"#ed7953\"], [0.7777777777777778, \"#fb9f3a\"], [0.8888888888888888, \"#fdca26\"], [1.0, \"#f0f921\"]], \"type\": \"surface\"}], \"table\": [{\"cells\": {\"fill\": {\"color\": \"#EBF0F8\"}, \"line\": {\"color\": \"white\"}}, \"header\": {\"fill\": {\"color\": \"#C8D4E3\"}, \"line\": {\"color\": \"white\"}}, \"type\": \"table\"}]}, \"layout\": {\"annotationdefaults\": {\"arrowcolor\": \"#2a3f5f\", \"arrowhead\": 0, \"arrowwidth\": 1}, \"autotypenumbers\": \"strict\", \"coloraxis\": {\"colorbar\": {\"outlinewidth\": 0, \"ticks\": \"\"}}, \"colorscale\": {\"diverging\": [[0, \"#8e0152\"], [0.1, \"#c51b7d\"], [0.2, \"#de77ae\"], [0.3, \"#f1b6da\"], [0.4, \"#fde0ef\"], [0.5, \"#f7f7f7\"], [0.6, \"#e6f5d0\"], [0.7, \"#b8e186\"], [0.8, \"#7fbc41\"], [0.9, \"#4d9221\"], [1, \"#276419\"]], \"sequential\": [[0.0, \"#0d0887\"], [0.1111111111111111, \"#46039f\"], [0.2222222222222222, \"#7201a8\"], [0.3333333333333333, \"#9c179e\"], [0.4444444444444444, \"#bd3786\"], [0.5555555555555556, \"#d8576b\"], [0.6666666666666666, \"#ed7953\"], [0.7777777777777778, \"#fb9f3a\"], [0.8888888888888888, \"#fdca26\"], [1.0, \"#f0f921\"]], \"sequentialminus\": [[0.0, \"#0d0887\"], [0.1111111111111111, \"#46039f\"], [0.2222222222222222, \"#7201a8\"], [0.3333333333333333, \"#9c179e\"], [0.4444444444444444, \"#bd3786\"], [0.5555555555555556, \"#d8576b\"], [0.6666666666666666, \"#ed7953\"], [0.7777777777777778, \"#fb9f3a\"], [0.8888888888888888, \"#fdca26\"], [1.0, \"#f0f921\"]]}, \"colorway\": [\"#636efa\", \"#EF553B\", \"#00cc96\", \"#ab63fa\", \"#FFA15A\", \"#19d3f3\", \"#FF6692\", \"#B6E880\", \"#FF97FF\", \"#FECB52\"], \"font\": {\"color\": \"#2a3f5f\"}, \"geo\": {\"bgcolor\": \"white\", \"lakecolor\": \"white\", \"landcolor\": \"#E5ECF6\", \"showlakes\": true, \"showland\": true, \"subunitcolor\": \"white\"}, \"hoverlabel\": {\"align\": \"left\"}, \"hovermode\": \"closest\", \"mapbox\": {\"style\": \"light\"}, \"paper_bgcolor\": \"white\", \"plot_bgcolor\": \"#E5ECF6\", \"polar\": {\"angularaxis\": {\"gridcolor\": \"white\", \"linecolor\": \"white\", \"ticks\": \"\"}, \"bgcolor\": \"#E5ECF6\", \"radialaxis\": {\"gridcolor\": \"white\", \"linecolor\": \"white\", \"ticks\": \"\"}}, \"scene\": {\"xaxis\": {\"backgroundcolor\": \"#E5ECF6\", \"gridcolor\": \"white\", \"gridwidth\": 2, \"linecolor\": \"white\", \"showbackground\": true, \"ticks\": \"\", \"zerolinecolor\": \"white\"}, \"yaxis\": {\"backgroundcolor\": \"#E5ECF6\", \"gridcolor\": \"white\", \"gridwidth\": 2, \"linecolor\": \"white\", \"showbackground\": true, \"ticks\": \"\", \"zerolinecolor\": \"white\"}, \"zaxis\": {\"backgroundcolor\": \"#E5ECF6\", \"gridcolor\": \"white\", \"gridwidth\": 2, \"linecolor\": \"white\", \"showbackground\": true, \"ticks\": \"\", \"zerolinecolor\": \"white\"}}, \"shapedefaults\": {\"line\": {\"color\": \"#2a3f5f\"}}, \"ternary\": {\"aaxis\": {\"gridcolor\": \"white\", \"linecolor\": \"white\", \"ticks\": \"\"}, \"baxis\": {\"gridcolor\": \"white\", \"linecolor\": \"white\", \"ticks\": \"\"}, \"bgcolor\": \"#E5ECF6\", \"caxis\": {\"gridcolor\": \"white\", \"linecolor\": \"white\", \"ticks\": \"\"}}, \"title\": {\"x\": 0.05}, \"xaxis\": {\"automargin\": true, \"gridcolor\": \"white\", \"linecolor\": \"white\", \"ticks\": \"\", \"title\": {\"standoff\": 15}, \"zerolinecolor\": \"white\", \"zerolinewidth\": 2}, \"yaxis\": {\"automargin\": true, \"gridcolor\": \"white\", \"linecolor\": \"white\", \"ticks\": \"\", \"title\": {\"standoff\": 15}, \"zerolinecolor\": \"white\", \"zerolinewidth\": 2}}}, \"title\": {\"text\": \"Comparison of Prediction Time of different classifiers\"}, \"xaxis\": {\"title\": {\"text\": \"Machine Learning Models\"}}, \"yaxis\": {\"title\": {\"text\": \"Prediction time in seconds\"}}},                        {\"responsive\": true}                    ).then(function(){\n",
       "                            \n",
       "var gd = document.getElementById('eb7880f5-f74e-4fe7-a648-4a8408dde404');\n",
       "var x = new MutationObserver(function (mutations, observer) {{\n",
       "        var display = window.getComputedStyle(gd).display;\n",
       "        if (!display || display === 'none') {{\n",
       "            console.log([gd, 'removed!']);\n",
       "            Plotly.purge(gd);\n",
       "            observer.disconnect();\n",
       "        }}\n",
       "}});\n",
       "\n",
       "// Listen for the removal of the full notebook cells\n",
       "var notebookContainer = gd.closest('#notebook-container');\n",
       "if (notebookContainer) {{\n",
       "    x.observe(notebookContainer, {childList: true});\n",
       "}}\n",
       "\n",
       "// Listen for the clearing of the current output cell\n",
       "var outputEl = gd.closest('.output');\n",
       "if (outputEl) {{\n",
       "    x.observe(outputEl, {childList: true});\n",
       "}}\n",
       "\n",
       "                        })                };                });            </script>        </div>"
      ]
     },
     "metadata": {},
     "output_type": "display_data"
    }
   ],
   "source": [
    "fig=go.Figure(data=[go.Bar(y=list(prediction_time_container.values()),x=list(prediction_time_container.keys()),\n",
    "                           marker={'color':np.arange(len(list(prediction_time_container.values())))}\n",
    "                          ,text=list(prediction_time_container.values()), textposition='auto' )])\n",
    "\n",
    "fig.update_layout(autosize=True ,plot_bgcolor='rgb(275, 275, 275)',\n",
    "                  title=\"Comparison of Prediction Time of different classifiers\",\n",
    "                    xaxis_title=\"Machine Learning Models\",\n",
    "                    yaxis_title=\"Prediction time in seconds\" )\n",
    "\n",
    "fig.data[0].marker.line.width = 3\n",
    "fig.data[0].marker.line.color = \"black\"  \n",
    "fig"
   ]
  },
  {
   "cell_type": "code",
   "execution_count": 44,
   "id": "younger-manchester",
   "metadata": {
    "execution": {
     "iopub.execute_input": "2021-04-28T03:31:11.071803Z",
     "iopub.status.busy": "2021-04-28T03:31:11.070903Z",
     "iopub.status.idle": "2021-04-28T03:31:11.076871Z",
     "shell.execute_reply": "2021-04-28T03:31:11.076414Z"
    },
    "papermill": {
     "duration": 0.108967,
     "end_time": "2021-04-28T03:31:11.076994",
     "exception": false,
     "start_time": "2021-04-28T03:31:10.968027",
     "status": "completed"
    },
    "tags": []
   },
   "outputs": [
    {
     "data": {
      "text/html": [
       "<div>                            <div id=\"9f1fffda-e61b-409d-b18e-258ee1b60689\" class=\"plotly-graph-div\" style=\"height:525px; width:100%;\"></div>            <script type=\"text/javascript\">                require([\"plotly\"], function(Plotly) {                    window.PLOTLYENV=window.PLOTLYENV || {};                                    if (document.getElementById(\"9f1fffda-e61b-409d-b18e-258ee1b60689\")) {                    Plotly.newPlot(                        \"9f1fffda-e61b-409d-b18e-258ee1b60689\",                        [{\"marker\": {\"color\": [0, 1, 2, 3, 4, 5, 6, 7, 8], \"line\": {\"color\": \"black\", \"width\": 3}}, \"text\": [\"0\", \"0.6683504954342335\", \"0.9362735574120847\", \"0.5919953370895668\", \"0.9183990674179133\", \"0.6405673207693802\", \"0.6790363318437925\", \"0.9215076743734214\", \"0.9475422576258015\"], \"textposition\": \"auto\", \"type\": \"bar\", \"x\": [\"linear_svm_tfidf\", \"linear_svm\", \"mnb_naive_bayes_tfidf\", \"mnb_naive_bayes\", \"random_forest_tfidf\", \"random_forest\", \"logistic_reg\", \"logistic_reg_tfidf\", \"linear_svm_tfdif\"], \"y\": [0, 0.6683504954342335, 0.9362735574120847, 0.5919953370895668, 0.9183990674179133, 0.6405673207693802, 0.6790363318437925, 0.9215076743734214, 0.9475422576258015]}],                        {\"autosize\": true, \"plot_bgcolor\": \"rgb(275, 275, 275)\", \"template\": {\"data\": {\"bar\": [{\"error_x\": {\"color\": \"#2a3f5f\"}, \"error_y\": {\"color\": \"#2a3f5f\"}, \"marker\": {\"line\": {\"color\": \"#E5ECF6\", \"width\": 0.5}}, \"type\": \"bar\"}], \"barpolar\": [{\"marker\": {\"line\": {\"color\": \"#E5ECF6\", \"width\": 0.5}}, \"type\": \"barpolar\"}], \"carpet\": [{\"aaxis\": {\"endlinecolor\": \"#2a3f5f\", \"gridcolor\": \"white\", \"linecolor\": \"white\", \"minorgridcolor\": \"white\", \"startlinecolor\": \"#2a3f5f\"}, \"baxis\": {\"endlinecolor\": \"#2a3f5f\", \"gridcolor\": \"white\", \"linecolor\": \"white\", \"minorgridcolor\": \"white\", \"startlinecolor\": \"#2a3f5f\"}, \"type\": \"carpet\"}], \"choropleth\": [{\"colorbar\": {\"outlinewidth\": 0, \"ticks\": \"\"}, \"type\": \"choropleth\"}], \"contour\": [{\"colorbar\": {\"outlinewidth\": 0, \"ticks\": \"\"}, \"colorscale\": [[0.0, \"#0d0887\"], [0.1111111111111111, \"#46039f\"], [0.2222222222222222, \"#7201a8\"], [0.3333333333333333, \"#9c179e\"], [0.4444444444444444, \"#bd3786\"], [0.5555555555555556, \"#d8576b\"], [0.6666666666666666, \"#ed7953\"], [0.7777777777777778, \"#fb9f3a\"], [0.8888888888888888, \"#fdca26\"], [1.0, \"#f0f921\"]], \"type\": \"contour\"}], \"contourcarpet\": [{\"colorbar\": {\"outlinewidth\": 0, \"ticks\": \"\"}, \"type\": \"contourcarpet\"}], \"heatmap\": [{\"colorbar\": {\"outlinewidth\": 0, \"ticks\": \"\"}, \"colorscale\": [[0.0, \"#0d0887\"], [0.1111111111111111, \"#46039f\"], [0.2222222222222222, \"#7201a8\"], [0.3333333333333333, \"#9c179e\"], [0.4444444444444444, \"#bd3786\"], [0.5555555555555556, \"#d8576b\"], [0.6666666666666666, \"#ed7953\"], [0.7777777777777778, \"#fb9f3a\"], [0.8888888888888888, \"#fdca26\"], [1.0, \"#f0f921\"]], \"type\": \"heatmap\"}], \"heatmapgl\": [{\"colorbar\": {\"outlinewidth\": 0, \"ticks\": \"\"}, \"colorscale\": [[0.0, \"#0d0887\"], [0.1111111111111111, \"#46039f\"], [0.2222222222222222, \"#7201a8\"], [0.3333333333333333, \"#9c179e\"], [0.4444444444444444, \"#bd3786\"], [0.5555555555555556, \"#d8576b\"], [0.6666666666666666, \"#ed7953\"], [0.7777777777777778, \"#fb9f3a\"], [0.8888888888888888, \"#fdca26\"], [1.0, \"#f0f921\"]], \"type\": \"heatmapgl\"}], \"histogram\": [{\"marker\": {\"colorbar\": {\"outlinewidth\": 0, \"ticks\": \"\"}}, \"type\": \"histogram\"}], \"histogram2d\": [{\"colorbar\": {\"outlinewidth\": 0, \"ticks\": \"\"}, \"colorscale\": [[0.0, \"#0d0887\"], [0.1111111111111111, \"#46039f\"], [0.2222222222222222, \"#7201a8\"], [0.3333333333333333, \"#9c179e\"], [0.4444444444444444, \"#bd3786\"], [0.5555555555555556, \"#d8576b\"], [0.6666666666666666, \"#ed7953\"], [0.7777777777777778, \"#fb9f3a\"], [0.8888888888888888, \"#fdca26\"], [1.0, \"#f0f921\"]], \"type\": \"histogram2d\"}], \"histogram2dcontour\": [{\"colorbar\": {\"outlinewidth\": 0, \"ticks\": \"\"}, \"colorscale\": [[0.0, \"#0d0887\"], [0.1111111111111111, \"#46039f\"], [0.2222222222222222, \"#7201a8\"], [0.3333333333333333, \"#9c179e\"], [0.4444444444444444, \"#bd3786\"], [0.5555555555555556, \"#d8576b\"], [0.6666666666666666, \"#ed7953\"], [0.7777777777777778, \"#fb9f3a\"], [0.8888888888888888, \"#fdca26\"], [1.0, \"#f0f921\"]], \"type\": \"histogram2dcontour\"}], \"mesh3d\": [{\"colorbar\": {\"outlinewidth\": 0, \"ticks\": \"\"}, \"type\": \"mesh3d\"}], \"parcoords\": [{\"line\": {\"colorbar\": {\"outlinewidth\": 0, \"ticks\": \"\"}}, \"type\": \"parcoords\"}], \"pie\": [{\"automargin\": true, \"type\": \"pie\"}], \"scatter\": [{\"marker\": {\"colorbar\": {\"outlinewidth\": 0, \"ticks\": \"\"}}, \"type\": \"scatter\"}], \"scatter3d\": [{\"line\": {\"colorbar\": {\"outlinewidth\": 0, \"ticks\": \"\"}}, \"marker\": {\"colorbar\": {\"outlinewidth\": 0, \"ticks\": \"\"}}, \"type\": \"scatter3d\"}], \"scattercarpet\": [{\"marker\": {\"colorbar\": {\"outlinewidth\": 0, \"ticks\": \"\"}}, \"type\": \"scattercarpet\"}], \"scattergeo\": [{\"marker\": {\"colorbar\": {\"outlinewidth\": 0, \"ticks\": \"\"}}, \"type\": \"scattergeo\"}], \"scattergl\": [{\"marker\": {\"colorbar\": {\"outlinewidth\": 0, \"ticks\": \"\"}}, \"type\": \"scattergl\"}], \"scattermapbox\": [{\"marker\": {\"colorbar\": {\"outlinewidth\": 0, \"ticks\": \"\"}}, \"type\": \"scattermapbox\"}], \"scatterpolar\": [{\"marker\": {\"colorbar\": {\"outlinewidth\": 0, \"ticks\": \"\"}}, \"type\": \"scatterpolar\"}], \"scatterpolargl\": [{\"marker\": {\"colorbar\": {\"outlinewidth\": 0, \"ticks\": \"\"}}, \"type\": \"scatterpolargl\"}], \"scatterternary\": [{\"marker\": {\"colorbar\": {\"outlinewidth\": 0, \"ticks\": \"\"}}, \"type\": \"scatterternary\"}], \"surface\": [{\"colorbar\": {\"outlinewidth\": 0, \"ticks\": \"\"}, \"colorscale\": [[0.0, \"#0d0887\"], [0.1111111111111111, \"#46039f\"], [0.2222222222222222, \"#7201a8\"], [0.3333333333333333, \"#9c179e\"], [0.4444444444444444, \"#bd3786\"], [0.5555555555555556, \"#d8576b\"], [0.6666666666666666, \"#ed7953\"], [0.7777777777777778, \"#fb9f3a\"], [0.8888888888888888, \"#fdca26\"], [1.0, \"#f0f921\"]], \"type\": \"surface\"}], \"table\": [{\"cells\": {\"fill\": {\"color\": \"#EBF0F8\"}, \"line\": {\"color\": \"white\"}}, \"header\": {\"fill\": {\"color\": \"#C8D4E3\"}, \"line\": {\"color\": \"white\"}}, \"type\": \"table\"}]}, \"layout\": {\"annotationdefaults\": {\"arrowcolor\": \"#2a3f5f\", \"arrowhead\": 0, \"arrowwidth\": 1}, \"autotypenumbers\": \"strict\", \"coloraxis\": {\"colorbar\": {\"outlinewidth\": 0, \"ticks\": \"\"}}, \"colorscale\": {\"diverging\": [[0, \"#8e0152\"], [0.1, \"#c51b7d\"], [0.2, \"#de77ae\"], [0.3, \"#f1b6da\"], [0.4, \"#fde0ef\"], [0.5, \"#f7f7f7\"], [0.6, \"#e6f5d0\"], [0.7, \"#b8e186\"], [0.8, \"#7fbc41\"], [0.9, \"#4d9221\"], [1, \"#276419\"]], \"sequential\": [[0.0, \"#0d0887\"], [0.1111111111111111, \"#46039f\"], [0.2222222222222222, \"#7201a8\"], [0.3333333333333333, \"#9c179e\"], [0.4444444444444444, \"#bd3786\"], [0.5555555555555556, \"#d8576b\"], [0.6666666666666666, \"#ed7953\"], [0.7777777777777778, \"#fb9f3a\"], [0.8888888888888888, \"#fdca26\"], [1.0, \"#f0f921\"]], \"sequentialminus\": [[0.0, \"#0d0887\"], [0.1111111111111111, \"#46039f\"], [0.2222222222222222, \"#7201a8\"], [0.3333333333333333, \"#9c179e\"], [0.4444444444444444, \"#bd3786\"], [0.5555555555555556, \"#d8576b\"], [0.6666666666666666, \"#ed7953\"], [0.7777777777777778, \"#fb9f3a\"], [0.8888888888888888, \"#fdca26\"], [1.0, \"#f0f921\"]]}, \"colorway\": [\"#636efa\", \"#EF553B\", \"#00cc96\", \"#ab63fa\", \"#FFA15A\", \"#19d3f3\", \"#FF6692\", \"#B6E880\", \"#FF97FF\", \"#FECB52\"], \"font\": {\"color\": \"#2a3f5f\"}, \"geo\": {\"bgcolor\": \"white\", \"lakecolor\": \"white\", \"landcolor\": \"#E5ECF6\", \"showlakes\": true, \"showland\": true, \"subunitcolor\": \"white\"}, \"hoverlabel\": {\"align\": \"left\"}, \"hovermode\": \"closest\", \"mapbox\": {\"style\": \"light\"}, \"paper_bgcolor\": \"white\", \"plot_bgcolor\": \"#E5ECF6\", \"polar\": {\"angularaxis\": {\"gridcolor\": \"white\", \"linecolor\": \"white\", \"ticks\": \"\"}, \"bgcolor\": \"#E5ECF6\", \"radialaxis\": {\"gridcolor\": \"white\", \"linecolor\": \"white\", \"ticks\": \"\"}}, \"scene\": {\"xaxis\": {\"backgroundcolor\": \"#E5ECF6\", \"gridcolor\": \"white\", \"gridwidth\": 2, \"linecolor\": \"white\", \"showbackground\": true, \"ticks\": \"\", \"zerolinecolor\": \"white\"}, \"yaxis\": {\"backgroundcolor\": \"#E5ECF6\", \"gridcolor\": \"white\", \"gridwidth\": 2, \"linecolor\": \"white\", \"showbackground\": true, \"ticks\": \"\", \"zerolinecolor\": \"white\"}, \"zaxis\": {\"backgroundcolor\": \"#E5ECF6\", \"gridcolor\": \"white\", \"gridwidth\": 2, \"linecolor\": \"white\", \"showbackground\": true, \"ticks\": \"\", \"zerolinecolor\": \"white\"}}, \"shapedefaults\": {\"line\": {\"color\": \"#2a3f5f\"}}, \"ternary\": {\"aaxis\": {\"gridcolor\": \"white\", \"linecolor\": \"white\", \"ticks\": \"\"}, \"baxis\": {\"gridcolor\": \"white\", \"linecolor\": \"white\", \"ticks\": \"\"}, \"bgcolor\": \"#E5ECF6\", \"caxis\": {\"gridcolor\": \"white\", \"linecolor\": \"white\", \"ticks\": \"\"}}, \"title\": {\"x\": 0.05}, \"xaxis\": {\"automargin\": true, \"gridcolor\": \"white\", \"linecolor\": \"white\", \"ticks\": \"\", \"title\": {\"standoff\": 15}, \"zerolinecolor\": \"white\", \"zerolinewidth\": 2}, \"yaxis\": {\"automargin\": true, \"gridcolor\": \"white\", \"linecolor\": \"white\", \"ticks\": \"\", \"title\": {\"standoff\": 15}, \"zerolinecolor\": \"white\", \"zerolinewidth\": 2}}}, \"title\": {\"text\": \"Comparison of Accuracy Scores of different classifiers\"}, \"xaxis\": {\"title\": {\"text\": \"Machine Learning Models\"}}, \"yaxis\": {\"title\": {\"text\": \"Accuracy Scores\"}}},                        {\"responsive\": true}                    ).then(function(){\n",
       "                            \n",
       "var gd = document.getElementById('9f1fffda-e61b-409d-b18e-258ee1b60689');\n",
       "var x = new MutationObserver(function (mutations, observer) {{\n",
       "        var display = window.getComputedStyle(gd).display;\n",
       "        if (!display || display === 'none') {{\n",
       "            console.log([gd, 'removed!']);\n",
       "            Plotly.purge(gd);\n",
       "            observer.disconnect();\n",
       "        }}\n",
       "}});\n",
       "\n",
       "// Listen for the removal of the full notebook cells\n",
       "var notebookContainer = gd.closest('#notebook-container');\n",
       "if (notebookContainer) {{\n",
       "    x.observe(notebookContainer, {childList: true});\n",
       "}}\n",
       "\n",
       "// Listen for the clearing of the current output cell\n",
       "var outputEl = gd.closest('.output');\n",
       "if (outputEl) {{\n",
       "    x.observe(outputEl, {childList: true});\n",
       "}}\n",
       "\n",
       "                        })                };                });            </script>        </div>"
      ]
     },
     "metadata": {},
     "output_type": "display_data"
    }
   ],
   "source": [
    "fig=go.Figure(data=[go.Bar(y=list(accuracy_container.values()),x=list(accuracy_container.keys()),\n",
    "                           marker={'color':np.arange(len(list(accuracy_container.values())))}\n",
    "                          ,text=list(accuracy_container.values()), textposition='auto' )])\n",
    "\n",
    "fig.update_layout(autosize=True ,plot_bgcolor='rgb(275, 275, 275)',\n",
    "                  title=\"Comparison of Accuracy Scores of different classifiers\",\n",
    "                    xaxis_title=\"Machine Learning Models\",\n",
    "                    yaxis_title=\"Accuracy Scores\" )\n",
    "\n",
    "fig.data[0].marker.line.width = 3\n",
    "fig.data[0].marker.line.color = \"black\"  \n",
    "fig"
   ]
  },
  {
   "cell_type": "markdown",
   "id": "dynamic-dollar",
   "metadata": {
    "papermill": {
     "duration": 0.09505,
     "end_time": "2021-04-28T03:31:11.263276",
     "exception": false,
     "start_time": "2021-04-28T03:31:11.168226",
     "status": "completed"
    },
    "tags": []
   },
   "source": [
    "# Stratified K-fold CV"
   ]
  },
  {
   "cell_type": "markdown",
   "id": "accompanied-tucson",
   "metadata": {
    "papermill": {
     "duration": 0.087944,
     "end_time": "2021-04-28T03:31:11.441492",
     "exception": false,
     "start_time": "2021-04-28T03:31:11.353548",
     "status": "completed"
    },
    "tags": []
   },
   "source": [
    "In machine learning, when we want to train our ML model we split our entire dataset into train set and test set using train test split class present in sklearn.Then we train our model on train set and test our model on test set. The problems that we face are, whenever we change the random_state parameter present in train_test_split(), we get different accuracy for different random_state and hence we can’t exactly point out the accuracy for our model.<br>\n",
    "The solution for the this problem is to use K-Fold Cross-Validation. But K-Fold Cross Validation also suffer from second problem i.e. random sampling.<br>\n",
    "The solution for both first and second problem is to use Stratified K-Fold Cross-Validation.Stratified k-fold cross-validation is same as just k-fold cross-validation, But in Stratified k-fold cross-validation, it does stratified sampling instead of random sampling."
   ]
  },
  {
   "cell_type": "markdown",
   "id": "native-hypothetical",
   "metadata": {
    "papermill": {
     "duration": 0.143384,
     "end_time": "2021-04-28T03:31:11.671105",
     "exception": false,
     "start_time": "2021-04-28T03:31:11.527721",
     "status": "completed"
    },
    "tags": []
   },
   "source": [
    "## SVM"
   ]
  },
  {
   "cell_type": "code",
   "execution_count": 45,
   "id": "large-clause",
   "metadata": {
    "execution": {
     "iopub.execute_input": "2021-04-28T03:31:11.967278Z",
     "iopub.status.busy": "2021-04-28T03:31:11.966501Z",
     "iopub.status.idle": "2021-04-28T03:31:28.496030Z",
     "shell.execute_reply": "2021-04-28T03:31:28.495151Z"
    },
    "papermill": {
     "duration": 16.683475,
     "end_time": "2021-04-28T03:31:28.496182",
     "exception": false,
     "start_time": "2021-04-28T03:31:11.812707",
     "status": "completed"
    },
    "tags": []
   },
   "outputs": [
    {
     "name": "stdout",
     "output_type": "stream",
     "text": [
      "List of possible accuracy: [0.9553224553224553, 0.9506412747765255, 0.9432568985619899, 0.9518072289156626, 0.9510299261562378, 0.9588029537504859, 0.9506412747765255, 0.9556937427127866, 0.9603575592693354, 0.9475320637388263]\n",
      "\n",
      "Maximum Accuracy That can be obtained from this model is: 96.03575592693355 %\n",
      "\n",
      "Minimum Accuracy: 94.32568985619899 %\n",
      "\n",
      "Overall Accuracy: 95.25085377980831 %\n"
     ]
    }
   ],
   "source": [
    "svm_skcv = linear_model.SGDClassifier(loss='hinge',alpha=0.0001)\n",
    "\n",
    "# StratifiedKFold object.\n",
    "skf = StratifiedKFold(n_splits=10, shuffle=True, random_state=1)\n",
    "lst_accu_stratified_svm = []\n",
    "   \n",
    "for train_index, test_index in skf.split(X_smote_tfidf,Y_smote_tfidf):\n",
    "    x_train_fold, x_test_fold = X_smote_tfidf[train_index], X_smote_tfidf[test_index]\n",
    "    y_train_fold, y_test_fold = Y_smote_tfidf[train_index], Y_smote_tfidf[test_index]\n",
    "    svm_skcv.fit(x_train_fold, y_train_fold)\n",
    "    lst_accu_stratified_svm.append(svm_skcv.score(x_test_fold, y_test_fold))\n",
    "   \n",
    "# Print the output.\n",
    "print('List of possible accuracy:', lst_accu_stratified_svm)\n",
    "print('\\nMaximum Accuracy That can be obtained from this model is:',max(lst_accu_stratified_svm)*100, '%')\n",
    "print('\\nMinimum Accuracy:', min(lst_accu_stratified_svm)*100, '%')\n",
    "print('\\nOverall Accuracy:',mean(lst_accu_stratified_svm)*100, '%')"
   ]
  },
  {
   "cell_type": "markdown",
   "id": "endangered-winter",
   "metadata": {
    "papermill": {
     "duration": 0.097265,
     "end_time": "2021-04-28T03:31:28.691018",
     "exception": false,
     "start_time": "2021-04-28T03:31:28.593753",
     "status": "completed"
    },
    "tags": []
   },
   "source": [
    "## RandomForest"
   ]
  },
  {
   "cell_type": "code",
   "execution_count": 46,
   "id": "supposed-stable",
   "metadata": {
    "execution": {
     "iopub.execute_input": "2021-04-28T03:31:28.898331Z",
     "iopub.status.busy": "2021-04-28T03:31:28.897240Z",
     "iopub.status.idle": "2021-04-28T03:40:51.627929Z",
     "shell.execute_reply": "2021-04-28T03:40:51.628665Z"
    },
    "papermill": {
     "duration": 562.839839,
     "end_time": "2021-04-28T03:40:51.628882",
     "exception": false,
     "start_time": "2021-04-28T03:31:28.789043",
     "status": "completed"
    },
    "tags": []
   },
   "outputs": [
    {
     "name": "stdout",
     "output_type": "stream",
     "text": [
      "List of possible accuracy: [0.9382284382284383, 0.9226583754372328, 0.9288767975126312, 0.9261562378546444, 0.9347065682083171, 0.9308200544111932, 0.9203264671589584, 0.9246016323357948, 0.9288767975126312, 0.9292654488923435]\n",
      "\n",
      "Maximum Accuracy That can be obtained from this model is: 93.82284382284382 %\n",
      "\n",
      "Minimum Accuracy: 92.03264671589584 %\n",
      "\n",
      "Overall Accuracy: 92.84516817552185 %\n"
     ]
    }
   ],
   "source": [
    "rf_skcv = RandomForestClassifier(n_estimators=50)\n",
    "\n",
    "# StratifiedKFold object.\n",
    "skf = StratifiedKFold(n_splits=10, shuffle=True, random_state=1)\n",
    "lst_accu_stratified_rf = []\n",
    "   \n",
    "for train_index, test_index in skf.split(X_smote_tfidf,Y_smote_tfidf):\n",
    "    x_train_fold, x_test_fold = X_smote_tfidf[train_index], X_smote_tfidf[test_index]\n",
    "    y_train_fold, y_test_fold = Y_smote_tfidf[train_index], Y_smote_tfidf[test_index]\n",
    "    rf_skcv.fit(x_train_fold, y_train_fold)\n",
    "    lst_accu_stratified_rf.append(rf_skcv.score(x_test_fold, y_test_fold))\n",
    "   \n",
    "# Print the output.\n",
    "print('List of possible accuracy:', lst_accu_stratified_rf)\n",
    "print('\\nMaximum Accuracy That can be obtained from this model is:', max(lst_accu_stratified_rf)*100, '%')\n",
    "print('\\nMinimum Accuracy:', min(lst_accu_stratified_rf)*100, '%')\n",
    "print('\\nOverall Accuracy:', mean(lst_accu_stratified_rf)*100, '%')"
   ]
  },
  {
   "cell_type": "markdown",
   "id": "corporate-toddler",
   "metadata": {
    "papermill": {
     "duration": 0.086322,
     "end_time": "2021-04-28T03:40:51.803060",
     "exception": false,
     "start_time": "2021-04-28T03:40:51.716738",
     "status": "completed"
    },
    "tags": []
   },
   "source": [
    "## Multinomial Naive Bayes"
   ]
  },
  {
   "cell_type": "code",
   "execution_count": 47,
   "id": "fifty-sullivan",
   "metadata": {
    "execution": {
     "iopub.execute_input": "2021-04-28T03:40:51.983707Z",
     "iopub.status.busy": "2021-04-28T03:40:51.982939Z",
     "iopub.status.idle": "2021-04-28T03:40:52.960136Z",
     "shell.execute_reply": "2021-04-28T03:40:52.959509Z"
    },
    "papermill": {
     "duration": 1.070611,
     "end_time": "2021-04-28T03:40:52.960302",
     "exception": false,
     "start_time": "2021-04-28T03:40:51.889691",
     "status": "completed"
    },
    "tags": []
   },
   "outputs": [
    {
     "name": "stdout",
     "output_type": "stream",
     "text": [
      "List of possible accuracy: [0.9397824397824398, 0.9362611737271668, 0.9358725223474543, 0.9347065682083171, 0.9382044306257287, 0.9553050913330743, 0.9300427516517684, 0.9413136416634279, 0.9417022930431403, 0.9370384764865916]\n",
      "\n",
      "Maximum Accuracy That can be obtained from this model is: 95.53050913330743 %\n",
      "\n",
      "Minimum Accuracy: 93.00427516517684 %\n",
      "\n",
      "Overall Accuracy: 93.90229388869109 %\n"
     ]
    }
   ],
   "source": [
    "nb_skcv = MultinomialNB()\n",
    "\n",
    "# StratifiedKFold object.\n",
    "skf = StratifiedKFold(n_splits=10, shuffle=True, random_state=1)\n",
    "lst_accu_stratified_nb = []\n",
    "   \n",
    "for train_index, test_index in skf.split(X_smote_tfidf,Y_smote_tfidf):\n",
    "    x_train_fold, x_test_fold = X_smote_tfidf[train_index], X_smote_tfidf[test_index]\n",
    "    y_train_fold, y_test_fold = Y_smote_tfidf[train_index], Y_smote_tfidf[test_index]\n",
    "    nb_skcv.fit(x_train_fold, y_train_fold)\n",
    "    lst_accu_stratified_nb.append(nb_skcv.score(x_test_fold, y_test_fold))\n",
    "   \n",
    "# Print the output.\n",
    "print('List of possible accuracy:', lst_accu_stratified_nb)\n",
    "print('\\nMaximum Accuracy That can be obtained from this model is:', max(lst_accu_stratified_nb)*100, '%')\n",
    "print('\\nMinimum Accuracy:', min(lst_accu_stratified_nb)*100, '%')\n",
    "print('\\nOverall Accuracy:', mean(lst_accu_stratified_nb)*100, '%')"
   ]
  },
  {
   "cell_type": "markdown",
   "id": "yellow-alpha",
   "metadata": {
    "papermill": {
     "duration": 0.087602,
     "end_time": "2021-04-28T03:40:53.136667",
     "exception": false,
     "start_time": "2021-04-28T03:40:53.049065",
     "status": "completed"
    },
    "tags": []
   },
   "source": [
    "# Save the models"
   ]
  },
  {
   "cell_type": "code",
   "execution_count": 48,
   "id": "quiet-morocco",
   "metadata": {
    "execution": {
     "iopub.execute_input": "2021-04-28T03:40:53.313511Z",
     "iopub.status.busy": "2021-04-28T03:40:53.312843Z",
     "iopub.status.idle": "2021-04-28T03:40:53.315729Z",
     "shell.execute_reply": "2021-04-28T03:40:53.315280Z"
    },
    "papermill": {
     "duration": 0.092701,
     "end_time": "2021-04-28T03:40:53.315830",
     "exception": false,
     "start_time": "2021-04-28T03:40:53.223129",
     "status": "completed"
    },
    "tags": []
   },
   "outputs": [],
   "source": [
    "import joblib"
   ]
  },
  {
   "cell_type": "code",
   "execution_count": 49,
   "id": "referenced-frederick",
   "metadata": {
    "execution": {
     "iopub.execute_input": "2021-04-28T03:40:53.518571Z",
     "iopub.status.busy": "2021-04-28T03:40:53.508260Z",
     "iopub.status.idle": "2021-04-28T03:41:08.588927Z",
     "shell.execute_reply": "2021-04-28T03:41:08.587932Z"
    },
    "papermill": {
     "duration": 15.186277,
     "end_time": "2021-04-28T03:41:08.589063",
     "exception": false,
     "start_time": "2021-04-28T03:40:53.402786",
     "status": "completed"
    },
    "tags": []
   },
   "outputs": [],
   "source": [
    "# cv and tfidf\n",
    "joblib.dump(count_vectorizer, open('cv.pkl', 'wb'),8)\n",
    "joblib.dump(tfidf_vectorizer, open('tfidf.pkl', 'wb'),8)"
   ]
  },
  {
   "cell_type": "code",
   "execution_count": 50,
   "id": "residential-recovery",
   "metadata": {
    "execution": {
     "iopub.execute_input": "2021-04-28T03:41:08.772939Z",
     "iopub.status.busy": "2021-04-28T03:41:08.772217Z",
     "iopub.status.idle": "2021-04-28T03:41:17.130861Z",
     "shell.execute_reply": "2021-04-28T03:41:17.131502Z"
    },
    "papermill": {
     "duration": 8.454542,
     "end_time": "2021-04-28T03:41:17.131734",
     "exception": false,
     "start_time": "2021-04-28T03:41:08.677192",
     "status": "completed"
    },
    "tags": []
   },
   "outputs": [],
   "source": [
    "# mnb \n",
    "joblib.dump(nb, open('mnb.pkl', 'wb'),8)\n",
    "\n",
    "# svm\n",
    "joblib.dump(svm_classifier, open('svm.pkl', 'wb'),8)\n",
    "\n",
    "# randomforest\n",
    "joblib.dump(rf , open('rf.pkl', 'wb'),8)"
   ]
  },
  {
   "cell_type": "markdown",
   "id": "beginning-recall",
   "metadata": {
    "papermill": {
     "duration": 0.163177,
     "end_time": "2021-04-28T03:41:17.441479",
     "exception": false,
     "start_time": "2021-04-28T03:41:17.278302",
     "status": "completed"
    },
    "tags": []
   },
   "source": [
    "# LSTM"
   ]
  },
  {
   "cell_type": "markdown",
   "id": "agreed-humidity",
   "metadata": {
    "papermill": {
     "duration": 0.174391,
     "end_time": "2021-04-28T03:41:17.748790",
     "exception": false,
     "start_time": "2021-04-28T03:41:17.574399",
     "status": "completed"
    },
    "tags": []
   },
   "source": [
    "We will not going to create RNN model due to its vanishing gradient problem instead of that we will going to create LSTM model.LSTMs have an additional state called ‘cell state’ through which the network makes adjustments in the information flow. The advantage of this state is that the model can remember or forget the leanings more selectively.\n",
    "First of all we are going to do tokenization then we will generate sequence of n-grams.After that we will going to do padding.Padding is required because all the sentences are of different length so we need to make them of same length.We will going to do this by adding 0 in the end of the text with the help of pad_sequences function of keras"
   ]
  },
  {
   "cell_type": "code",
   "execution_count": 51,
   "id": "racial-birth",
   "metadata": {
    "execution": {
     "iopub.execute_input": "2021-04-28T03:41:18.052613Z",
     "iopub.status.busy": "2021-04-28T03:41:18.051808Z",
     "iopub.status.idle": "2021-04-28T03:41:19.901532Z",
     "shell.execute_reply": "2021-04-28T03:41:19.900623Z"
    },
    "papermill": {
     "duration": 2.010138,
     "end_time": "2021-04-28T03:41:19.901669",
     "exception": false,
     "start_time": "2021-04-28T03:41:17.891531",
     "status": "completed"
    },
    "tags": []
   },
   "outputs": [],
   "source": [
    "max_features = 6433     # the maximum number of words to keep, based on word frequency\n",
    "tokenizer = Tokenizer(num_words=max_features )\n",
    "tokenizer.fit_on_texts(df['cleaned_text'].values)"
   ]
  },
  {
   "cell_type": "code",
   "execution_count": 52,
   "id": "occupied-colleague",
   "metadata": {
    "execution": {
     "iopub.execute_input": "2021-04-28T03:41:20.110673Z",
     "iopub.status.busy": "2021-04-28T03:41:20.100490Z",
     "iopub.status.idle": "2021-04-28T03:41:21.469561Z",
     "shell.execute_reply": "2021-04-28T03:41:21.469064Z"
    },
    "papermill": {
     "duration": 1.480016,
     "end_time": "2021-04-28T03:41:21.469687",
     "exception": false,
     "start_time": "2021-04-28T03:41:19.989671",
     "status": "completed"
    },
    "tags": []
   },
   "outputs": [],
   "source": [
    "X = tokenizer.texts_to_sequences(df['cleaned_text'].values)\n",
    "X = pad_sequences(X, padding = 'post', maxlen = 6433 )"
   ]
  },
  {
   "cell_type": "code",
   "execution_count": 53,
   "id": "latest-ambassador",
   "metadata": {
    "execution": {
     "iopub.execute_input": "2021-04-28T03:41:21.650432Z",
     "iopub.status.busy": "2021-04-28T03:41:21.649629Z",
     "iopub.status.idle": "2021-04-28T03:41:21.652976Z",
     "shell.execute_reply": "2021-04-28T03:41:21.653402Z"
    },
    "papermill": {
     "duration": 0.096383,
     "end_time": "2021-04-28T03:41:21.653527",
     "exception": false,
     "start_time": "2021-04-28T03:41:21.557144",
     "status": "completed"
    },
    "tags": []
   },
   "outputs": [
    {
     "data": {
      "text/plain": [
       "array([[   8,   22, 1139, ...,    0,    0,    0],\n",
       "       [   4, 1370,  143, ...,    0,    0,    0],\n",
       "       [  87, 1129,   33, ...,    0,    0,    0],\n",
       "       ...,\n",
       "       [   8,   61,  967, ...,    0,    0,    0],\n",
       "       [ 481,   14,  810, ...,    0,    0,    0],\n",
       "       [2850,   27,  176, ...,    0,    0,    0]], dtype=int32)"
      ]
     },
     "execution_count": 53,
     "metadata": {},
     "output_type": "execute_result"
    }
   ],
   "source": [
    "X"
   ]
  },
  {
   "cell_type": "code",
   "execution_count": 54,
   "id": "organizational-texture",
   "metadata": {
    "execution": {
     "iopub.execute_input": "2021-04-28T03:41:21.832239Z",
     "iopub.status.busy": "2021-04-28T03:41:21.831707Z",
     "iopub.status.idle": "2021-04-28T03:41:21.837276Z",
     "shell.execute_reply": "2021-04-28T03:41:21.836865Z"
    },
    "papermill": {
     "duration": 0.096819,
     "end_time": "2021-04-28T03:41:21.837422",
     "exception": false,
     "start_time": "2021-04-28T03:41:21.740603",
     "status": "completed"
    },
    "tags": []
   },
   "outputs": [
    {
     "data": {
      "text/plain": [
       "6433"
      ]
     },
     "execution_count": 54,
     "metadata": {},
     "output_type": "execute_result"
    }
   ],
   "source": [
    "X.shape[1]"
   ]
  },
  {
   "cell_type": "code",
   "execution_count": 55,
   "id": "vital-spice",
   "metadata": {
    "execution": {
     "iopub.execute_input": "2021-04-28T03:41:22.020930Z",
     "iopub.status.busy": "2021-04-28T03:41:22.020127Z",
     "iopub.status.idle": "2021-04-28T03:41:22.024335Z",
     "shell.execute_reply": "2021-04-28T03:41:22.023946Z"
    },
    "papermill": {
     "duration": 0.097902,
     "end_time": "2021-04-28T03:41:22.024514",
     "exception": false,
     "start_time": "2021-04-28T03:41:21.926612",
     "status": "completed"
    },
    "tags": []
   },
   "outputs": [],
   "source": [
    "Y = pd.get_dummies(df['label']).values"
   ]
  },
  {
   "cell_type": "code",
   "execution_count": 56,
   "id": "loose-terry",
   "metadata": {
    "execution": {
     "iopub.execute_input": "2021-04-28T03:41:22.206122Z",
     "iopub.status.busy": "2021-04-28T03:41:22.205253Z",
     "iopub.status.idle": "2021-04-28T03:41:22.209715Z",
     "shell.execute_reply": "2021-04-28T03:41:22.209207Z"
    },
    "papermill": {
     "duration": 0.096241,
     "end_time": "2021-04-28T03:41:22.209825",
     "exception": false,
     "start_time": "2021-04-28T03:41:22.113584",
     "status": "completed"
    },
    "tags": []
   },
   "outputs": [
    {
     "data": {
      "text/plain": [
       "array([[0, 1, 0, ..., 0, 0, 0],\n",
       "       [0, 0, 1, ..., 0, 0, 0],\n",
       "       [0, 0, 1, ..., 0, 0, 0],\n",
       "       ...,\n",
       "       [0, 0, 1, ..., 0, 0, 0],\n",
       "       [0, 0, 1, ..., 0, 0, 0],\n",
       "       [0, 1, 0, ..., 0, 0, 0]], dtype=uint8)"
      ]
     },
     "execution_count": 56,
     "metadata": {},
     "output_type": "execute_result"
    }
   ],
   "source": [
    "Y"
   ]
  },
  {
   "cell_type": "code",
   "execution_count": 57,
   "id": "accepted-fleet",
   "metadata": {
    "execution": {
     "iopub.execute_input": "2021-04-28T03:41:22.408232Z",
     "iopub.status.busy": "2021-04-28T03:41:22.392833Z",
     "iopub.status.idle": "2021-04-28T03:41:22.649960Z",
     "shell.execute_reply": "2021-04-28T03:41:22.650429Z"
    },
    "papermill": {
     "duration": 0.350584,
     "end_time": "2021-04-28T03:41:22.650574",
     "exception": false,
     "start_time": "2021-04-28T03:41:22.299990",
     "status": "completed"
    },
    "tags": []
   },
   "outputs": [
    {
     "name": "stdout",
     "output_type": "stream",
     "text": [
      "(8245, 6433) (8245, 9)\n",
      "(2749, 6433) (2749, 9)\n"
     ]
    }
   ],
   "source": [
    "X_train, X_test, Y_train, Y_test = train_test_split(X,Y, test_size = 0.25, random_state = 42,stratify = Y)\n",
    "print(X_train.shape,Y_train.shape)\n",
    "print(X_test.shape,Y_test.shape)"
   ]
  },
  {
   "cell_type": "code",
   "execution_count": 58,
   "id": "irish-preparation",
   "metadata": {
    "execution": {
     "iopub.execute_input": "2021-04-28T03:41:22.838458Z",
     "iopub.status.busy": "2021-04-28T03:41:22.837930Z",
     "iopub.status.idle": "2021-04-28T03:41:30.088169Z",
     "shell.execute_reply": "2021-04-28T03:41:30.088779Z"
    },
    "papermill": {
     "duration": 7.345693,
     "end_time": "2021-04-28T03:41:30.088975",
     "exception": false,
     "start_time": "2021-04-28T03:41:22.743282",
     "status": "completed"
    },
    "tags": []
   },
   "outputs": [
    {
     "name": "stdout",
     "output_type": "stream",
     "text": [
      "Model: \"sequential\"\n",
      "_________________________________________________________________\n",
      "Layer (type)                 Output Shape              Param #   \n",
      "=================================================================\n",
      "embedding (Embedding)        (None, 6433, 300)         1929900   \n",
      "_________________________________________________________________\n",
      "bidirectional (Bidirectional (None, 64)                85248     \n",
      "_________________________________________________________________\n",
      "dropout (Dropout)            (None, 64)                0         \n",
      "_________________________________________________________________\n",
      "dense (Dense)                (None, 32)                2080      \n",
      "_________________________________________________________________\n",
      "dropout_1 (Dropout)          (None, 32)                0         \n",
      "_________________________________________________________________\n",
      "dense_1 (Dense)              (None, 9)                 297       \n",
      "=================================================================\n",
      "Total params: 2,017,525\n",
      "Trainable params: 2,017,525\n",
      "Non-trainable params: 0\n",
      "_________________________________________________________________\n"
     ]
    }
   ],
   "source": [
    "embid_dim = 300\n",
    "lstm_out = 32\n",
    "\n",
    "\n",
    "model = keras.Sequential()\n",
    "model.add(Embedding(max_features, embid_dim, input_length = X.shape[1] ))\n",
    "model.add(Bidirectional(LSTM(lstm_out)))\n",
    "model.add(Dropout(0.4))\n",
    "model.add(Dense(32, activation = 'relu'))\n",
    "model.add(Dropout(0.4))\n",
    "model.add(Dense(9,activation = 'softmax'))\n",
    "\n",
    "model.summary()"
   ]
  },
  {
   "cell_type": "markdown",
   "id": "eligible-jerusalem",
   "metadata": {
    "papermill": {
     "duration": 0.08906,
     "end_time": "2021-04-28T03:41:30.268305",
     "exception": false,
     "start_time": "2021-04-28T03:41:30.179245",
     "status": "completed"
    },
    "tags": []
   },
   "source": [
    "So our model is created now it's time to train our model, we will going to use 10 epochs"
   ]
  },
  {
   "cell_type": "code",
   "execution_count": 59,
   "id": "italian-patio",
   "metadata": {
    "execution": {
     "iopub.execute_input": "2021-04-28T03:41:30.457477Z",
     "iopub.status.busy": "2021-04-28T03:41:30.456928Z",
     "iopub.status.idle": "2021-04-28T03:53:36.201596Z",
     "shell.execute_reply": "2021-04-28T03:53:36.202258Z"
    },
    "papermill": {
     "duration": 725.845268,
     "end_time": "2021-04-28T03:53:36.202536",
     "exception": false,
     "start_time": "2021-04-28T03:41:30.357268",
     "status": "completed"
    },
    "tags": []
   },
   "outputs": [
    {
     "name": "stdout",
     "output_type": "stream",
     "text": [
      "Epoch 1/10\n",
      "65/65 [==============================] - 80s 1s/step - loss: 2.1020 - accuracy: 0.2192 - val_loss: 1.8277 - val_accuracy: 0.3609\n",
      "Epoch 2/10\n",
      "65/65 [==============================] - 73s 1s/step - loss: 1.7803 - accuracy: 0.3727 - val_loss: 1.5771 - val_accuracy: 0.4143\n",
      "Epoch 3/10\n",
      "65/65 [==============================] - 73s 1s/step - loss: 1.5130 - accuracy: 0.4450 - val_loss: 1.3727 - val_accuracy: 0.5020\n",
      "Epoch 4/10\n",
      "65/65 [==============================] - 72s 1s/step - loss: 1.2689 - accuracy: 0.5291 - val_loss: 1.1964 - val_accuracy: 0.5780\n",
      "Epoch 5/10\n",
      "65/65 [==============================] - 71s 1s/step - loss: 1.0111 - accuracy: 0.6296 - val_loss: 1.1442 - val_accuracy: 0.5940\n",
      "Epoch 6/10\n",
      "65/65 [==============================] - 73s 1s/step - loss: 0.8343 - accuracy: 0.6955 - val_loss: 1.1540 - val_accuracy: 0.6115\n",
      "Epoch 7/10\n",
      "65/65 [==============================] - 71s 1s/step - loss: 0.7255 - accuracy: 0.7399 - val_loss: 1.1420 - val_accuracy: 0.6381\n",
      "Epoch 8/10\n",
      "65/65 [==============================] - 71s 1s/step - loss: 0.5918 - accuracy: 0.7936 - val_loss: 1.3015 - val_accuracy: 0.6359\n",
      "Epoch 9/10\n",
      "65/65 [==============================] - 71s 1s/step - loss: 0.5130 - accuracy: 0.8231 - val_loss: 1.3435 - val_accuracy: 0.6541\n",
      "Epoch 10/10\n",
      "65/65 [==============================] - 71s 1s/step - loss: 0.4544 - accuracy: 0.8455 - val_loss: 1.3266 - val_accuracy: 0.6570\n"
     ]
    }
   ],
   "source": [
    "batch_size = 128\n",
    "earlystop = EarlyStopping(monitor='loss', min_delta=0, patience=3, verbose=0, mode='auto')\n",
    "model.compile(loss = 'categorical_crossentropy', optimizer='adam',metrics = ['accuracy'])\n",
    "history = model.fit(X_train, Y_train, epochs = 10, batch_size=batch_size, verbose = 1, validation_data= (X_test, Y_test),callbacks=[earlystop])"
   ]
  },
  {
   "cell_type": "markdown",
   "id": "material-spanking",
   "metadata": {
    "papermill": {
     "duration": 0.258204,
     "end_time": "2021-04-28T03:53:36.718799",
     "exception": false,
     "start_time": "2021-04-28T03:53:36.460595",
     "status": "completed"
    },
    "tags": []
   },
   "source": [
    "### Plot Accuracy and Loss"
   ]
  },
  {
   "cell_type": "code",
   "execution_count": 60,
   "id": "social-latin",
   "metadata": {
    "execution": {
     "iopub.execute_input": "2021-04-28T03:53:37.261100Z",
     "iopub.status.busy": "2021-04-28T03:53:37.260281Z",
     "iopub.status.idle": "2021-04-28T03:53:37.518006Z",
     "shell.execute_reply": "2021-04-28T03:53:37.517572Z"
    },
    "papermill": {
     "duration": 0.541003,
     "end_time": "2021-04-28T03:53:37.518115",
     "exception": false,
     "start_time": "2021-04-28T03:53:36.977112",
     "status": "completed"
    },
    "tags": []
   },
   "outputs": [
    {
     "data": {
      "image/png": "[encoded data removed]",
      "text/plain": [
       "<Figure size 432x288 with 1 Axes>"
      ]
     },
     "metadata": {},
     "output_type": "display_data"
    },
    {
     "data": {
      "image/png": "[encoded data removed]",
      "text/plain": [
       "<Figure size 432x288 with 1 Axes>"
      ]
     },
     "metadata": {},
     "output_type": "display_data"
    }
   ],
   "source": [
    "acc = history.history['accuracy']\n",
    "val_acc = history.history['val_accuracy']\n",
    "loss = history.history['loss']\n",
    "val_loss = history.history['val_loss']\n",
    "\n",
    "epochs = range(len(acc))\n",
    "\n",
    "plt.plot(epochs, acc, 'r', label='Training accuracy')\n",
    "plt.plot(epochs, val_acc, 'b', label='Validation accuracy')\n",
    "plt.title('Training and validation accuracy')\n",
    "plt.legend()\n",
    "plt.figure()\n",
    "\n",
    "plt.plot(epochs, loss, 'r', label='Training Loss')\n",
    "plt.plot(epochs, val_loss, 'b', label='Validation Loss')\n",
    "plt.title('Training and validation loss')\n",
    "plt.legend()\n",
    "\n",
    "plt.show()"
   ]
  },
  {
   "cell_type": "markdown",
   "id": "specified-franklin",
   "metadata": {
    "papermill": {
     "duration": 0.260594,
     "end_time": "2021-04-28T03:53:38.040356",
     "exception": false,
     "start_time": "2021-04-28T03:53:37.779762",
     "status": "completed"
    },
    "tags": []
   },
   "source": [
    "### Save LSTM model"
   ]
  },
  {
   "cell_type": "code",
   "execution_count": 61,
   "id": "removable-reaction",
   "metadata": {
    "execution": {
     "iopub.execute_input": "2021-04-28T03:53:38.578854Z",
     "iopub.status.busy": "2021-04-28T03:53:38.578027Z",
     "iopub.status.idle": "2021-04-28T03:53:38.641231Z",
     "shell.execute_reply": "2021-04-28T03:53:38.640441Z"
    },
    "papermill": {
     "duration": 0.337715,
     "end_time": "2021-04-28T03:53:38.641381",
     "exception": false,
     "start_time": "2021-04-28T03:53:38.303666",
     "status": "completed"
    },
    "tags": []
   },
   "outputs": [],
   "source": [
    "model.save('lstm.h5')"
   ]
  },
  {
   "cell_type": "markdown",
   "id": "expressed-consistency",
   "metadata": {
    "papermill": {
     "duration": 0.261676,
     "end_time": "2021-04-28T03:53:39.165722",
     "exception": false,
     "start_time": "2021-04-28T03:53:38.904046",
     "status": "completed"
    },
    "tags": []
   },
   "source": [
    "# BERT"
   ]
  },
  {
   "cell_type": "markdown",
   "id": "universal-annual",
   "metadata": {
    "papermill": {
     "duration": 0.272318,
     "end_time": "2021-04-28T03:53:39.700029",
     "exception": false,
     "start_time": "2021-04-28T03:53:39.427711",
     "status": "completed"
    },
    "tags": []
   },
   "source": [
    "So now we will going to make the bert model.In our kernel we have less memory so we will going to take 50% of our dataset"
   ]
  },
  {
   "cell_type": "code",
   "execution_count": 62,
   "id": "impressed-presence",
   "metadata": {
    "execution": {
     "iopub.execute_input": "2021-04-28T03:53:40.230965Z",
     "iopub.status.busy": "2021-04-28T03:53:40.230182Z",
     "iopub.status.idle": "2021-04-28T03:53:40.236577Z",
     "shell.execute_reply": "2021-04-28T03:53:40.236163Z"
    },
    "papermill": {
     "duration": 0.275589,
     "end_time": "2021-04-28T03:53:40.236689",
     "exception": false,
     "start_time": "2021-04-28T03:53:39.961100",
     "status": "completed"
    },
    "tags": []
   },
   "outputs": [],
   "source": [
    "df_bert = df.sample(frac=0.5)"
   ]
  },
  {
   "cell_type": "code",
   "execution_count": 63,
   "id": "friendly-mauritius",
   "metadata": {
    "execution": {
     "iopub.execute_input": "2021-04-28T03:53:40.767571Z",
     "iopub.status.busy": "2021-04-28T03:53:40.765854Z",
     "iopub.status.idle": "2021-04-28T03:53:40.768154Z",
     "shell.execute_reply": "2021-04-28T03:53:40.768573Z"
    },
    "papermill": {
     "duration": 0.270009,
     "end_time": "2021-04-28T03:53:40.768698",
     "exception": false,
     "start_time": "2021-04-28T03:53:40.498689",
     "status": "completed"
    },
    "tags": []
   },
   "outputs": [],
   "source": [
    "df_bert.reset_index(inplace=True)"
   ]
  },
  {
   "cell_type": "code",
   "execution_count": 64,
   "id": "correct-allergy",
   "metadata": {
    "execution": {
     "iopub.execute_input": "2021-04-28T03:53:41.299299Z",
     "iopub.status.busy": "2021-04-28T03:53:41.298123Z",
     "iopub.status.idle": "2021-04-28T03:53:41.305980Z",
     "shell.execute_reply": "2021-04-28T03:53:41.305536Z"
    },
    "papermill": {
     "duration": 0.2764,
     "end_time": "2021-04-28T03:53:41.306088",
     "exception": false,
     "start_time": "2021-04-28T03:53:41.029688",
     "status": "completed"
    },
    "tags": []
   },
   "outputs": [
    {
     "data": {
      "text/plain": [
       "2    1408\n",
       "7     880\n",
       "4     758\n",
       "8     588\n",
       "1     563\n",
       "5     494\n",
       "6     289\n",
       "3     288\n",
       "0     229\n",
       "Name: target, dtype: int64"
      ]
     },
     "execution_count": 64,
     "metadata": {},
     "output_type": "execute_result"
    }
   ],
   "source": [
    "df_bert['target'].value_counts()"
   ]
  },
  {
   "cell_type": "markdown",
   "id": "centered-montana",
   "metadata": {
    "papermill": {
     "duration": 0.261941,
     "end_time": "2021-04-28T03:53:41.834916",
     "exception": false,
     "start_time": "2021-04-28T03:53:41.572975",
     "status": "completed"
    },
    "tags": []
   },
   "source": [
    "So our dataset is imbalanced, we split the dataset in a stratified way"
   ]
  },
  {
   "cell_type": "code",
   "execution_count": 65,
   "id": "above-spending",
   "metadata": {
    "execution": {
     "iopub.execute_input": "2021-04-28T03:53:42.366824Z",
     "iopub.status.busy": "2021-04-28T03:53:42.365992Z",
     "iopub.status.idle": "2021-04-28T03:53:42.374567Z",
     "shell.execute_reply": "2021-04-28T03:53:42.374138Z"
    },
    "papermill": {
     "duration": 0.277254,
     "end_time": "2021-04-28T03:53:42.374678",
     "exception": false,
     "start_time": "2021-04-28T03:53:42.097424",
     "status": "completed"
    },
    "tags": []
   },
   "outputs": [],
   "source": [
    "X_train, X_val, y_train, y_val = train_test_split(df_bert.index.values, \n",
    "                                                  df_bert.target.values, \n",
    "                                                  test_size=0.15, \n",
    "                                                  random_state=42, \n",
    "                                                  stratify=df_bert.target.values)"
   ]
  },
  {
   "cell_type": "code",
   "execution_count": 66,
   "id": "peripheral-christopher",
   "metadata": {
    "execution": {
     "iopub.execute_input": "2021-04-28T03:53:42.908009Z",
     "iopub.status.busy": "2021-04-28T03:53:42.907467Z",
     "iopub.status.idle": "2021-04-28T03:53:42.915545Z",
     "shell.execute_reply": "2021-04-28T03:53:42.914329Z"
    },
    "papermill": {
     "duration": 0.276422,
     "end_time": "2021-04-28T03:53:42.915658",
     "exception": false,
     "start_time": "2021-04-28T03:53:42.639236",
     "status": "completed"
    },
    "tags": []
   },
   "outputs": [],
   "source": [
    "df_bert['data_type'] = ['not_set']*df_bert.shape[0]\n",
    "\n",
    "df_bert.loc[X_train, 'data_type'] = 'train'\n",
    "df_bert.loc[X_val, 'data_type'] = 'val'"
   ]
  },
  {
   "cell_type": "markdown",
   "id": "governing-clinic",
   "metadata": {
    "papermill": {
     "duration": 0.263028,
     "end_time": "2021-04-28T03:53:43.441186",
     "exception": false,
     "start_time": "2021-04-28T03:53:43.178158",
     "status": "completed"
    },
    "tags": []
   },
   "source": [
    "Now we will construct the BERT Tokenizer.Based on wordpiece.We will intantiate a pre-trained model configuration to encode our data"
   ]
  },
  {
   "cell_type": "code",
   "execution_count": 67,
   "id": "thorough-familiar",
   "metadata": {
    "execution": {
     "iopub.execute_input": "2021-04-28T03:53:43.970947Z",
     "iopub.status.busy": "2021-04-28T03:53:43.970130Z",
     "iopub.status.idle": "2021-04-28T03:53:46.815629Z",
     "shell.execute_reply": "2021-04-28T03:53:46.815120Z"
    },
    "papermill": {
     "duration": 3.110909,
     "end_time": "2021-04-28T03:53:46.815750",
     "exception": false,
     "start_time": "2021-04-28T03:53:43.704841",
     "status": "completed"
    },
    "tags": []
   },
   "outputs": [
    {
     "data": {
      "application/vnd.jupyter.widget-view+json": {
       "model_id": "7cb527b1d293427c8a85beb94f5e4932",
       "version_major": 2,
       "version_minor": 0
      },
      "text/plain": [
       "Downloading:   0%|          | 0.00/232k [00:00<?, ?B/s]"
      ]
     },
     "metadata": {},
     "output_type": "display_data"
    },
    {
     "data": {
      "application/vnd.jupyter.widget-view+json": {
       "model_id": "28bedcbdb46b4df6a8b55495dcd6e5c1",
       "version_major": 2,
       "version_minor": 0
      },
      "text/plain": [
       "Downloading:   0%|          | 0.00/28.0 [00:00<?, ?B/s]"
      ]
     },
     "metadata": {},
     "output_type": "display_data"
    },
    {
     "data": {
      "application/vnd.jupyter.widget-view+json": {
       "model_id": "c9a4fbd3deb345c6b986e63520fd4689",
       "version_major": 2,
       "version_minor": 0
      },
      "text/plain": [
       "Downloading:   0%|          | 0.00/466k [00:00<?, ?B/s]"
      ]
     },
     "metadata": {},
     "output_type": "display_data"
    }
   ],
   "source": [
    "tokenizer = BertTokenizer.from_pretrained('bert-base-uncased', \n",
    "                                          do_lower_case=True)"
   ]
  },
  {
   "cell_type": "markdown",
   "id": "related-senegal",
   "metadata": {
    "papermill": {
     "duration": 0.271775,
     "end_time": "2021-04-28T03:53:47.356920",
     "exception": false,
     "start_time": "2021-04-28T03:53:47.085145",
     "status": "completed"
    },
    "tags": []
   },
   "source": [
    "- To convert all the titles from text into encoded form, we use a function called *batch_encode_plus* and we will proceed train and test data seperately.The first parameter inside the function is the text.\n",
    "- *add_special_tokens = True* means the sequences will encoded with the special tokens realtive to their model\n",
    "- *return_attention_mask=True* returns the attention mask according to the special tokenizer defined by *max_length* attribute"
   ]
  },
  {
   "cell_type": "code",
   "execution_count": 68,
   "id": "answering-diary",
   "metadata": {
    "execution": {
     "iopub.execute_input": "2021-04-28T03:53:47.905250Z",
     "iopub.status.busy": "2021-04-28T03:53:47.904526Z",
     "iopub.status.idle": "2021-04-28T03:54:09.730888Z",
     "shell.execute_reply": "2021-04-28T03:54:09.729883Z"
    },
    "papermill": {
     "duration": 22.105172,
     "end_time": "2021-04-28T03:54:09.731030",
     "exception": false,
     "start_time": "2021-04-28T03:53:47.625858",
     "status": "completed"
    },
    "tags": []
   },
   "outputs": [
    {
     "name": "stderr",
     "output_type": "stream",
     "text": [
      "Truncation was not explicitly activated but `max_length` is provided a specific value, please use `truncation=True` to explicitly truncate examples to max length. Defaulting to 'longest_first' truncation strategy. If you encode pairs of sequences (GLUE-style) with the tokenizer you can select this strategy more precisely by providing a specific strategy to `truncation`.\n",
      "/opt/conda/lib/python3.7/site-packages/transformers/tokenization_utils_base.py:2074: FutureWarning:\n",
      "\n",
      "The `pad_to_max_length` argument is deprecated and will be removed in a future version, use `padding=True` or `padding='longest'` to pad to the longest sequence in the batch, or use `padding='max_length'` to pad to a max length. In this case, you can give a specific length with `max_length` (e.g. `max_length=45`) or leave max_length to None to pad to the maximal input size of the model (e.g. 512 for Bert).\n",
      "\n"
     ]
    }
   ],
   "source": [
    "encoded_data_train = tokenizer.batch_encode_plus(\n",
    "    df_bert[df_bert.data_type=='train'].final_text.values, \n",
    "    add_special_tokens=True, \n",
    "    return_attention_mask=True, \n",
    "    pad_to_max_length=True, \n",
    "    max_length=256, \n",
    "    return_tensors='pt'\n",
    ")\n",
    "\n",
    "encoded_data_val = tokenizer.batch_encode_plus(\n",
    "    df_bert[df_bert.data_type=='val'].final_text.values, \n",
    "    add_special_tokens=True, \n",
    "    return_attention_mask=True, \n",
    "    pad_to_max_length=True, \n",
    "    max_length=256, \n",
    "    return_tensors='pt'\n",
    ")\n",
    "\n",
    "\n",
    "input_ids_train = encoded_data_train['input_ids']\n",
    "attention_masks_train = encoded_data_train['attention_mask']\n",
    "labels_train = torch.tensor(df_bert[df_bert.data_type=='train'].target.values)\n",
    "\n",
    "input_ids_val = encoded_data_val['input_ids']\n",
    "attention_masks_val = encoded_data_val['attention_mask']\n",
    "labels_val = torch.tensor(df_bert[df_bert.data_type=='val'].target.values)"
   ]
  },
  {
   "cell_type": "markdown",
   "id": "monetary-circus",
   "metadata": {
    "papermill": {
     "duration": 0.263576,
     "end_time": "2021-04-28T03:54:10.259911",
     "exception": false,
     "start_time": "2021-04-28T03:54:09.996335",
     "status": "completed"
    },
    "tags": []
   },
   "source": [
    "Now we got encoded dataset, we can create training data and validation data"
   ]
  },
  {
   "cell_type": "code",
   "execution_count": 69,
   "id": "wireless-monkey",
   "metadata": {
    "execution": {
     "iopub.execute_input": "2021-04-28T03:54:10.795072Z",
     "iopub.status.busy": "2021-04-28T03:54:10.793285Z",
     "iopub.status.idle": "2021-04-28T03:54:10.795662Z",
     "shell.execute_reply": "2021-04-28T03:54:10.796076Z"
    },
    "papermill": {
     "duration": 0.272482,
     "end_time": "2021-04-28T03:54:10.796204",
     "exception": false,
     "start_time": "2021-04-28T03:54:10.523722",
     "status": "completed"
    },
    "tags": []
   },
   "outputs": [],
   "source": [
    "dataset_train = TensorDataset(input_ids_train, attention_masks_train, labels_train)\n",
    "dataset_val = TensorDataset(input_ids_val, attention_masks_val, labels_val)"
   ]
  },
  {
   "cell_type": "code",
   "execution_count": 70,
   "id": "therapeutic-transcription",
   "metadata": {
    "execution": {
     "iopub.execute_input": "2021-04-28T03:54:11.327909Z",
     "iopub.status.busy": "2021-04-28T03:54:11.327321Z",
     "iopub.status.idle": "2021-04-28T03:54:11.332830Z",
     "shell.execute_reply": "2021-04-28T03:54:11.333220Z"
    },
    "papermill": {
     "duration": 0.273073,
     "end_time": "2021-04-28T03:54:11.333380",
     "exception": false,
     "start_time": "2021-04-28T03:54:11.060307",
     "status": "completed"
    },
    "tags": []
   },
   "outputs": [
    {
     "data": {
      "text/plain": [
       "(4672, 825)"
      ]
     },
     "execution_count": 70,
     "metadata": {},
     "output_type": "execute_result"
    }
   ],
   "source": [
    "# length of training and validation data \n",
    "len(dataset_train), len(dataset_val)"
   ]
  },
  {
   "cell_type": "markdown",
   "id": "cardiac-federal",
   "metadata": {
    "papermill": {
     "duration": 0.294991,
     "end_time": "2021-04-28T03:54:11.891717",
     "exception": false,
     "start_time": "2021-04-28T03:54:11.596726",
     "status": "completed"
    },
    "tags": []
   },
   "source": [
    "We are treating each title as its unique sequence, so one sequence will be classified into one of the 12 labels"
   ]
  },
  {
   "cell_type": "code",
   "execution_count": 71,
   "id": "intended-local",
   "metadata": {
    "execution": {
     "iopub.execute_input": "2021-04-28T03:54:12.435043Z",
     "iopub.status.busy": "2021-04-28T03:54:12.434183Z",
     "iopub.status.idle": "2021-04-28T03:54:36.762551Z",
     "shell.execute_reply": "2021-04-28T03:54:36.763006Z"
    },
    "papermill": {
     "duration": 24.607371,
     "end_time": "2021-04-28T03:54:36.763169",
     "exception": false,
     "start_time": "2021-04-28T03:54:12.155798",
     "status": "completed"
    },
    "tags": []
   },
   "outputs": [
    {
     "data": {
      "application/vnd.jupyter.widget-view+json": {
       "model_id": "730d44ac7d3d4cafaf31bd60df7cc110",
       "version_major": 2,
       "version_minor": 0
      },
      "text/plain": [
       "Downloading:   0%|          | 0.00/570 [00:00<?, ?B/s]"
      ]
     },
     "metadata": {},
     "output_type": "display_data"
    },
    {
     "data": {
      "application/vnd.jupyter.widget-view+json": {
       "model_id": "d6252c8dd5474d8f9b27705b9b52079f",
       "version_major": 2,
       "version_minor": 0
      },
      "text/plain": [
       "Downloading:   0%|          | 0.00/440M [00:00<?, ?B/s]"
      ]
     },
     "metadata": {},
     "output_type": "display_data"
    },
    {
     "name": "stderr",
     "output_type": "stream",
     "text": [
      "Some weights of the model checkpoint at bert-base-uncased were not used when initializing BertForSequenceClassification: ['cls.predictions.bias', 'cls.predictions.transform.dense.weight', 'cls.predictions.transform.dense.bias', 'cls.predictions.decoder.weight', 'cls.seq_relationship.weight', 'cls.seq_relationship.bias', 'cls.predictions.transform.LayerNorm.weight', 'cls.predictions.transform.LayerNorm.bias']\n",
      "- This IS expected if you are initializing BertForSequenceClassification from the checkpoint of a model trained on another task or with another architecture (e.g. initializing a BertForSequenceClassification model from a BertForPreTraining model).\n",
      "- This IS NOT expected if you are initializing BertForSequenceClassification from the checkpoint of a model that you expect to be exactly identical (initializing a BertForSequenceClassification model from a BertForSequenceClassification model).\n",
      "Some weights of BertForSequenceClassification were not initialized from the model checkpoint at bert-base-uncased and are newly initialized: ['classifier.weight', 'classifier.bias']\n",
      "You should probably TRAIN this model on a down-stream task to be able to use it for predictions and inference.\n"
     ]
    }
   ],
   "source": [
    "model = BertForSequenceClassification.from_pretrained(\"bert-base-uncased\",\n",
    "                                                      num_labels=12,\n",
    "                                                      output_attentions=False,\n",
    "                                                      output_hidden_states=False)"
   ]
  },
  {
   "cell_type": "markdown",
   "id": "sublime-daughter",
   "metadata": {
    "papermill": {
     "duration": 0.266736,
     "end_time": "2021-04-28T03:54:37.297877",
     "exception": false,
     "start_time": "2021-04-28T03:54:37.031141",
     "status": "completed"
    },
    "tags": []
   },
   "source": [
    "DataLoader combines a dataset and a sampler and provides an iterable over the given dataset."
   ]
  },
  {
   "cell_type": "code",
   "execution_count": 72,
   "id": "functioning-texas",
   "metadata": {
    "execution": {
     "iopub.execute_input": "2021-04-28T03:54:37.834357Z",
     "iopub.status.busy": "2021-04-28T03:54:37.833615Z",
     "iopub.status.idle": "2021-04-28T03:54:37.836152Z",
     "shell.execute_reply": "2021-04-28T03:54:37.836624Z"
    },
    "papermill": {
     "duration": 0.273093,
     "end_time": "2021-04-28T03:54:37.836770",
     "exception": false,
     "start_time": "2021-04-28T03:54:37.563677",
     "status": "completed"
    },
    "tags": []
   },
   "outputs": [],
   "source": [
    "batch_size = 3\n",
    "\n",
    "dataloader_train = DataLoader(dataset_train, \n",
    "                              sampler=RandomSampler(dataset_train), \n",
    "                              batch_size=batch_size)\n",
    "\n",
    "dataloader_validation = DataLoader(dataset_val, \n",
    "                                   sampler=SequentialSampler(dataset_val), \n",
    "                                   batch_size=batch_size)"
   ]
  },
  {
   "cell_type": "code",
   "execution_count": 73,
   "id": "after-entry",
   "metadata": {
    "execution": {
     "iopub.execute_input": "2021-04-28T03:54:38.377073Z",
     "iopub.status.busy": "2021-04-28T03:54:38.376333Z",
     "iopub.status.idle": "2021-04-28T03:54:38.379108Z",
     "shell.execute_reply": "2021-04-28T03:54:38.378709Z"
    },
    "papermill": {
     "duration": 0.275306,
     "end_time": "2021-04-28T03:54:38.379212",
     "exception": false,
     "start_time": "2021-04-28T03:54:38.103906",
     "status": "completed"
    },
    "tags": []
   },
   "outputs": [],
   "source": [
    "optimizer = AdamW(model.parameters(),\n",
    "                  lr=1e-5, \n",
    "                  eps=1e-8)"
   ]
  },
  {
   "cell_type": "code",
   "execution_count": 74,
   "id": "injured-consideration",
   "metadata": {
    "execution": {
     "iopub.execute_input": "2021-04-28T03:54:39.152415Z",
     "iopub.status.busy": "2021-04-28T03:54:39.151542Z",
     "iopub.status.idle": "2021-04-28T03:54:39.153756Z",
     "shell.execute_reply": "2021-04-28T03:54:39.153092Z"
    },
    "papermill": {
     "duration": 0.436231,
     "end_time": "2021-04-28T03:54:39.153909",
     "exception": false,
     "start_time": "2021-04-28T03:54:38.717678",
     "status": "completed"
    },
    "tags": []
   },
   "outputs": [],
   "source": [
    "epochs = 3\n",
    "\n",
    "scheduler = get_linear_schedule_with_warmup(optimizer, \n",
    "                                            num_warmup_steps=0,\n",
    "                                            num_training_steps=len(dataloader_train)*epochs)"
   ]
  },
  {
   "cell_type": "markdown",
   "id": "severe-exercise",
   "metadata": {
    "papermill": {
     "duration": 0.537603,
     "end_time": "2021-04-28T03:54:40.149017",
     "exception": false,
     "start_time": "2021-04-28T03:54:39.611414",
     "status": "completed"
    },
    "tags": []
   },
   "source": [
    "We will use f1 score as a performance metrics"
   ]
  },
  {
   "cell_type": "code",
   "execution_count": 75,
   "id": "stuffed-persian",
   "metadata": {
    "execution": {
     "iopub.execute_input": "2021-04-28T03:54:40.711135Z",
     "iopub.status.busy": "2021-04-28T03:54:40.710417Z",
     "iopub.status.idle": "2021-04-28T03:54:40.713303Z",
     "shell.execute_reply": "2021-04-28T03:54:40.712879Z"
    },
    "papermill": {
     "duration": 0.272576,
     "end_time": "2021-04-28T03:54:40.713430",
     "exception": false,
     "start_time": "2021-04-28T03:54:40.440854",
     "status": "completed"
    },
    "tags": []
   },
   "outputs": [],
   "source": [
    "def f1_score_func(preds, labels):\n",
    "    preds_flat = np.argmax(preds, axis=1).flatten()\n",
    "    labels_flat = labels.flatten()\n",
    "    return f1_score(labels_flat, preds_flat, average='weighted')"
   ]
  },
  {
   "cell_type": "code",
   "execution_count": 76,
   "id": "premier-senate",
   "metadata": {
    "execution": {
     "iopub.execute_input": "2021-04-28T03:54:41.252168Z",
     "iopub.status.busy": "2021-04-28T03:54:41.251632Z",
     "iopub.status.idle": "2021-04-28T03:54:41.257751Z",
     "shell.execute_reply": "2021-04-28T03:54:41.257194Z"
    },
    "papermill": {
     "duration": 0.277989,
     "end_time": "2021-04-28T03:54:41.257859",
     "exception": false,
     "start_time": "2021-04-28T03:54:40.979870",
     "status": "completed"
    },
    "tags": []
   },
   "outputs": [],
   "source": [
    "seed_val = 17\n",
    "random.seed(seed_val)\n",
    "np.random.seed(seed_val)\n",
    "torch.manual_seed(seed_val)\n",
    "torch.cuda.manual_seed_all(seed_val)"
   ]
  },
  {
   "cell_type": "code",
   "execution_count": 77,
   "id": "fiscal-initial",
   "metadata": {
    "execution": {
     "iopub.execute_input": "2021-04-28T03:54:41.803609Z",
     "iopub.status.busy": "2021-04-28T03:54:41.803068Z",
     "iopub.status.idle": "2021-04-28T03:54:41.934840Z",
     "shell.execute_reply": "2021-04-28T03:54:41.934370Z"
    },
    "papermill": {
     "duration": 0.409401,
     "end_time": "2021-04-28T03:54:41.934953",
     "exception": false,
     "start_time": "2021-04-28T03:54:41.525552",
     "status": "completed"
    },
    "tags": []
   },
   "outputs": [
    {
     "name": "stdout",
     "output_type": "stream",
     "text": [
      "cuda\n"
     ]
    }
   ],
   "source": [
    "device = torch.device('cuda' if torch.cuda.is_available() else 'cpu')\n",
    "model.to(device)\n",
    "\n",
    "print(device)"
   ]
  },
  {
   "cell_type": "markdown",
   "id": "crucial-learning",
   "metadata": {
    "papermill": {
     "duration": 0.269514,
     "end_time": "2021-04-28T03:54:42.474078",
     "exception": false,
     "start_time": "2021-04-28T03:54:42.204564",
     "status": "completed"
    },
    "tags": []
   },
   "source": [
    "### Training loop"
   ]
  },
  {
   "cell_type": "code",
   "execution_count": 78,
   "id": "frequent-twelve",
   "metadata": {
    "execution": {
     "iopub.execute_input": "2021-04-28T03:54:43.017127Z",
     "iopub.status.busy": "2021-04-28T03:54:43.016301Z",
     "iopub.status.idle": "2021-04-28T03:54:43.019198Z",
     "shell.execute_reply": "2021-04-28T03:54:43.018792Z"
    },
    "papermill": {
     "duration": 0.277458,
     "end_time": "2021-04-28T03:54:43.019308",
     "exception": false,
     "start_time": "2021-04-28T03:54:42.741850",
     "status": "completed"
    },
    "tags": []
   },
   "outputs": [],
   "source": [
    "def evaluate(dataloader_val):\n",
    "\n",
    "    model.eval()\n",
    "    \n",
    "    loss_val_total = 0\n",
    "    predictions, true_vals = [], []\n",
    "    \n",
    "    for batch in dataloader_val:\n",
    "        \n",
    "        batch = tuple(b.to(device) for b in batch)\n",
    "        \n",
    "        inputs = {'input_ids':      batch[0],\n",
    "                  'attention_mask': batch[1],\n",
    "                  'labels':         batch[2],\n",
    "                 }\n",
    "\n",
    "        with torch.no_grad():        \n",
    "            outputs = model(**inputs)\n",
    "            \n",
    "        loss = outputs[0]\n",
    "        logits = outputs[1]\n",
    "        loss_val_total += loss.item()\n",
    "\n",
    "        logits = logits.detach().cpu().numpy()\n",
    "        label_ids = inputs['labels'].cpu().numpy()\n",
    "        predictions.append(logits)\n",
    "        true_vals.append(label_ids)\n",
    "    \n",
    "    loss_val_avg = loss_val_total/len(dataloader_val) \n",
    "    \n",
    "    predictions = np.concatenate(predictions, axis=0)\n",
    "    true_vals = np.concatenate(true_vals, axis=0)\n",
    "            \n",
    "    return loss_val_avg, predictions, true_vals"
   ]
  },
  {
   "cell_type": "code",
   "execution_count": 79,
   "id": "biblical-hybrid",
   "metadata": {
    "execution": {
     "iopub.execute_input": "2021-04-28T03:54:43.585871Z",
     "iopub.status.busy": "2021-04-28T03:54:43.563362Z",
     "iopub.status.idle": "2021-04-28T03:54:43.773389Z",
     "shell.execute_reply": "2021-04-28T03:54:43.774047Z"
    },
    "papermill": {
     "duration": 0.4861,
     "end_time": "2021-04-28T03:54:43.774254",
     "exception": false,
     "start_time": "2021-04-28T03:54:43.288154",
     "status": "completed"
    },
    "tags": []
   },
   "outputs": [
    {
     "data": {
      "application/vnd.jupyter.widget-view+json": {
       "model_id": "e91c990d2e654667a8373aa5a9856cee",
       "version_major": 2,
       "version_minor": 0
      },
      "text/plain": [
       "  0%|          | 0/3 [00:00<?, ?it/s]"
      ]
     },
     "metadata": {},
     "output_type": "display_data"
    },
    {
     "data": {
      "application/vnd.jupyter.widget-view+json": {
       "model_id": "e4486a86d7674b82b9cb11dd2faec34b",
       "version_major": 2,
       "version_minor": 0
      },
      "text/plain": [
       "Epoch 1:   0%|          | 0/1558 [00:00<?, ?it/s]"
      ]
     },
     "metadata": {},
     "output_type": "display_data"
    },
    {
     "ename": "RuntimeError",
     "evalue": "CUDA out of memory. Tried to allocate 20.00 MiB (GPU 0; 15.90 GiB total capacity; 625.83 MiB already allocated; 37.75 MiB free; 692.00 MiB reserved in total by PyTorch)",
     "output_type": "error",
     "traceback": [
      "\u001b[0;31m---------------------------------------------------------------------------\u001b[0m",
      "\u001b[0;31mRuntimeError\u001b[0m                              Traceback (most recent call last)",
      "\u001b[0;32m<ipython-input-79-1ffdc798a7d8>\u001b[0m in \u001b[0;36m<module>\u001b[0;34m\u001b[0m\n\u001b[1;32m     17\u001b[0m                  }       \n\u001b[1;32m     18\u001b[0m \u001b[0;34m\u001b[0m\u001b[0m\n\u001b[0;32m---> 19\u001b[0;31m         \u001b[0moutputs\u001b[0m \u001b[0;34m=\u001b[0m \u001b[0mmodel\u001b[0m\u001b[0;34m(\u001b[0m\u001b[0;34m**\u001b[0m\u001b[0minputs\u001b[0m\u001b[0;34m)\u001b[0m\u001b[0;34m\u001b[0m\u001b[0;34m\u001b[0m\u001b[0m\n\u001b[0m\u001b[1;32m     20\u001b[0m \u001b[0;34m\u001b[0m\u001b[0m\n\u001b[1;32m     21\u001b[0m         \u001b[0mloss\u001b[0m \u001b[0;34m=\u001b[0m \u001b[0moutputs\u001b[0m\u001b[0;34m[\u001b[0m\u001b[0;36m0\u001b[0m\u001b[0;34m]\u001b[0m\u001b[0;34m\u001b[0m\u001b[0;34m\u001b[0m\u001b[0m\n",
      "\u001b[0;32m/opt/conda/lib/python3.7/site-packages/torch/nn/modules/module.py\u001b[0m in \u001b[0;36m_call_impl\u001b[0;34m(self, *input, **kwargs)\u001b[0m\n\u001b[1;32m    725\u001b[0m             \u001b[0mresult\u001b[0m \u001b[0;34m=\u001b[0m \u001b[0mself\u001b[0m\u001b[0;34m.\u001b[0m\u001b[0m_slow_forward\u001b[0m\u001b[0;34m(\u001b[0m\u001b[0;34m*\u001b[0m\u001b[0minput\u001b[0m\u001b[0;34m,\u001b[0m \u001b[0;34m**\u001b[0m\u001b[0mkwargs\u001b[0m\u001b[0;34m)\u001b[0m\u001b[0;34m\u001b[0m\u001b[0;34m\u001b[0m\u001b[0m\n\u001b[1;32m    726\u001b[0m         \u001b[0;32melse\u001b[0m\u001b[0;34m:\u001b[0m\u001b[0;34m\u001b[0m\u001b[0;34m\u001b[0m\u001b[0m\n\u001b[0;32m--> 727\u001b[0;31m             \u001b[0mresult\u001b[0m \u001b[0;34m=\u001b[0m \u001b[0mself\u001b[0m\u001b[0;34m.\u001b[0m\u001b[0mforward\u001b[0m\u001b[0;34m(\u001b[0m\u001b[0;34m*\u001b[0m\u001b[0minput\u001b[0m\u001b[0;34m,\u001b[0m \u001b[0;34m**\u001b[0m\u001b[0mkwargs\u001b[0m\u001b[0;34m)\u001b[0m\u001b[0;34m\u001b[0m\u001b[0;34m\u001b[0m\u001b[0m\n\u001b[0m\u001b[1;32m    728\u001b[0m         for hook in itertools.chain(\n\u001b[1;32m    729\u001b[0m                 \u001b[0m_global_forward_hooks\u001b[0m\u001b[0;34m.\u001b[0m\u001b[0mvalues\u001b[0m\u001b[0;34m(\u001b[0m\u001b[0;34m)\u001b[0m\u001b[0;34m,\u001b[0m\u001b[0;34m\u001b[0m\u001b[0;34m\u001b[0m\u001b[0m\n",
      "\u001b[0;32m/opt/conda/lib/python3.7/site-packages/transformers/models/bert/modeling_bert.py\u001b[0m in \u001b[0;36mforward\u001b[0;34m(self, input_ids, attention_mask, token_type_ids, position_ids, head_mask, inputs_embeds, labels, output_attentions, output_hidden_states, return_dict)\u001b[0m\n\u001b[1;32m   1508\u001b[0m             \u001b[0moutput_attentions\u001b[0m\u001b[0;34m=\u001b[0m\u001b[0moutput_attentions\u001b[0m\u001b[0;34m,\u001b[0m\u001b[0;34m\u001b[0m\u001b[0;34m\u001b[0m\u001b[0m\n\u001b[1;32m   1509\u001b[0m             \u001b[0moutput_hidden_states\u001b[0m\u001b[0;34m=\u001b[0m\u001b[0moutput_hidden_states\u001b[0m\u001b[0;34m,\u001b[0m\u001b[0;34m\u001b[0m\u001b[0;34m\u001b[0m\u001b[0m\n\u001b[0;32m-> 1510\u001b[0;31m             \u001b[0mreturn_dict\u001b[0m\u001b[0;34m=\u001b[0m\u001b[0mreturn_dict\u001b[0m\u001b[0;34m,\u001b[0m\u001b[0;34m\u001b[0m\u001b[0;34m\u001b[0m\u001b[0m\n\u001b[0m\u001b[1;32m   1511\u001b[0m         )\n\u001b[1;32m   1512\u001b[0m \u001b[0;34m\u001b[0m\u001b[0m\n",
      "\u001b[0;32m/opt/conda/lib/python3.7/site-packages/torch/nn/modules/module.py\u001b[0m in \u001b[0;36m_call_impl\u001b[0;34m(self, *input, **kwargs)\u001b[0m\n\u001b[1;32m    725\u001b[0m             \u001b[0mresult\u001b[0m \u001b[0;34m=\u001b[0m \u001b[0mself\u001b[0m\u001b[0;34m.\u001b[0m\u001b[0m_slow_forward\u001b[0m\u001b[0;34m(\u001b[0m\u001b[0;34m*\u001b[0m\u001b[0minput\u001b[0m\u001b[0;34m,\u001b[0m \u001b[0;34m**\u001b[0m\u001b[0mkwargs\u001b[0m\u001b[0;34m)\u001b[0m\u001b[0;34m\u001b[0m\u001b[0;34m\u001b[0m\u001b[0m\n\u001b[1;32m    726\u001b[0m         \u001b[0;32melse\u001b[0m\u001b[0;34m:\u001b[0m\u001b[0;34m\u001b[0m\u001b[0;34m\u001b[0m\u001b[0m\n\u001b[0;32m--> 727\u001b[0;31m             \u001b[0mresult\u001b[0m \u001b[0;34m=\u001b[0m \u001b[0mself\u001b[0m\u001b[0;34m.\u001b[0m\u001b[0mforward\u001b[0m\u001b[0;34m(\u001b[0m\u001b[0;34m*\u001b[0m\u001b[0minput\u001b[0m\u001b[0;34m,\u001b[0m \u001b[0;34m**\u001b[0m\u001b[0mkwargs\u001b[0m\u001b[0;34m)\u001b[0m\u001b[0;34m\u001b[0m\u001b[0;34m\u001b[0m\u001b[0m\n\u001b[0m\u001b[1;32m    728\u001b[0m         for hook in itertools.chain(\n\u001b[1;32m    729\u001b[0m                 \u001b[0m_global_forward_hooks\u001b[0m\u001b[0;34m.\u001b[0m\u001b[0mvalues\u001b[0m\u001b[0;34m(\u001b[0m\u001b[0;34m)\u001b[0m\u001b[0;34m,\u001b[0m\u001b[0;34m\u001b[0m\u001b[0;34m\u001b[0m\u001b[0m\n",
      "\u001b[0;32m/opt/conda/lib/python3.7/site-packages/transformers/models/bert/modeling_bert.py\u001b[0m in \u001b[0;36mforward\u001b[0;34m(self, input_ids, attention_mask, token_type_ids, position_ids, head_mask, inputs_embeds, encoder_hidden_states, encoder_attention_mask, past_key_values, use_cache, output_attentions, output_hidden_states, return_dict)\u001b[0m\n\u001b[1;32m    979\u001b[0m             \u001b[0moutput_attentions\u001b[0m\u001b[0;34m=\u001b[0m\u001b[0moutput_attentions\u001b[0m\u001b[0;34m,\u001b[0m\u001b[0;34m\u001b[0m\u001b[0;34m\u001b[0m\u001b[0m\n\u001b[1;32m    980\u001b[0m             \u001b[0moutput_hidden_states\u001b[0m\u001b[0;34m=\u001b[0m\u001b[0moutput_hidden_states\u001b[0m\u001b[0;34m,\u001b[0m\u001b[0;34m\u001b[0m\u001b[0;34m\u001b[0m\u001b[0m\n\u001b[0;32m--> 981\u001b[0;31m             \u001b[0mreturn_dict\u001b[0m\u001b[0;34m=\u001b[0m\u001b[0mreturn_dict\u001b[0m\u001b[0;34m,\u001b[0m\u001b[0;34m\u001b[0m\u001b[0;34m\u001b[0m\u001b[0m\n\u001b[0m\u001b[1;32m    982\u001b[0m         )\n\u001b[1;32m    983\u001b[0m         \u001b[0msequence_output\u001b[0m \u001b[0;34m=\u001b[0m \u001b[0mencoder_outputs\u001b[0m\u001b[0;34m[\u001b[0m\u001b[0;36m0\u001b[0m\u001b[0;34m]\u001b[0m\u001b[0;34m\u001b[0m\u001b[0;34m\u001b[0m\u001b[0m\n",
      "\u001b[0;32m/opt/conda/lib/python3.7/site-packages/torch/nn/modules/module.py\u001b[0m in \u001b[0;36m_call_impl\u001b[0;34m(self, *input, **kwargs)\u001b[0m\n\u001b[1;32m    725\u001b[0m             \u001b[0mresult\u001b[0m \u001b[0;34m=\u001b[0m \u001b[0mself\u001b[0m\u001b[0;34m.\u001b[0m\u001b[0m_slow_forward\u001b[0m\u001b[0;34m(\u001b[0m\u001b[0;34m*\u001b[0m\u001b[0minput\u001b[0m\u001b[0;34m,\u001b[0m \u001b[0;34m**\u001b[0m\u001b[0mkwargs\u001b[0m\u001b[0;34m)\u001b[0m\u001b[0;34m\u001b[0m\u001b[0;34m\u001b[0m\u001b[0m\n\u001b[1;32m    726\u001b[0m         \u001b[0;32melse\u001b[0m\u001b[0;34m:\u001b[0m\u001b[0;34m\u001b[0m\u001b[0;34m\u001b[0m\u001b[0m\n\u001b[0;32m--> 727\u001b[0;31m             \u001b[0mresult\u001b[0m \u001b[0;34m=\u001b[0m \u001b[0mself\u001b[0m\u001b[0;34m.\u001b[0m\u001b[0mforward\u001b[0m\u001b[0;34m(\u001b[0m\u001b[0;34m*\u001b[0m\u001b[0minput\u001b[0m\u001b[0;34m,\u001b[0m \u001b[0;34m**\u001b[0m\u001b[0mkwargs\u001b[0m\u001b[0;34m)\u001b[0m\u001b[0;34m\u001b[0m\u001b[0;34m\u001b[0m\u001b[0m\n\u001b[0m\u001b[1;32m    728\u001b[0m         for hook in itertools.chain(\n\u001b[1;32m    729\u001b[0m                 \u001b[0m_global_forward_hooks\u001b[0m\u001b[0;34m.\u001b[0m\u001b[0mvalues\u001b[0m\u001b[0;34m(\u001b[0m\u001b[0;34m)\u001b[0m\u001b[0;34m,\u001b[0m\u001b[0;34m\u001b[0m\u001b[0;34m\u001b[0m\u001b[0m\n",
      "\u001b[0;32m/opt/conda/lib/python3.7/site-packages/transformers/models/bert/modeling_bert.py\u001b[0m in \u001b[0;36mforward\u001b[0;34m(self, hidden_states, attention_mask, head_mask, encoder_hidden_states, encoder_attention_mask, past_key_values, use_cache, output_attentions, output_hidden_states, return_dict)\u001b[0m\n\u001b[1;32m    573\u001b[0m                     \u001b[0mencoder_attention_mask\u001b[0m\u001b[0;34m,\u001b[0m\u001b[0;34m\u001b[0m\u001b[0;34m\u001b[0m\u001b[0m\n\u001b[1;32m    574\u001b[0m                     \u001b[0mpast_key_value\u001b[0m\u001b[0;34m,\u001b[0m\u001b[0;34m\u001b[0m\u001b[0;34m\u001b[0m\u001b[0m\n\u001b[0;32m--> 575\u001b[0;31m                     \u001b[0moutput_attentions\u001b[0m\u001b[0;34m,\u001b[0m\u001b[0;34m\u001b[0m\u001b[0;34m\u001b[0m\u001b[0m\n\u001b[0m\u001b[1;32m    576\u001b[0m                 )\n\u001b[1;32m    577\u001b[0m \u001b[0;34m\u001b[0m\u001b[0m\n",
      "\u001b[0;32m/opt/conda/lib/python3.7/site-packages/torch/nn/modules/module.py\u001b[0m in \u001b[0;36m_call_impl\u001b[0;34m(self, *input, **kwargs)\u001b[0m\n\u001b[1;32m    725\u001b[0m             \u001b[0mresult\u001b[0m \u001b[0;34m=\u001b[0m \u001b[0mself\u001b[0m\u001b[0;34m.\u001b[0m\u001b[0m_slow_forward\u001b[0m\u001b[0;34m(\u001b[0m\u001b[0;34m*\u001b[0m\u001b[0minput\u001b[0m\u001b[0;34m,\u001b[0m \u001b[0;34m**\u001b[0m\u001b[0mkwargs\u001b[0m\u001b[0;34m)\u001b[0m\u001b[0;34m\u001b[0m\u001b[0;34m\u001b[0m\u001b[0m\n\u001b[1;32m    726\u001b[0m         \u001b[0;32melse\u001b[0m\u001b[0;34m:\u001b[0m\u001b[0;34m\u001b[0m\u001b[0;34m\u001b[0m\u001b[0m\n\u001b[0;32m--> 727\u001b[0;31m             \u001b[0mresult\u001b[0m \u001b[0;34m=\u001b[0m \u001b[0mself\u001b[0m\u001b[0;34m.\u001b[0m\u001b[0mforward\u001b[0m\u001b[0;34m(\u001b[0m\u001b[0;34m*\u001b[0m\u001b[0minput\u001b[0m\u001b[0;34m,\u001b[0m \u001b[0;34m**\u001b[0m\u001b[0mkwargs\u001b[0m\u001b[0;34m)\u001b[0m\u001b[0;34m\u001b[0m\u001b[0;34m\u001b[0m\u001b[0m\n\u001b[0m\u001b[1;32m    728\u001b[0m         for hook in itertools.chain(\n\u001b[1;32m    729\u001b[0m                 \u001b[0m_global_forward_hooks\u001b[0m\u001b[0;34m.\u001b[0m\u001b[0mvalues\u001b[0m\u001b[0;34m(\u001b[0m\u001b[0;34m)\u001b[0m\u001b[0;34m,\u001b[0m\u001b[0;34m\u001b[0m\u001b[0;34m\u001b[0m\u001b[0m\n",
      "\u001b[0;32m/opt/conda/lib/python3.7/site-packages/transformers/models/bert/modeling_bert.py\u001b[0m in \u001b[0;36mforward\u001b[0;34m(self, hidden_states, attention_mask, head_mask, encoder_hidden_states, encoder_attention_mask, past_key_value, output_attentions)\u001b[0m\n\u001b[1;32m    495\u001b[0m \u001b[0;34m\u001b[0m\u001b[0m\n\u001b[1;32m    496\u001b[0m         layer_output = apply_chunking_to_forward(\n\u001b[0;32m--> 497\u001b[0;31m             \u001b[0mself\u001b[0m\u001b[0;34m.\u001b[0m\u001b[0mfeed_forward_chunk\u001b[0m\u001b[0;34m,\u001b[0m \u001b[0mself\u001b[0m\u001b[0;34m.\u001b[0m\u001b[0mchunk_size_feed_forward\u001b[0m\u001b[0;34m,\u001b[0m \u001b[0mself\u001b[0m\u001b[0;34m.\u001b[0m\u001b[0mseq_len_dim\u001b[0m\u001b[0;34m,\u001b[0m \u001b[0mattention_output\u001b[0m\u001b[0;34m\u001b[0m\u001b[0;34m\u001b[0m\u001b[0m\n\u001b[0m\u001b[1;32m    498\u001b[0m         )\n\u001b[1;32m    499\u001b[0m         \u001b[0moutputs\u001b[0m \u001b[0;34m=\u001b[0m \u001b[0;34m(\u001b[0m\u001b[0mlayer_output\u001b[0m\u001b[0;34m,\u001b[0m\u001b[0;34m)\u001b[0m \u001b[0;34m+\u001b[0m \u001b[0moutputs\u001b[0m\u001b[0;34m\u001b[0m\u001b[0;34m\u001b[0m\u001b[0m\n",
      "\u001b[0;32m/opt/conda/lib/python3.7/site-packages/transformers/modeling_utils.py\u001b[0m in \u001b[0;36mapply_chunking_to_forward\u001b[0;34m(forward_fn, chunk_size, chunk_dim, *input_tensors)\u001b[0m\n\u001b[1;32m   1817\u001b[0m         \u001b[0;32mreturn\u001b[0m \u001b[0mtorch\u001b[0m\u001b[0;34m.\u001b[0m\u001b[0mcat\u001b[0m\u001b[0;34m(\u001b[0m\u001b[0moutput_chunks\u001b[0m\u001b[0;34m,\u001b[0m \u001b[0mdim\u001b[0m\u001b[0;34m=\u001b[0m\u001b[0mchunk_dim\u001b[0m\u001b[0;34m)\u001b[0m\u001b[0;34m\u001b[0m\u001b[0;34m\u001b[0m\u001b[0m\n\u001b[1;32m   1818\u001b[0m \u001b[0;34m\u001b[0m\u001b[0m\n\u001b[0;32m-> 1819\u001b[0;31m     \u001b[0;32mreturn\u001b[0m \u001b[0mforward_fn\u001b[0m\u001b[0;34m(\u001b[0m\u001b[0;34m*\u001b[0m\u001b[0minput_tensors\u001b[0m\u001b[0;34m)\u001b[0m\u001b[0;34m\u001b[0m\u001b[0;34m\u001b[0m\u001b[0m\n\u001b[0m",
      "\u001b[0;32m/opt/conda/lib/python3.7/site-packages/transformers/models/bert/modeling_bert.py\u001b[0m in \u001b[0;36mfeed_forward_chunk\u001b[0;34m(self, attention_output)\u001b[0m\n\u001b[1;32m    506\u001b[0m \u001b[0;34m\u001b[0m\u001b[0m\n\u001b[1;32m    507\u001b[0m     \u001b[0;32mdef\u001b[0m \u001b[0mfeed_forward_chunk\u001b[0m\u001b[0;34m(\u001b[0m\u001b[0mself\u001b[0m\u001b[0;34m,\u001b[0m \u001b[0mattention_output\u001b[0m\u001b[0;34m)\u001b[0m\u001b[0;34m:\u001b[0m\u001b[0;34m\u001b[0m\u001b[0;34m\u001b[0m\u001b[0m\n\u001b[0;32m--> 508\u001b[0;31m         \u001b[0mintermediate_output\u001b[0m \u001b[0;34m=\u001b[0m \u001b[0mself\u001b[0m\u001b[0;34m.\u001b[0m\u001b[0mintermediate\u001b[0m\u001b[0;34m(\u001b[0m\u001b[0mattention_output\u001b[0m\u001b[0;34m)\u001b[0m\u001b[0;34m\u001b[0m\u001b[0;34m\u001b[0m\u001b[0m\n\u001b[0m\u001b[1;32m    509\u001b[0m         \u001b[0mlayer_output\u001b[0m \u001b[0;34m=\u001b[0m \u001b[0mself\u001b[0m\u001b[0;34m.\u001b[0m\u001b[0moutput\u001b[0m\u001b[0;34m(\u001b[0m\u001b[0mintermediate_output\u001b[0m\u001b[0;34m,\u001b[0m \u001b[0mattention_output\u001b[0m\u001b[0;34m)\u001b[0m\u001b[0;34m\u001b[0m\u001b[0;34m\u001b[0m\u001b[0m\n\u001b[1;32m    510\u001b[0m         \u001b[0;32mreturn\u001b[0m \u001b[0mlayer_output\u001b[0m\u001b[0;34m\u001b[0m\u001b[0;34m\u001b[0m\u001b[0m\n",
      "\u001b[0;32m/opt/conda/lib/python3.7/site-packages/torch/nn/modules/module.py\u001b[0m in \u001b[0;36m_call_impl\u001b[0;34m(self, *input, **kwargs)\u001b[0m\n\u001b[1;32m    725\u001b[0m             \u001b[0mresult\u001b[0m \u001b[0;34m=\u001b[0m \u001b[0mself\u001b[0m\u001b[0;34m.\u001b[0m\u001b[0m_slow_forward\u001b[0m\u001b[0;34m(\u001b[0m\u001b[0;34m*\u001b[0m\u001b[0minput\u001b[0m\u001b[0;34m,\u001b[0m \u001b[0;34m**\u001b[0m\u001b[0mkwargs\u001b[0m\u001b[0;34m)\u001b[0m\u001b[0;34m\u001b[0m\u001b[0;34m\u001b[0m\u001b[0m\n\u001b[1;32m    726\u001b[0m         \u001b[0;32melse\u001b[0m\u001b[0;34m:\u001b[0m\u001b[0;34m\u001b[0m\u001b[0;34m\u001b[0m\u001b[0m\n\u001b[0;32m--> 727\u001b[0;31m             \u001b[0mresult\u001b[0m \u001b[0;34m=\u001b[0m \u001b[0mself\u001b[0m\u001b[0;34m.\u001b[0m\u001b[0mforward\u001b[0m\u001b[0;34m(\u001b[0m\u001b[0;34m*\u001b[0m\u001b[0minput\u001b[0m\u001b[0;34m,\u001b[0m \u001b[0;34m**\u001b[0m\u001b[0mkwargs\u001b[0m\u001b[0;34m)\u001b[0m\u001b[0;34m\u001b[0m\u001b[0;34m\u001b[0m\u001b[0m\n\u001b[0m\u001b[1;32m    728\u001b[0m         for hook in itertools.chain(\n\u001b[1;32m    729\u001b[0m                 \u001b[0m_global_forward_hooks\u001b[0m\u001b[0;34m.\u001b[0m\u001b[0mvalues\u001b[0m\u001b[0;34m(\u001b[0m\u001b[0;34m)\u001b[0m\u001b[0;34m,\u001b[0m\u001b[0;34m\u001b[0m\u001b[0;34m\u001b[0m\u001b[0m\n",
      "\u001b[0;32m/opt/conda/lib/python3.7/site-packages/transformers/models/bert/modeling_bert.py\u001b[0m in \u001b[0;36mforward\u001b[0;34m(self, hidden_states)\u001b[0m\n\u001b[1;32m    410\u001b[0m     \u001b[0;32mdef\u001b[0m \u001b[0mforward\u001b[0m\u001b[0;34m(\u001b[0m\u001b[0mself\u001b[0m\u001b[0;34m,\u001b[0m \u001b[0mhidden_states\u001b[0m\u001b[0;34m)\u001b[0m\u001b[0;34m:\u001b[0m\u001b[0;34m\u001b[0m\u001b[0;34m\u001b[0m\u001b[0m\n\u001b[1;32m    411\u001b[0m         \u001b[0mhidden_states\u001b[0m \u001b[0;34m=\u001b[0m \u001b[0mself\u001b[0m\u001b[0;34m.\u001b[0m\u001b[0mdense\u001b[0m\u001b[0;34m(\u001b[0m\u001b[0mhidden_states\u001b[0m\u001b[0;34m)\u001b[0m\u001b[0;34m\u001b[0m\u001b[0;34m\u001b[0m\u001b[0m\n\u001b[0;32m--> 412\u001b[0;31m         \u001b[0mhidden_states\u001b[0m \u001b[0;34m=\u001b[0m \u001b[0mself\u001b[0m\u001b[0;34m.\u001b[0m\u001b[0mintermediate_act_fn\u001b[0m\u001b[0;34m(\u001b[0m\u001b[0mhidden_states\u001b[0m\u001b[0;34m)\u001b[0m\u001b[0;34m\u001b[0m\u001b[0;34m\u001b[0m\u001b[0m\n\u001b[0m\u001b[1;32m    413\u001b[0m         \u001b[0;32mreturn\u001b[0m \u001b[0mhidden_states\u001b[0m\u001b[0;34m\u001b[0m\u001b[0;34m\u001b[0m\u001b[0m\n\u001b[1;32m    414\u001b[0m \u001b[0;34m\u001b[0m\u001b[0m\n",
      "\u001b[0;32m/opt/conda/lib/python3.7/site-packages/torch/nn/functional.py\u001b[0m in \u001b[0;36mgelu\u001b[0;34m(input)\u001b[0m\n\u001b[1;32m   1381\u001b[0m         \u001b[0;32mif\u001b[0m \u001b[0mtype\u001b[0m\u001b[0;34m(\u001b[0m\u001b[0minput\u001b[0m\u001b[0;34m)\u001b[0m \u001b[0;32mis\u001b[0m \u001b[0;32mnot\u001b[0m \u001b[0mTensor\u001b[0m \u001b[0;32mand\u001b[0m \u001b[0mhas_torch_function\u001b[0m\u001b[0;34m(\u001b[0m\u001b[0;34m(\u001b[0m\u001b[0minput\u001b[0m\u001b[0;34m,\u001b[0m\u001b[0;34m)\u001b[0m\u001b[0;34m)\u001b[0m\u001b[0;34m:\u001b[0m\u001b[0;34m\u001b[0m\u001b[0;34m\u001b[0m\u001b[0m\n\u001b[1;32m   1382\u001b[0m             \u001b[0;32mreturn\u001b[0m \u001b[0mhandle_torch_function\u001b[0m\u001b[0;34m(\u001b[0m\u001b[0mgelu\u001b[0m\u001b[0;34m,\u001b[0m \u001b[0;34m(\u001b[0m\u001b[0minput\u001b[0m\u001b[0;34m,\u001b[0m\u001b[0;34m)\u001b[0m\u001b[0;34m,\u001b[0m \u001b[0minput\u001b[0m\u001b[0;34m)\u001b[0m\u001b[0;34m\u001b[0m\u001b[0;34m\u001b[0m\u001b[0m\n\u001b[0;32m-> 1383\u001b[0;31m     \u001b[0;32mreturn\u001b[0m \u001b[0mtorch\u001b[0m\u001b[0;34m.\u001b[0m\u001b[0m_C\u001b[0m\u001b[0;34m.\u001b[0m\u001b[0m_nn\u001b[0m\u001b[0;34m.\u001b[0m\u001b[0mgelu\u001b[0m\u001b[0;34m(\u001b[0m\u001b[0minput\u001b[0m\u001b[0;34m)\u001b[0m\u001b[0;34m\u001b[0m\u001b[0;34m\u001b[0m\u001b[0m\n\u001b[0m\u001b[1;32m   1384\u001b[0m \u001b[0;34m\u001b[0m\u001b[0m\n\u001b[1;32m   1385\u001b[0m \u001b[0;34m\u001b[0m\u001b[0m\n",
      "\u001b[0;31mRuntimeError\u001b[0m: CUDA out of memory. Tried to allocate 20.00 MiB (GPU 0; 15.90 GiB total capacity; 625.83 MiB already allocated; 37.75 MiB free; 692.00 MiB reserved in total by PyTorch)"
     ]
    }
   ],
   "source": [
    "for epoch in tqdm(range(1, epochs+1)):\n",
    "    \n",
    "    #model.train()\n",
    "    \n",
    "    loss_train_total = 0\n",
    "\n",
    "    progress_bar = tqdm(dataloader_train, desc='Epoch {:1d}'.format(epoch), leave=False, disable=False)\n",
    "    for batch in progress_bar:\n",
    "\n",
    "        model.zero_grad()\n",
    "        \n",
    "        batch = tuple(b.to(device) for b in batch)\n",
    "        \n",
    "        inputs = {'input_ids':      batch[0],\n",
    "                  'attention_mask': batch[1],\n",
    "                  'labels':         batch[2],\n",
    "                 }       \n",
    "\n",
    "        outputs = model(**inputs)\n",
    "        \n",
    "        loss = outputs[0]\n",
    "        loss_train_total += loss.item()\n",
    "        loss.backward()\n",
    "\n",
    "        torch.nn.utils.clip_grad_norm_(model.parameters(), 1.0)\n",
    "\n",
    "        optimizer.step()\n",
    "        scheduler.step()\n",
    "        \n",
    "        progress_bar.set_postfix({'training_loss': '{:.3f}'.format(loss.item()/len(batch))})\n",
    "        \n",
    "        \n",
    "    tqdm.write(f'\\nEpoch {epoch}')\n",
    "    \n",
    "    loss_train_avg = loss_train_total/len(dataloader_train)            \n",
    "    tqdm.write(f'Training loss: {loss_train_avg}')\n",
    "    \n",
    "    val_loss, predictions, true_vals = evaluate(dataloader_validation)\n",
    "    val_f1 = f1_score_func(predictions, true_vals)\n",
    "    tqdm.write(f'Validation loss: {val_loss}')\n",
    "    tqdm.write(f'F1 Score (Weighted): {val_f1}')"
   ]
  }
 ],
 "metadata": {
  "kernelspec": {
   "display_name": "Python 3",
   "language": "python",
   "name": "python3"
  },
  "language_info": {
   "codemirror_mode": {
    "name": "ipython",
    "version": 3
   },
   "file_extension": ".py",
   "mimetype": "text/x-python",
   "name": "python",
   "nbconvert_exporter": "python",
   "pygments_lexer": "ipython3",
   "version": "3.7.9"
  },
  "papermill": {
   "default_parameters": {},
   "duration": 1976.44549,
   "end_time": "2021-04-28T03:54:48.363606",
   "environment_variables": {},
   "exception": null,
   "input_path": "__notebook__.ipynb",
   "output_path": "__notebook__.ipynb",
   "parameters": {},
   "start_time": "2021-04-28T03:21:51.918116",
   "version": "2.3.2"
  },
  "widgets": {
   "application/vnd.jupyter.widget-state+json": {
    "state": {
     "00631ae0b2d94537903938f05cf5bd92": {
      "model_module": "@jupyter-widgets/base",
      "model_module_version": "1.2.0",
      "model_name": "LayoutModel",
      "state": {
       "_model_module": "@jupyter-widgets/base",
       "_model_module_version": "1.2.0",
       "_model_name": "LayoutModel",
       "_view_count": null,
       "_view_module": "@jupyter-widgets/base",
       "_view_module_version": "1.2.0",
       "_view_name": "LayoutView",
       "align_content": null,
       "align_items": null,
       "align_self": null,
       "border": null,
       "bottom": null,
       "display": null,
       "flex": null,
       "flex_flow": null,
       "grid_area": null,
       "grid_auto_columns": null,
       "grid_auto_flow": null,
       "grid_auto_rows": null,
       "grid_column": null,
       "grid_gap": null,
       "grid_row": null,
       "grid_template_areas": null,
       "grid_template_columns": null,
       "grid_template_rows": null,
       "height": null,
       "justify_content": null,
       "justify_items": null,
       "left": null,
       "margin": null,
       "max_height": null,
       "max_width": null,
       "min_height": null,
       "min_width": null,
       "object_fit": null,
       "object_position": null,
       "order": null,
       "overflow": null,
       "overflow_x": null,
       "overflow_y": null,
       "padding": null,
       "right": null,
       "top": null,
       "visibility": null,
       "width": null
      }
     },
     "02c566976b2b401494f8c350742ba077": {
      "model_module": "@jupyter-widgets/controls",
      "model_module_version": "1.5.0",
      "model_name": "DescriptionStyleModel",
      "state": {
       "_model_module": "@jupyter-widgets/controls",
       "_model_module_version": "1.5.0",
       "_model_name": "DescriptionStyleModel",
       "_view_count": null,
       "_view_module": "@jupyter-widgets/base",
       "_view_module_version": "1.2.0",
       "_view_name": "StyleView",
       "description_width": ""
      }
     },
     "0352f932b0074c39992e00905caeaadd": {
      "model_module": "@jupyter-widgets/controls",
      "model_module_version": "1.5.0",
      "model_name": "DescriptionStyleModel",
      "state": {
       "_model_module": "@jupyter-widgets/controls",
       "_model_module_version": "1.5.0",
       "_model_name": "DescriptionStyleModel",
       "_view_count": null,
       "_view_module": "@jupyter-widgets/base",
       "_view_module_version": "1.2.0",
       "_view_name": "StyleView",
       "description_width": ""
      }
     },
     "0794996227a24fc9bbd0b62306beb77f": {
      "model_module": "@jupyter-widgets/controls",
      "model_module_version": "1.5.0",
      "model_name": "ProgressStyleModel",
      "state": {
       "_model_module": "@jupyter-widgets/controls",
       "_model_module_version": "1.5.0",
       "_model_name": "ProgressStyleModel",
       "_view_count": null,
       "_view_module": "@jupyter-widgets/base",
       "_view_module_version": "1.2.0",
       "_view_name": "StyleView",
       "bar_color": null,
       "description_width": ""
      }
     },
     "0af68edf617340d0b3469c18f8606a2d": {
      "model_module": "@jupyter-widgets/base",
      "model_module_version": "1.2.0",
      "model_name": "LayoutModel",
      "state": {
       "_model_module": "@jupyter-widgets/base",
       "_model_module_version": "1.2.0",
       "_model_name": "LayoutModel",
       "_view_count": null,
       "_view_module": "@jupyter-widgets/base",
       "_view_module_version": "1.2.0",
       "_view_name": "LayoutView",
       "align_content": null,
       "align_items": null,
       "align_self": null,
       "border": null,
       "bottom": null,
       "display": null,
       "flex": null,
       "flex_flow": null,
       "grid_area": null,
       "grid_auto_columns": null,
       "grid_auto_flow": null,
       "grid_auto_rows": null,
       "grid_column": null,
       "grid_gap": null,
       "grid_row": null,
       "grid_template_areas": null,
       "grid_template_columns": null,
       "grid_template_rows": null,
       "height": null,
       "justify_content": null,
       "justify_items": null,
       "left": null,
       "margin": null,
       "max_height": null,
       "max_width": null,
       "min_height": null,
       "min_width": null,
       "object_fit": null,
       "object_position": null,
       "order": null,
       "overflow": null,
       "overflow_x": null,
       "overflow_y": null,
       "padding": null,
       "right": null,
       "top": null,
       "visibility": null,
       "width": null
      }
     },
     "0c280d8048e64e82a915b703f4391c59": {
      "model_module": "@jupyter-widgets/controls",
      "model_module_version": "1.5.0",
      "model_name": "HTMLModel",
      "state": {
       "_dom_classes": [],
       "_model_module": "@jupyter-widgets/controls",
       "_model_module_version": "1.5.0",
       "_model_name": "HTMLModel",
       "_view_count": null,
       "_view_module": "@jupyter-widgets/controls",
       "_view_module_version": "1.5.0",
       "_view_name": "HTMLView",
       "description": "",
       "description_tooltip": null,
       "layout": "IPY_MODEL_8f755f5d338048c0808fce569d2a1693",
       "placeholder": "​",
       "style": "IPY_MODEL_02c566976b2b401494f8c350742ba077",
       "value": "Downloading: 100%"
      }
     },
     "0e8eae5a6cb34c5ba77480389d7980ab": {
      "model_module": "@jupyter-widgets/controls",
      "model_module_version": "1.5.0",
      "model_name": "ProgressStyleModel",
      "state": {
       "_model_module": "@jupyter-widgets/controls",
       "_model_module_version": "1.5.0",
       "_model_name": "ProgressStyleModel",
       "_view_count": null,
       "_view_module": "@jupyter-widgets/base",
       "_view_module_version": "1.2.0",
       "_view_name": "StyleView",
       "bar_color": null,
       "description_width": ""
      }
     },
     "0ebbc29821d948c1925ea8f6e69bed9a": {
      "model_module": "@jupyter-widgets/controls",
      "model_module_version": "1.5.0",
      "model_name": "FloatProgressModel",
      "state": {
       "_dom_classes": [],
       "_model_module": "@jupyter-widgets/controls",
       "_model_module_version": "1.5.0",
       "_model_name": "FloatProgressModel",
       "_view_count": null,
       "_view_module": "@jupyter-widgets/controls",
       "_view_module_version": "1.5.0",
       "_view_name": "ProgressView",
       "bar_style": "danger",
       "description": "",
       "description_tooltip": null,
       "layout": "IPY_MODEL_323cc9b1437749e3b5c0c2aae4735e4f",
       "max": 1558.0,
       "min": 0.0,
       "orientation": "horizontal",
       "style": "IPY_MODEL_b78f53a22b7444358aebc18c0bd82ef6",
       "value": 0.0
      }
     },
     "1425f09d840f46e08cf41f586fa55daf": {
      "model_module": "@jupyter-widgets/controls",
      "model_module_version": "1.5.0",
      "model_name": "HTMLModel",
      "state": {
       "_dom_classes": [],
       "_model_module": "@jupyter-widgets/controls",
       "_model_module_version": "1.5.0",
       "_model_name": "HTMLModel",
       "_view_count": null,
       "_view_module": "@jupyter-widgets/controls",
       "_view_module_version": "1.5.0",
       "_view_name": "HTMLView",
       "description": "",
       "description_tooltip": null,
       "layout": "IPY_MODEL_ed6cb922bc724d0cbd028fd066070488",
       "placeholder": "​",
       "style": "IPY_MODEL_0352f932b0074c39992e00905caeaadd",
       "value": " 28.0/28.0 [00:00&lt;00:00, 844B/s]"
      }
     },
     "14ff1b54e2b64bcb85842d725a3a640e": {
      "model_module": "@jupyter-widgets/controls",
      "model_module_version": "1.5.0",
      "model_name": "DescriptionStyleModel",
      "state": {
       "_model_module": "@jupyter-widgets/controls",
       "_model_module_version": "1.5.0",
       "_model_name": "DescriptionStyleModel",
       "_view_count": null,
       "_view_module": "@jupyter-widgets/base",
       "_view_module_version": "1.2.0",
       "_view_name": "StyleView",
       "description_width": ""
      }
     },
     "16bf51b996794cb9a37ef5e08a5fff84": {
      "model_module": "@jupyter-widgets/controls",
      "model_module_version": "1.5.0",
      "model_name": "HTMLModel",
      "state": {
       "_dom_classes": [],
       "_model_module": "@jupyter-widgets/controls",
       "_model_module_version": "1.5.0",
       "_model_name": "HTMLModel",
       "_view_count": null,
       "_view_module": "@jupyter-widgets/controls",
       "_view_module_version": "1.5.0",
       "_view_name": "HTMLView",
       "description": "",
       "description_tooltip": null,
       "layout": "IPY_MODEL_e0f8e9821abc40aeb79fa44b3e13e4d5",
       "placeholder": "​",
       "style": "IPY_MODEL_74682f247a854928953a26537e689c50",
       "value": " 570/570 [00:00&lt;00:00, 20.7kB/s]"
      }
     },
     "194a7298150f472bb8a5863153831bde": {
      "model_module": "@jupyter-widgets/controls",
      "model_module_version": "1.5.0",
      "model_name": "DescriptionStyleModel",
      "state": {
       "_model_module": "@jupyter-widgets/controls",
       "_model_module_version": "1.5.0",
       "_model_name": "DescriptionStyleModel",
       "_view_count": null,
       "_view_module": "@jupyter-widgets/base",
       "_view_module_version": "1.2.0",
       "_view_name": "StyleView",
       "description_width": ""
      }
     },
     "1be471e2d9834f0eab57844904c8d393": {
      "model_module": "@jupyter-widgets/controls",
      "model_module_version": "1.5.0",
      "model_name": "FloatProgressModel",
      "state": {
       "_dom_classes": [],
       "_model_module": "@jupyter-widgets/controls",
       "_model_module_version": "1.5.0",
       "_model_name": "FloatProgressModel",
       "_view_count": null,
       "_view_module": "@jupyter-widgets/controls",
       "_view_module_version": "1.5.0",
       "_view_name": "ProgressView",
       "bar_style": "success",
       "description": "",
       "description_tooltip": null,
       "layout": "IPY_MODEL_e369c8f751a741f18a1141d54779edca",
       "max": 231508.0,
       "min": 0.0,
       "orientation": "horizontal",
       "style": "IPY_MODEL_d27f03e0c4fe48649707fd9e1a9b8500",
       "value": 231508.0
      }
     },
     "21177af3975e419397a394d4da8e08d2": {
      "model_module": "@jupyter-widgets/base",
      "model_module_version": "1.2.0",
      "model_name": "LayoutModel",
      "state": {
       "_model_module": "@jupyter-widgets/base",
       "_model_module_version": "1.2.0",
       "_model_name": "LayoutModel",
       "_view_count": null,
       "_view_module": "@jupyter-widgets/base",
       "_view_module_version": "1.2.0",
       "_view_name": "LayoutView",
       "align_content": null,
       "align_items": null,
       "align_self": null,
       "border": null,
       "bottom": null,
       "display": null,
       "flex": null,
       "flex_flow": null,
       "grid_area": null,
       "grid_auto_columns": null,
       "grid_auto_flow": null,
       "grid_auto_rows": null,
       "grid_column": null,
       "grid_gap": null,
       "grid_row": null,
       "grid_template_areas": null,
       "grid_template_columns": null,
       "grid_template_rows": null,
       "height": null,
       "justify_content": null,
       "justify_items": null,
       "left": null,
       "margin": null,
       "max_height": null,
       "max_width": null,
       "min_height": null,
       "min_width": null,
       "object_fit": null,
       "object_position": null,
       "order": null,
       "overflow": null,
       "overflow_x": null,
       "overflow_y": null,
       "padding": null,
       "right": null,
       "top": null,
       "visibility": null,
       "width": null
      }
     },
     "2271ea8e1e6c4c8b8828dcb6fba3225b": {
      "model_module": "@jupyter-widgets/base",
      "model_module_version": "1.2.0",
      "model_name": "LayoutModel",
      "state": {
       "_model_module": "@jupyter-widgets/base",
       "_model_module_version": "1.2.0",
       "_model_name": "LayoutModel",
       "_view_count": null,
       "_view_module": "@jupyter-widgets/base",
       "_view_module_version": "1.2.0",
       "_view_name": "LayoutView",
       "align_content": null,
       "align_items": null,
       "align_self": null,
       "border": null,
       "bottom": null,
       "display": null,
       "flex": null,
       "flex_flow": null,
       "grid_area": null,
       "grid_auto_columns": null,
       "grid_auto_flow": null,
       "grid_auto_rows": null,
       "grid_column": null,
       "grid_gap": null,
       "grid_row": null,
       "grid_template_areas": null,
       "grid_template_columns": null,
       "grid_template_rows": null,
       "height": null,
       "justify_content": null,
       "justify_items": null,
       "left": null,
       "margin": null,
       "max_height": null,
       "max_width": null,
       "min_height": null,
       "min_width": null,
       "object_fit": null,
       "object_position": null,
       "order": null,
       "overflow": null,
       "overflow_x": null,
       "overflow_y": null,
       "padding": null,
       "right": null,
       "top": null,
       "visibility": null,
       "width": null
      }
     },
     "2822eeaf29184e4989a68418aeeacc70": {
      "model_module": "@jupyter-widgets/controls",
      "model_module_version": "1.5.0",
      "model_name": "HTMLModel",
      "state": {
       "_dom_classes": [],
       "_model_module": "@jupyter-widgets/controls",
       "_model_module_version": "1.5.0",
       "_model_name": "HTMLModel",
       "_view_count": null,
       "_view_module": "@jupyter-widgets/controls",
       "_view_module_version": "1.5.0",
       "_view_name": "HTMLView",
       "description": "",
       "description_tooltip": null,
       "layout": "IPY_MODEL_8437cc1cdab84901b84b1f60a9cd5cbd",
       "placeholder": "​",
       "style": "IPY_MODEL_14ff1b54e2b64bcb85842d725a3a640e",
       "value": " 0/3 [00:00&lt;?, ?it/s]"
      }
     },
     "28bedcbdb46b4df6a8b55495dcd6e5c1": {
      "model_module": "@jupyter-widgets/controls",
      "model_module_version": "1.5.0",
      "model_name": "HBoxModel",
      "state": {
       "_dom_classes": [],
       "_model_module": "@jupyter-widgets/controls",
       "_model_module_version": "1.5.0",
       "_model_name": "HBoxModel",
       "_view_count": null,
       "_view_module": "@jupyter-widgets/controls",
       "_view_module_version": "1.5.0",
       "_view_name": "HBoxView",
       "box_style": "",
       "children": [
        "IPY_MODEL_e73c3e15a26a473a88bb5ea1cb3b0d82",
        "IPY_MODEL_c67f3bc9a6da4cca9d63ad03a1103990",
        "IPY_MODEL_1425f09d840f46e08cf41f586fa55daf"
       ],
       "layout": "IPY_MODEL_4e09f7b9bf9b49729aaa723270f295dc"
      }
     },
     "2c68a9017dda41199ddc0b6f2904a3f1": {
      "model_module": "@jupyter-widgets/controls",
      "model_module_version": "1.5.0",
      "model_name": "FloatProgressModel",
      "state": {
       "_dom_classes": [],
       "_model_module": "@jupyter-widgets/controls",
       "_model_module_version": "1.5.0",
       "_model_name": "FloatProgressModel",
       "_view_count": null,
       "_view_module": "@jupyter-widgets/controls",
       "_view_module_version": "1.5.0",
       "_view_name": "ProgressView",
       "bar_style": "success",
       "description": "",
       "description_tooltip": null,
       "layout": "IPY_MODEL_0af68edf617340d0b3469c18f8606a2d",
       "max": 466062.0,
       "min": 0.0,
       "orientation": "horizontal",
       "style": "IPY_MODEL_8e9d7f78c9d14bb8a9c231e95a6bbb1e",
       "value": 466062.0
      }
     },
     "323cc9b1437749e3b5c0c2aae4735e4f": {
      "model_module": "@jupyter-widgets/base",
      "model_module_version": "1.2.0",
      "model_name": "LayoutModel",
      "state": {
       "_model_module": "@jupyter-widgets/base",
       "_model_module_version": "1.2.0",
       "_model_name": "LayoutModel",
       "_view_count": null,
       "_view_module": "@jupyter-widgets/base",
       "_view_module_version": "1.2.0",
       "_view_name": "LayoutView",
       "align_content": null,
       "align_items": null,
       "align_self": null,
       "border": null,
       "bottom": null,
       "display": null,
       "flex": null,
       "flex_flow": null,
       "grid_area": null,
       "grid_auto_columns": null,
       "grid_auto_flow": null,
       "grid_auto_rows": null,
       "grid_column": null,
       "grid_gap": null,
       "grid_row": null,
       "grid_template_areas": null,
       "grid_template_columns": null,
       "grid_template_rows": null,
       "height": null,
       "justify_content": null,
       "justify_items": null,
       "left": null,
       "margin": null,
       "max_height": null,
       "max_width": null,
       "min_height": null,
       "min_width": null,
       "object_fit": null,
       "object_position": null,
       "order": null,
       "overflow": null,
       "overflow_x": null,
       "overflow_y": null,
       "padding": null,
       "right": null,
       "top": null,
       "visibility": null,
       "width": null
      }
     },
     "3876e499a5a74ff38c861fc607aca3c8": {
      "model_module": "@jupyter-widgets/base",
      "model_module_version": "1.2.0",
      "model_name": "LayoutModel",
      "state": {
       "_model_module": "@jupyter-widgets/base",
       "_model_module_version": "1.2.0",
       "_model_name": "LayoutModel",
       "_view_count": null,
       "_view_module": "@jupyter-widgets/base",
       "_view_module_version": "1.2.0",
       "_view_name": "LayoutView",
       "align_content": null,
       "align_items": null,
       "align_self": null,
       "border": null,
       "bottom": null,
       "display": null,
       "flex": null,
       "flex_flow": null,
       "grid_area": null,
       "grid_auto_columns": null,
       "grid_auto_flow": null,
       "grid_auto_rows": null,
       "grid_column": null,
       "grid_gap": null,
       "grid_row": null,
       "grid_template_areas": null,
       "grid_template_columns": null,
       "grid_template_rows": null,
       "height": null,
       "justify_content": null,
       "justify_items": null,
       "left": null,
       "margin": null,
       "max_height": null,
       "max_width": null,
       "min_height": null,
       "min_width": null,
       "object_fit": null,
       "object_position": null,
       "order": null,
       "overflow": null,
       "overflow_x": null,
       "overflow_y": null,
       "padding": null,
       "right": null,
       "top": null,
       "visibility": null,
       "width": null
      }
     },
     "3988e03b55df4a8faae77fe9539fc8fd": {
      "model_module": "@jupyter-widgets/controls",
      "model_module_version": "1.5.0",
      "model_name": "DescriptionStyleModel",
      "state": {
       "_model_module": "@jupyter-widgets/controls",
       "_model_module_version": "1.5.0",
       "_model_name": "DescriptionStyleModel",
       "_view_count": null,
       "_view_module": "@jupyter-widgets/base",
       "_view_module_version": "1.2.0",
       "_view_name": "StyleView",
       "description_width": ""
      }
     },
     "3f9175b2a7fc4861b31e946e623658c7": {
      "model_module": "@jupyter-widgets/controls",
      "model_module_version": "1.5.0",
      "model_name": "DescriptionStyleModel",
      "state": {
       "_model_module": "@jupyter-widgets/controls",
       "_model_module_version": "1.5.0",
       "_model_name": "DescriptionStyleModel",
       "_view_count": null,
       "_view_module": "@jupyter-widgets/base",
       "_view_module_version": "1.2.0",
       "_view_name": "StyleView",
       "description_width": ""
      }
     },
     "4e09f7b9bf9b49729aaa723270f295dc": {
      "model_module": "@jupyter-widgets/base",
      "model_module_version": "1.2.0",
      "model_name": "LayoutModel",
      "state": {
       "_model_module": "@jupyter-widgets/base",
       "_model_module_version": "1.2.0",
       "_model_name": "LayoutModel",
       "_view_count": null,
       "_view_module": "@jupyter-widgets/base",
       "_view_module_version": "1.2.0",
       "_view_name": "LayoutView",
       "align_content": null,
       "align_items": null,
       "align_self": null,
       "border": null,
       "bottom": null,
       "display": null,
       "flex": null,
       "flex_flow": null,
       "grid_area": null,
       "grid_auto_columns": null,
       "grid_auto_flow": null,
       "grid_auto_rows": null,
       "grid_column": null,
       "grid_gap": null,
       "grid_row": null,
       "grid_template_areas": null,
       "grid_template_columns": null,
       "grid_template_rows": null,
       "height": null,
       "justify_content": null,
       "justify_items": null,
       "left": null,
       "margin": null,
       "max_height": null,
       "max_width": null,
       "min_height": null,
       "min_width": null,
       "object_fit": null,
       "object_position": null,
       "order": null,
       "overflow": null,
       "overflow_x": null,
       "overflow_y": null,
       "padding": null,
       "right": null,
       "top": null,
       "visibility": null,
       "width": null
      }
     },
     "502ddaf1206e45839fb99827d18982ac": {
      "model_module": "@jupyter-widgets/controls",
      "model_module_version": "1.5.0",
      "model_name": "HTMLModel",
      "state": {
       "_dom_classes": [],
       "_model_module": "@jupyter-widgets/controls",
       "_model_module_version": "1.5.0",
       "_model_name": "HTMLModel",
       "_view_count": null,
       "_view_module": "@jupyter-widgets/controls",
       "_view_module_version": "1.5.0",
       "_view_name": "HTMLView",
       "description": "",
       "description_tooltip": null,
       "layout": "IPY_MODEL_5df14c124e41438a923372c66a53fb01",
       "placeholder": "​",
       "style": "IPY_MODEL_b08dcfdc71a74c4b8e35c02fcc6bd961",
       "value": " 0/1558 [00:00&lt;?, ?it/s]"
      }
     },
     "55e4e675f6a4411cb51a74b7efefccde": {
      "model_module": "@jupyter-widgets/base",
      "model_module_version": "1.2.0",
      "model_name": "LayoutModel",
      "state": {
       "_model_module": "@jupyter-widgets/base",
       "_model_module_version": "1.2.0",
       "_model_name": "LayoutModel",
       "_view_count": null,
       "_view_module": "@jupyter-widgets/base",
       "_view_module_version": "1.2.0",
       "_view_name": "LayoutView",
       "align_content": null,
       "align_items": null,
       "align_self": null,
       "border": null,
       "bottom": null,
       "display": null,
       "flex": null,
       "flex_flow": null,
       "grid_area": null,
       "grid_auto_columns": null,
       "grid_auto_flow": null,
       "grid_auto_rows": null,
       "grid_column": null,
       "grid_gap": null,
       "grid_row": null,
       "grid_template_areas": null,
       "grid_template_columns": null,
       "grid_template_rows": null,
       "height": null,
       "justify_content": null,
       "justify_items": null,
       "left": null,
       "margin": null,
       "max_height": null,
       "max_width": null,
       "min_height": null,
       "min_width": null,
       "object_fit": null,
       "object_position": null,
       "order": null,
       "overflow": null,
       "overflow_x": null,
       "overflow_y": null,
       "padding": null,
       "right": null,
       "top": null,
       "visibility": null,
       "width": null
      }
     },
     "5abc29cc659c47909989f3b6aa94789f": {
      "model_module": "@jupyter-widgets/controls",
      "model_module_version": "1.5.0",
      "model_name": "HTMLModel",
      "state": {
       "_dom_classes": [],
       "_model_module": "@jupyter-widgets/controls",
       "_model_module_version": "1.5.0",
       "_model_name": "HTMLModel",
       "_view_count": null,
       "_view_module": "@jupyter-widgets/controls",
       "_view_module_version": "1.5.0",
       "_view_name": "HTMLView",
       "description": "",
       "description_tooltip": null,
       "layout": "IPY_MODEL_5bf18cb30a7b4ba1b776493330893e49",
       "placeholder": "​",
       "style": "IPY_MODEL_86e0f1d5cb2d449c85f9c73d1635e2c4",
       "value": "Downloading: 100%"
      }
     },
     "5bf18cb30a7b4ba1b776493330893e49": {
      "model_module": "@jupyter-widgets/base",
      "model_module_version": "1.2.0",
      "model_name": "LayoutModel",
      "state": {
       "_model_module": "@jupyter-widgets/base",
       "_model_module_version": "1.2.0",
       "_model_name": "LayoutModel",
       "_view_count": null,
       "_view_module": "@jupyter-widgets/base",
       "_view_module_version": "1.2.0",
       "_view_name": "LayoutView",
       "align_content": null,
       "align_items": null,
       "align_self": null,
       "border": null,
       "bottom": null,
       "display": null,
       "flex": null,
       "flex_flow": null,
       "grid_area": null,
       "grid_auto_columns": null,
       "grid_auto_flow": null,
       "grid_auto_rows": null,
       "grid_column": null,
       "grid_gap": null,
       "grid_row": null,
       "grid_template_areas": null,
       "grid_template_columns": null,
       "grid_template_rows": null,
       "height": null,
       "justify_content": null,
       "justify_items": null,
       "left": null,
       "margin": null,
       "max_height": null,
       "max_width": null,
       "min_height": null,
       "min_width": null,
       "object_fit": null,
       "object_position": null,
       "order": null,
       "overflow": null,
       "overflow_x": null,
       "overflow_y": null,
       "padding": null,
       "right": null,
       "top": null,
       "visibility": null,
       "width": null
      }
     },
     "5bf7ba6fd61844bc95cae484d562e398": {
      "model_module": "@jupyter-widgets/base",
      "model_module_version": "1.2.0",
      "model_name": "LayoutModel",
      "state": {
       "_model_module": "@jupyter-widgets/base",
       "_model_module_version": "1.2.0",
       "_model_name": "LayoutModel",
       "_view_count": null,
       "_view_module": "@jupyter-widgets/base",
       "_view_module_version": "1.2.0",
       "_view_name": "LayoutView",
       "align_content": null,
       "align_items": null,
       "align_self": null,
       "border": null,
       "bottom": null,
       "display": null,
       "flex": null,
       "flex_flow": null,
       "grid_area": null,
       "grid_auto_columns": null,
       "grid_auto_flow": null,
       "grid_auto_rows": null,
       "grid_column": null,
       "grid_gap": null,
       "grid_row": null,
       "grid_template_areas": null,
       "grid_template_columns": null,
       "grid_template_rows": null,
       "height": null,
       "justify_content": null,
       "justify_items": null,
       "left": null,
       "margin": null,
       "max_height": null,
       "max_width": null,
       "min_height": null,
       "min_width": null,
       "object_fit": null,
       "object_position": null,
       "order": null,
       "overflow": null,
       "overflow_x": null,
       "overflow_y": null,
       "padding": null,
       "right": null,
       "top": null,
       "visibility": null,
       "width": null
      }
     },
     "5dec32e072f644af9e8e4210370077d6": {
      "model_module": "@jupyter-widgets/controls",
      "model_module_version": "1.5.0",
      "model_name": "FloatProgressModel",
      "state": {
       "_dom_classes": [],
       "_model_module": "@jupyter-widgets/controls",
       "_model_module_version": "1.5.0",
       "_model_name": "FloatProgressModel",
       "_view_count": null,
       "_view_module": "@jupyter-widgets/controls",
       "_view_module_version": "1.5.0",
       "_view_name": "ProgressView",
       "bar_style": "success",
       "description": "",
       "description_tooltip": null,
       "layout": "IPY_MODEL_d0d1d13ce15340f3aaf6729d9cfbba2a",
       "max": 570.0,
       "min": 0.0,
       "orientation": "horizontal",
       "style": "IPY_MODEL_0e8eae5a6cb34c5ba77480389d7980ab",
       "value": 570.0
      }
     },
     "5df14c124e41438a923372c66a53fb01": {
      "model_module": "@jupyter-widgets/base",
      "model_module_version": "1.2.0",
      "model_name": "LayoutModel",
      "state": {
       "_model_module": "@jupyter-widgets/base",
       "_model_module_version": "1.2.0",
       "_model_name": "LayoutModel",
       "_view_count": null,
       "_view_module": "@jupyter-widgets/base",
       "_view_module_version": "1.2.0",
       "_view_name": "LayoutView",
       "align_content": null,
       "align_items": null,
       "align_self": null,
       "border": null,
       "bottom": null,
       "display": null,
       "flex": null,
       "flex_flow": null,
       "grid_area": null,
       "grid_auto_columns": null,
       "grid_auto_flow": null,
       "grid_auto_rows": null,
       "grid_column": null,
       "grid_gap": null,
       "grid_row": null,
       "grid_template_areas": null,
       "grid_template_columns": null,
       "grid_template_rows": null,
       "height": null,
       "justify_content": null,
       "justify_items": null,
       "left": null,
       "margin": null,
       "max_height": null,
       "max_width": null,
       "min_height": null,
       "min_width": null,
       "object_fit": null,
       "object_position": null,
       "order": null,
       "overflow": null,
       "overflow_x": null,
       "overflow_y": null,
       "padding": null,
       "right": null,
       "top": null,
       "visibility": null,
       "width": null
      }
     },
     "730d44ac7d3d4cafaf31bd60df7cc110": {
      "model_module": "@jupyter-widgets/controls",
      "model_module_version": "1.5.0",
      "model_name": "HBoxModel",
      "state": {
       "_dom_classes": [],
       "_model_module": "@jupyter-widgets/controls",
       "_model_module_version": "1.5.0",
       "_model_name": "HBoxModel",
       "_view_count": null,
       "_view_module": "@jupyter-widgets/controls",
       "_view_module_version": "1.5.0",
       "_view_name": "HBoxView",
       "box_style": "",
       "children": [
        "IPY_MODEL_5abc29cc659c47909989f3b6aa94789f",
        "IPY_MODEL_5dec32e072f644af9e8e4210370077d6",
        "IPY_MODEL_16bf51b996794cb9a37ef5e08a5fff84"
       ],
       "layout": "IPY_MODEL_00631ae0b2d94537903938f05cf5bd92"
      }
     },
     "7395be8609db4bbda386ed513bb51529": {
      "model_module": "@jupyter-widgets/base",
      "model_module_version": "1.2.0",
      "model_name": "LayoutModel",
      "state": {
       "_model_module": "@jupyter-widgets/base",
       "_model_module_version": "1.2.0",
       "_model_name": "LayoutModel",
       "_view_count": null,
       "_view_module": "@jupyter-widgets/base",
       "_view_module_version": "1.2.0",
       "_view_name": "LayoutView",
       "align_content": null,
       "align_items": null,
       "align_self": null,
       "border": null,
       "bottom": null,
       "display": null,
       "flex": null,
       "flex_flow": null,
       "grid_area": null,
       "grid_auto_columns": null,
       "grid_auto_flow": null,
       "grid_auto_rows": null,
       "grid_column": null,
       "grid_gap": null,
       "grid_row": null,
       "grid_template_areas": null,
       "grid_template_columns": null,
       "grid_template_rows": null,
       "height": null,
       "justify_content": null,
       "justify_items": null,
       "left": null,
       "margin": null,
       "max_height": null,
       "max_width": null,
       "min_height": null,
       "min_width": null,
       "object_fit": null,
       "object_position": null,
       "order": null,
       "overflow": null,
       "overflow_x": null,
       "overflow_y": null,
       "padding": null,
       "right": null,
       "top": null,
       "visibility": null,
       "width": null
      }
     },
     "74682f247a854928953a26537e689c50": {
      "model_module": "@jupyter-widgets/controls",
      "model_module_version": "1.5.0",
      "model_name": "DescriptionStyleModel",
      "state": {
       "_model_module": "@jupyter-widgets/controls",
       "_model_module_version": "1.5.0",
       "_model_name": "DescriptionStyleModel",
       "_view_count": null,
       "_view_module": "@jupyter-widgets/base",
       "_view_module_version": "1.2.0",
       "_view_name": "StyleView",
       "description_width": ""
      }
     },
     "7cb527b1d293427c8a85beb94f5e4932": {
      "model_module": "@jupyter-widgets/controls",
      "model_module_version": "1.5.0",
      "model_name": "HBoxModel",
      "state": {
       "_dom_classes": [],
       "_model_module": "@jupyter-widgets/controls",
       "_model_module_version": "1.5.0",
       "_model_name": "HBoxModel",
       "_view_count": null,
       "_view_module": "@jupyter-widgets/controls",
       "_view_module_version": "1.5.0",
       "_view_name": "HBoxView",
       "box_style": "",
       "children": [
        "IPY_MODEL_b9b40e8ca54249a99721352e4aab13f5",
        "IPY_MODEL_1be471e2d9834f0eab57844904c8d393",
        "IPY_MODEL_960a9222e7b647ae9793d80d2b4911a9"
       ],
       "layout": "IPY_MODEL_21177af3975e419397a394d4da8e08d2"
      }
     },
     "81453ed8ff9d454ea2ee9f32ca712d38": {
      "model_module": "@jupyter-widgets/base",
      "model_module_version": "1.2.0",
      "model_name": "LayoutModel",
      "state": {
       "_model_module": "@jupyter-widgets/base",
       "_model_module_version": "1.2.0",
       "_model_name": "LayoutModel",
       "_view_count": null,
       "_view_module": "@jupyter-widgets/base",
       "_view_module_version": "1.2.0",
       "_view_name": "LayoutView",
       "align_content": null,
       "align_items": null,
       "align_self": null,
       "border": null,
       "bottom": null,
       "display": null,
       "flex": null,
       "flex_flow": null,
       "grid_area": null,
       "grid_auto_columns": null,
       "grid_auto_flow": null,
       "grid_auto_rows": null,
       "grid_column": null,
       "grid_gap": null,
       "grid_row": null,
       "grid_template_areas": null,
       "grid_template_columns": null,
       "grid_template_rows": null,
       "height": null,
       "justify_content": null,
       "justify_items": null,
       "left": null,
       "margin": null,
       "max_height": null,
       "max_width": null,
       "min_height": null,
       "min_width": null,
       "object_fit": null,
       "object_position": null,
       "order": null,
       "overflow": null,
       "overflow_x": null,
       "overflow_y": null,
       "padding": null,
       "right": null,
       "top": null,
       "visibility": null,
       "width": null
      }
     },
     "82ccb7fa2a0c4b1187bb05c01faf4aa8": {
      "model_module": "@jupyter-widgets/controls",
      "model_module_version": "1.5.0",
      "model_name": "FloatProgressModel",
      "state": {
       "_dom_classes": [],
       "_model_module": "@jupyter-widgets/controls",
       "_model_module_version": "1.5.0",
       "_model_name": "FloatProgressModel",
       "_view_count": null,
       "_view_module": "@jupyter-widgets/controls",
       "_view_module_version": "1.5.0",
       "_view_name": "ProgressView",
       "bar_style": "success",
       "description": "",
       "description_tooltip": null,
       "layout": "IPY_MODEL_8d551f56f22e495f8a81cc717355240f",
       "max": 440473133.0,
       "min": 0.0,
       "orientation": "horizontal",
       "style": "IPY_MODEL_b5152b39a2b846aeacd535cb4df26a35",
       "value": 440473133.0
      }
     },
     "8437cc1cdab84901b84b1f60a9cd5cbd": {
      "model_module": "@jupyter-widgets/base",
      "model_module_version": "1.2.0",
      "model_name": "LayoutModel",
      "state": {
       "_model_module": "@jupyter-widgets/base",
       "_model_module_version": "1.2.0",
       "_model_name": "LayoutModel",
       "_view_count": null,
       "_view_module": "@jupyter-widgets/base",
       "_view_module_version": "1.2.0",
       "_view_name": "LayoutView",
       "align_content": null,
       "align_items": null,
       "align_self": null,
       "border": null,
       "bottom": null,
       "display": null,
       "flex": null,
       "flex_flow": null,
       "grid_area": null,
       "grid_auto_columns": null,
       "grid_auto_flow": null,
       "grid_auto_rows": null,
       "grid_column": null,
       "grid_gap": null,
       "grid_row": null,
       "grid_template_areas": null,
       "grid_template_columns": null,
       "grid_template_rows": null,
       "height": null,
       "justify_content": null,
       "justify_items": null,
       "left": null,
       "margin": null,
       "max_height": null,
       "max_width": null,
       "min_height": null,
       "min_width": null,
       "object_fit": null,
       "object_position": null,
       "order": null,
       "overflow": null,
       "overflow_x": null,
       "overflow_y": null,
       "padding": null,
       "right": null,
       "top": null,
       "visibility": null,
       "width": null
      }
     },
     "86e0f1d5cb2d449c85f9c73d1635e2c4": {
      "model_module": "@jupyter-widgets/controls",
      "model_module_version": "1.5.0",
      "model_name": "DescriptionStyleModel",
      "state": {
       "_model_module": "@jupyter-widgets/controls",
       "_model_module_version": "1.5.0",
       "_model_name": "DescriptionStyleModel",
       "_view_count": null,
       "_view_module": "@jupyter-widgets/base",
       "_view_module_version": "1.2.0",
       "_view_name": "StyleView",
       "description_width": ""
      }
     },
     "8c7f90715d2d48c1868100de3f06af92": {
      "model_module": "@jupyter-widgets/base",
      "model_module_version": "1.2.0",
      "model_name": "LayoutModel",
      "state": {
       "_model_module": "@jupyter-widgets/base",
       "_model_module_version": "1.2.0",
       "_model_name": "LayoutModel",
       "_view_count": null,
       "_view_module": "@jupyter-widgets/base",
       "_view_module_version": "1.2.0",
       "_view_name": "LayoutView",
       "align_content": null,
       "align_items": null,
       "align_self": null,
       "border": null,
       "bottom": null,
       "display": null,
       "flex": null,
       "flex_flow": null,
       "grid_area": null,
       "grid_auto_columns": null,
       "grid_auto_flow": null,
       "grid_auto_rows": null,
       "grid_column": null,
       "grid_gap": null,
       "grid_row": null,
       "grid_template_areas": null,
       "grid_template_columns": null,
       "grid_template_rows": null,
       "height": null,
       "justify_content": null,
       "justify_items": null,
       "left": null,
       "margin": null,
       "max_height": null,
       "max_width": null,
       "min_height": null,
       "min_width": null,
       "object_fit": null,
       "object_position": null,
       "order": null,
       "overflow": null,
       "overflow_x": null,
       "overflow_y": null,
       "padding": null,
       "right": null,
       "top": null,
       "visibility": null,
       "width": null
      }
     },
     "8d551f56f22e495f8a81cc717355240f": {
      "model_module": "@jupyter-widgets/base",
      "model_module_version": "1.2.0",
      "model_name": "LayoutModel",
      "state": {
       "_model_module": "@jupyter-widgets/base",
       "_model_module_version": "1.2.0",
       "_model_name": "LayoutModel",
       "_view_count": null,
       "_view_module": "@jupyter-widgets/base",
       "_view_module_version": "1.2.0",
       "_view_name": "LayoutView",
       "align_content": null,
       "align_items": null,
       "align_self": null,
       "border": null,
       "bottom": null,
       "display": null,
       "flex": null,
       "flex_flow": null,
       "grid_area": null,
       "grid_auto_columns": null,
       "grid_auto_flow": null,
       "grid_auto_rows": null,
       "grid_column": null,
       "grid_gap": null,
       "grid_row": null,
       "grid_template_areas": null,
       "grid_template_columns": null,
       "grid_template_rows": null,
       "height": null,
       "justify_content": null,
       "justify_items": null,
       "left": null,
       "margin": null,
       "max_height": null,
       "max_width": null,
       "min_height": null,
       "min_width": null,
       "object_fit": null,
       "object_position": null,
       "order": null,
       "overflow": null,
       "overflow_x": null,
       "overflow_y": null,
       "padding": null,
       "right": null,
       "top": null,
       "visibility": null,
       "width": null
      }
     },
     "8e9d7f78c9d14bb8a9c231e95a6bbb1e": {
      "model_module": "@jupyter-widgets/controls",
      "model_module_version": "1.5.0",
      "model_name": "ProgressStyleModel",
      "state": {
       "_model_module": "@jupyter-widgets/controls",
       "_model_module_version": "1.5.0",
       "_model_name": "ProgressStyleModel",
       "_view_count": null,
       "_view_module": "@jupyter-widgets/base",
       "_view_module_version": "1.2.0",
       "_view_name": "StyleView",
       "bar_color": null,
       "description_width": ""
      }
     },
     "8f755f5d338048c0808fce569d2a1693": {
      "model_module": "@jupyter-widgets/base",
      "model_module_version": "1.2.0",
      "model_name": "LayoutModel",
      "state": {
       "_model_module": "@jupyter-widgets/base",
       "_model_module_version": "1.2.0",
       "_model_name": "LayoutModel",
       "_view_count": null,
       "_view_module": "@jupyter-widgets/base",
       "_view_module_version": "1.2.0",
       "_view_name": "LayoutView",
       "align_content": null,
       "align_items": null,
       "align_self": null,
       "border": null,
       "bottom": null,
       "display": null,
       "flex": null,
       "flex_flow": null,
       "grid_area": null,
       "grid_auto_columns": null,
       "grid_auto_flow": null,
       "grid_auto_rows": null,
       "grid_column": null,
       "grid_gap": null,
       "grid_row": null,
       "grid_template_areas": null,
       "grid_template_columns": null,
       "grid_template_rows": null,
       "height": null,
       "justify_content": null,
       "justify_items": null,
       "left": null,
       "margin": null,
       "max_height": null,
       "max_width": null,
       "min_height": null,
       "min_width": null,
       "object_fit": null,
       "object_position": null,
       "order": null,
       "overflow": null,
       "overflow_x": null,
       "overflow_y": null,
       "padding": null,
       "right": null,
       "top": null,
       "visibility": null,
       "width": null
      }
     },
     "95acf19899b747efa61a9258cb23ec7b": {
      "model_module": "@jupyter-widgets/controls",
      "model_module_version": "1.5.0",
      "model_name": "DescriptionStyleModel",
      "state": {
       "_model_module": "@jupyter-widgets/controls",
       "_model_module_version": "1.5.0",
       "_model_name": "DescriptionStyleModel",
       "_view_count": null,
       "_view_module": "@jupyter-widgets/base",
       "_view_module_version": "1.2.0",
       "_view_name": "StyleView",
       "description_width": ""
      }
     },
     "960a9222e7b647ae9793d80d2b4911a9": {
      "model_module": "@jupyter-widgets/controls",
      "model_module_version": "1.5.0",
      "model_name": "HTMLModel",
      "state": {
       "_dom_classes": [],
       "_model_module": "@jupyter-widgets/controls",
       "_model_module_version": "1.5.0",
       "_model_name": "HTMLModel",
       "_view_count": null,
       "_view_module": "@jupyter-widgets/controls",
       "_view_module_version": "1.5.0",
       "_view_name": "HTMLView",
       "description": "",
       "description_tooltip": null,
       "layout": "IPY_MODEL_da3f70a98e9f469e8a4a8e1a08969a3c",
       "placeholder": "​",
       "style": "IPY_MODEL_95acf19899b747efa61a9258cb23ec7b",
       "value": " 232k/232k [00:00&lt;00:00, 873kB/s]"
      }
     },
     "9908ed9348174020ab204fb8005ed9b2": {
      "model_module": "@jupyter-widgets/controls",
      "model_module_version": "1.5.0",
      "model_name": "HTMLModel",
      "state": {
       "_dom_classes": [],
       "_model_module": "@jupyter-widgets/controls",
       "_model_module_version": "1.5.0",
       "_model_name": "HTMLModel",
       "_view_count": null,
       "_view_module": "@jupyter-widgets/controls",
       "_view_module_version": "1.5.0",
       "_view_name": "HTMLView",
       "description": "",
       "description_tooltip": null,
       "layout": "IPY_MODEL_fbc87361c88f4b288712ab68086b2fbe",
       "placeholder": "​",
       "style": "IPY_MODEL_d6e393b547754f0395eb5b68f485bb37",
       "value": " 440M/440M [00:19&lt;00:00, 23.6MB/s]"
      }
     },
     "a0efcf8f985f46ddb1fdbbf220cbfc05": {
      "model_module": "@jupyter-widgets/base",
      "model_module_version": "1.2.0",
      "model_name": "LayoutModel",
      "state": {
       "_model_module": "@jupyter-widgets/base",
       "_model_module_version": "1.2.0",
       "_model_name": "LayoutModel",
       "_view_count": null,
       "_view_module": "@jupyter-widgets/base",
       "_view_module_version": "1.2.0",
       "_view_name": "LayoutView",
       "align_content": null,
       "align_items": null,
       "align_self": null,
       "border": null,
       "bottom": null,
       "display": null,
       "flex": null,
       "flex_flow": null,
       "grid_area": null,
       "grid_auto_columns": null,
       "grid_auto_flow": null,
       "grid_auto_rows": null,
       "grid_column": null,
       "grid_gap": null,
       "grid_row": null,
       "grid_template_areas": null,
       "grid_template_columns": null,
       "grid_template_rows": null,
       "height": null,
       "justify_content": null,
       "justify_items": null,
       "left": null,
       "margin": null,
       "max_height": null,
       "max_width": null,
       "min_height": null,
       "min_width": null,
       "object_fit": null,
       "object_position": null,
       "order": null,
       "overflow": null,
       "overflow_x": null,
       "overflow_y": null,
       "padding": null,
       "right": null,
       "top": null,
       "visibility": null,
       "width": null
      }
     },
     "a13d8755193c46909cd6fa3acbeaf059": {
      "model_module": "@jupyter-widgets/controls",
      "model_module_version": "1.5.0",
      "model_name": "HTMLModel",
      "state": {
       "_dom_classes": [],
       "_model_module": "@jupyter-widgets/controls",
       "_model_module_version": "1.5.0",
       "_model_name": "HTMLModel",
       "_view_count": null,
       "_view_module": "@jupyter-widgets/controls",
       "_view_module_version": "1.5.0",
       "_view_name": "HTMLView",
       "description": "",
       "description_tooltip": null,
       "layout": "IPY_MODEL_2271ea8e1e6c4c8b8828dcb6fba3225b",
       "placeholder": "​",
       "style": "IPY_MODEL_3988e03b55df4a8faae77fe9539fc8fd",
       "value": "Epoch 1:   0%"
      }
     },
     "a22f5cf3d80041a9b26544ece7761cbf": {
      "model_module": "@jupyter-widgets/controls",
      "model_module_version": "1.5.0",
      "model_name": "HTMLModel",
      "state": {
       "_dom_classes": [],
       "_model_module": "@jupyter-widgets/controls",
       "_model_module_version": "1.5.0",
       "_model_name": "HTMLModel",
       "_view_count": null,
       "_view_module": "@jupyter-widgets/controls",
       "_view_module_version": "1.5.0",
       "_view_name": "HTMLView",
       "description": "",
       "description_tooltip": null,
       "layout": "IPY_MODEL_8c7f90715d2d48c1868100de3f06af92",
       "placeholder": "​",
       "style": "IPY_MODEL_ac7c49407607403697a7a775b94199ad",
       "value": "Downloading: 100%"
      }
     },
     "ac64466042ee47bb9c9270245525a99d": {
      "model_module": "@jupyter-widgets/controls",
      "model_module_version": "1.5.0",
      "model_name": "HTMLModel",
      "state": {
       "_dom_classes": [],
       "_model_module": "@jupyter-widgets/controls",
       "_model_module_version": "1.5.0",
       "_model_name": "HTMLModel",
       "_view_count": null,
       "_view_module": "@jupyter-widgets/controls",
       "_view_module_version": "1.5.0",
       "_view_name": "HTMLView",
       "description": "",
       "description_tooltip": null,
       "layout": "IPY_MODEL_c850bfd9990f467599682a30073362c6",
       "placeholder": "​",
       "style": "IPY_MODEL_d839010a9a494760acaeefe38735cd76",
       "value": "  0%"
      }
     },
     "ac7c49407607403697a7a775b94199ad": {
      "model_module": "@jupyter-widgets/controls",
      "model_module_version": "1.5.0",
      "model_name": "DescriptionStyleModel",
      "state": {
       "_model_module": "@jupyter-widgets/controls",
       "_model_module_version": "1.5.0",
       "_model_name": "DescriptionStyleModel",
       "_view_count": null,
       "_view_module": "@jupyter-widgets/base",
       "_view_module_version": "1.2.0",
       "_view_name": "StyleView",
       "description_width": ""
      }
     },
     "b08dcfdc71a74c4b8e35c02fcc6bd961": {
      "model_module": "@jupyter-widgets/controls",
      "model_module_version": "1.5.0",
      "model_name": "DescriptionStyleModel",
      "state": {
       "_model_module": "@jupyter-widgets/controls",
       "_model_module_version": "1.5.0",
       "_model_name": "DescriptionStyleModel",
       "_view_count": null,
       "_view_module": "@jupyter-widgets/base",
       "_view_module_version": "1.2.0",
       "_view_name": "StyleView",
       "description_width": ""
      }
     },
     "b5152b39a2b846aeacd535cb4df26a35": {
      "model_module": "@jupyter-widgets/controls",
      "model_module_version": "1.5.0",
      "model_name": "ProgressStyleModel",
      "state": {
       "_model_module": "@jupyter-widgets/controls",
       "_model_module_version": "1.5.0",
       "_model_name": "ProgressStyleModel",
       "_view_count": null,
       "_view_module": "@jupyter-widgets/base",
       "_view_module_version": "1.2.0",
       "_view_name": "StyleView",
       "bar_color": null,
       "description_width": ""
      }
     },
     "b78f53a22b7444358aebc18c0bd82ef6": {
      "model_module": "@jupyter-widgets/controls",
      "model_module_version": "1.5.0",
      "model_name": "ProgressStyleModel",
      "state": {
       "_model_module": "@jupyter-widgets/controls",
       "_model_module_version": "1.5.0",
       "_model_name": "ProgressStyleModel",
       "_view_count": null,
       "_view_module": "@jupyter-widgets/base",
       "_view_module_version": "1.2.0",
       "_view_name": "StyleView",
       "bar_color": null,
       "description_width": ""
      }
     },
     "b9b40e8ca54249a99721352e4aab13f5": {
      "model_module": "@jupyter-widgets/controls",
      "model_module_version": "1.5.0",
      "model_name": "HTMLModel",
      "state": {
       "_dom_classes": [],
       "_model_module": "@jupyter-widgets/controls",
       "_model_module_version": "1.5.0",
       "_model_name": "HTMLModel",
       "_view_count": null,
       "_view_module": "@jupyter-widgets/controls",
       "_view_module_version": "1.5.0",
       "_view_name": "HTMLView",
       "description": "",
       "description_tooltip": null,
       "layout": "IPY_MODEL_d5c9b3af4be04dc88ee45ffce1e190c0",
       "placeholder": "​",
       "style": "IPY_MODEL_3f9175b2a7fc4861b31e946e623658c7",
       "value": "Downloading: 100%"
      }
     },
     "c475162d49cd4333909f5450efb01c2e": {
      "model_module": "@jupyter-widgets/controls",
      "model_module_version": "1.5.0",
      "model_name": "DescriptionStyleModel",
      "state": {
       "_model_module": "@jupyter-widgets/controls",
       "_model_module_version": "1.5.0",
       "_model_name": "DescriptionStyleModel",
       "_view_count": null,
       "_view_module": "@jupyter-widgets/base",
       "_view_module_version": "1.2.0",
       "_view_name": "StyleView",
       "description_width": ""
      }
     },
     "c5e82eedbfcf436fa65e08bdd431eb77": {
      "model_module": "@jupyter-widgets/base",
      "model_module_version": "1.2.0",
      "model_name": "LayoutModel",
      "state": {
       "_model_module": "@jupyter-widgets/base",
       "_model_module_version": "1.2.0",
       "_model_name": "LayoutModel",
       "_view_count": null,
       "_view_module": "@jupyter-widgets/base",
       "_view_module_version": "1.2.0",
       "_view_name": "LayoutView",
       "align_content": null,
       "align_items": null,
       "align_self": null,
       "border": null,
       "bottom": null,
       "display": null,
       "flex": null,
       "flex_flow": null,
       "grid_area": null,
       "grid_auto_columns": null,
       "grid_auto_flow": null,
       "grid_auto_rows": null,
       "grid_column": null,
       "grid_gap": null,
       "grid_row": null,
       "grid_template_areas": null,
       "grid_template_columns": null,
       "grid_template_rows": null,
       "height": null,
       "justify_content": null,
       "justify_items": null,
       "left": null,
       "margin": null,
       "max_height": null,
       "max_width": null,
       "min_height": null,
       "min_width": null,
       "object_fit": null,
       "object_position": null,
       "order": null,
       "overflow": null,
       "overflow_x": null,
       "overflow_y": null,
       "padding": null,
       "right": null,
       "top": null,
       "visibility": null,
       "width": null
      }
     },
     "c67f3bc9a6da4cca9d63ad03a1103990": {
      "model_module": "@jupyter-widgets/controls",
      "model_module_version": "1.5.0",
      "model_name": "FloatProgressModel",
      "state": {
       "_dom_classes": [],
       "_model_module": "@jupyter-widgets/controls",
       "_model_module_version": "1.5.0",
       "_model_name": "FloatProgressModel",
       "_view_count": null,
       "_view_module": "@jupyter-widgets/controls",
       "_view_module_version": "1.5.0",
       "_view_name": "ProgressView",
       "bar_style": "success",
       "description": "",
       "description_tooltip": null,
       "layout": "IPY_MODEL_7395be8609db4bbda386ed513bb51529",
       "max": 28.0,
       "min": 0.0,
       "orientation": "horizontal",
       "style": "IPY_MODEL_e31b33f8a4ef4e3ab351e718535b4788",
       "value": 28.0
      }
     },
     "c850bfd9990f467599682a30073362c6": {
      "model_module": "@jupyter-widgets/base",
      "model_module_version": "1.2.0",
      "model_name": "LayoutModel",
      "state": {
       "_model_module": "@jupyter-widgets/base",
       "_model_module_version": "1.2.0",
       "_model_name": "LayoutModel",
       "_view_count": null,
       "_view_module": "@jupyter-widgets/base",
       "_view_module_version": "1.2.0",
       "_view_name": "LayoutView",
       "align_content": null,
       "align_items": null,
       "align_self": null,
       "border": null,
       "bottom": null,
       "display": null,
       "flex": null,
       "flex_flow": null,
       "grid_area": null,
       "grid_auto_columns": null,
       "grid_auto_flow": null,
       "grid_auto_rows": null,
       "grid_column": null,
       "grid_gap": null,
       "grid_row": null,
       "grid_template_areas": null,
       "grid_template_columns": null,
       "grid_template_rows": null,
       "height": null,
       "justify_content": null,
       "justify_items": null,
       "left": null,
       "margin": null,
       "max_height": null,
       "max_width": null,
       "min_height": null,
       "min_width": null,
       "object_fit": null,
       "object_position": null,
       "order": null,
       "overflow": null,
       "overflow_x": null,
       "overflow_y": null,
       "padding": null,
       "right": null,
       "top": null,
       "visibility": null,
       "width": null
      }
     },
     "c9a4fbd3deb345c6b986e63520fd4689": {
      "model_module": "@jupyter-widgets/controls",
      "model_module_version": "1.5.0",
      "model_name": "HBoxModel",
      "state": {
       "_dom_classes": [],
       "_model_module": "@jupyter-widgets/controls",
       "_model_module_version": "1.5.0",
       "_model_name": "HBoxModel",
       "_view_count": null,
       "_view_module": "@jupyter-widgets/controls",
       "_view_module_version": "1.5.0",
       "_view_name": "HBoxView",
       "box_style": "",
       "children": [
        "IPY_MODEL_a22f5cf3d80041a9b26544ece7761cbf",
        "IPY_MODEL_2c68a9017dda41199ddc0b6f2904a3f1",
        "IPY_MODEL_e7956c90290149a188c4e418c88dc2db"
       ],
       "layout": "IPY_MODEL_a0efcf8f985f46ddb1fdbbf220cbfc05"
      }
     },
     "d0d1d13ce15340f3aaf6729d9cfbba2a": {
      "model_module": "@jupyter-widgets/base",
      "model_module_version": "1.2.0",
      "model_name": "LayoutModel",
      "state": {
       "_model_module": "@jupyter-widgets/base",
       "_model_module_version": "1.2.0",
       "_model_name": "LayoutModel",
       "_view_count": null,
       "_view_module": "@jupyter-widgets/base",
       "_view_module_version": "1.2.0",
       "_view_name": "LayoutView",
       "align_content": null,
       "align_items": null,
       "align_self": null,
       "border": null,
       "bottom": null,
       "display": null,
       "flex": null,
       "flex_flow": null,
       "grid_area": null,
       "grid_auto_columns": null,
       "grid_auto_flow": null,
       "grid_auto_rows": null,
       "grid_column": null,
       "grid_gap": null,
       "grid_row": null,
       "grid_template_areas": null,
       "grid_template_columns": null,
       "grid_template_rows": null,
       "height": null,
       "justify_content": null,
       "justify_items": null,
       "left": null,
       "margin": null,
       "max_height": null,
       "max_width": null,
       "min_height": null,
       "min_width": null,
       "object_fit": null,
       "object_position": null,
       "order": null,
       "overflow": null,
       "overflow_x": null,
       "overflow_y": null,
       "padding": null,
       "right": null,
       "top": null,
       "visibility": null,
       "width": null
      }
     },
     "d27f03e0c4fe48649707fd9e1a9b8500": {
      "model_module": "@jupyter-widgets/controls",
      "model_module_version": "1.5.0",
      "model_name": "ProgressStyleModel",
      "state": {
       "_model_module": "@jupyter-widgets/controls",
       "_model_module_version": "1.5.0",
       "_model_name": "ProgressStyleModel",
       "_view_count": null,
       "_view_module": "@jupyter-widgets/base",
       "_view_module_version": "1.2.0",
       "_view_name": "StyleView",
       "bar_color": null,
       "description_width": ""
      }
     },
     "d5c9b3af4be04dc88ee45ffce1e190c0": {
      "model_module": "@jupyter-widgets/base",
      "model_module_version": "1.2.0",
      "model_name": "LayoutModel",
      "state": {
       "_model_module": "@jupyter-widgets/base",
       "_model_module_version": "1.2.0",
       "_model_name": "LayoutModel",
       "_view_count": null,
       "_view_module": "@jupyter-widgets/base",
       "_view_module_version": "1.2.0",
       "_view_name": "LayoutView",
       "align_content": null,
       "align_items": null,
       "align_self": null,
       "border": null,
       "bottom": null,
       "display": null,
       "flex": null,
       "flex_flow": null,
       "grid_area": null,
       "grid_auto_columns": null,
       "grid_auto_flow": null,
       "grid_auto_rows": null,
       "grid_column": null,
       "grid_gap": null,
       "grid_row": null,
       "grid_template_areas": null,
       "grid_template_columns": null,
       "grid_template_rows": null,
       "height": null,
       "justify_content": null,
       "justify_items": null,
       "left": null,
       "margin": null,
       "max_height": null,
       "max_width": null,
       "min_height": null,
       "min_width": null,
       "object_fit": null,
       "object_position": null,
       "order": null,
       "overflow": null,
       "overflow_x": null,
       "overflow_y": null,
       "padding": null,
       "right": null,
       "top": null,
       "visibility": null,
       "width": null
      }
     },
     "d6252c8dd5474d8f9b27705b9b52079f": {
      "model_module": "@jupyter-widgets/controls",
      "model_module_version": "1.5.0",
      "model_name": "HBoxModel",
      "state": {
       "_dom_classes": [],
       "_model_module": "@jupyter-widgets/controls",
       "_model_module_version": "1.5.0",
       "_model_name": "HBoxModel",
       "_view_count": null,
       "_view_module": "@jupyter-widgets/controls",
       "_view_module_version": "1.5.0",
       "_view_name": "HBoxView",
       "box_style": "",
       "children": [
        "IPY_MODEL_0c280d8048e64e82a915b703f4391c59",
        "IPY_MODEL_82ccb7fa2a0c4b1187bb05c01faf4aa8",
        "IPY_MODEL_9908ed9348174020ab204fb8005ed9b2"
       ],
       "layout": "IPY_MODEL_55e4e675f6a4411cb51a74b7efefccde"
      }
     },
     "d6e393b547754f0395eb5b68f485bb37": {
      "model_module": "@jupyter-widgets/controls",
      "model_module_version": "1.5.0",
      "model_name": "DescriptionStyleModel",
      "state": {
       "_model_module": "@jupyter-widgets/controls",
       "_model_module_version": "1.5.0",
       "_model_name": "DescriptionStyleModel",
       "_view_count": null,
       "_view_module": "@jupyter-widgets/base",
       "_view_module_version": "1.2.0",
       "_view_name": "StyleView",
       "description_width": ""
      }
     },
     "d839010a9a494760acaeefe38735cd76": {
      "model_module": "@jupyter-widgets/controls",
      "model_module_version": "1.5.0",
      "model_name": "DescriptionStyleModel",
      "state": {
       "_model_module": "@jupyter-widgets/controls",
       "_model_module_version": "1.5.0",
       "_model_name": "DescriptionStyleModel",
       "_view_count": null,
       "_view_module": "@jupyter-widgets/base",
       "_view_module_version": "1.2.0",
       "_view_name": "StyleView",
       "description_width": ""
      }
     },
     "da3f70a98e9f469e8a4a8e1a08969a3c": {
      "model_module": "@jupyter-widgets/base",
      "model_module_version": "1.2.0",
      "model_name": "LayoutModel",
      "state": {
       "_model_module": "@jupyter-widgets/base",
       "_model_module_version": "1.2.0",
       "_model_name": "LayoutModel",
       "_view_count": null,
       "_view_module": "@jupyter-widgets/base",
       "_view_module_version": "1.2.0",
       "_view_name": "LayoutView",
       "align_content": null,
       "align_items": null,
       "align_self": null,
       "border": null,
       "bottom": null,
       "display": null,
       "flex": null,
       "flex_flow": null,
       "grid_area": null,
       "grid_auto_columns": null,
       "grid_auto_flow": null,
       "grid_auto_rows": null,
       "grid_column": null,
       "grid_gap": null,
       "grid_row": null,
       "grid_template_areas": null,
       "grid_template_columns": null,
       "grid_template_rows": null,
       "height": null,
       "justify_content": null,
       "justify_items": null,
       "left": null,
       "margin": null,
       "max_height": null,
       "max_width": null,
       "min_height": null,
       "min_width": null,
       "object_fit": null,
       "object_position": null,
       "order": null,
       "overflow": null,
       "overflow_x": null,
       "overflow_y": null,
       "padding": null,
       "right": null,
       "top": null,
       "visibility": null,
       "width": null
      }
     },
     "e0f8e9821abc40aeb79fa44b3e13e4d5": {
      "model_module": "@jupyter-widgets/base",
      "model_module_version": "1.2.0",
      "model_name": "LayoutModel",
      "state": {
       "_model_module": "@jupyter-widgets/base",
       "_model_module_version": "1.2.0",
       "_model_name": "LayoutModel",
       "_view_count": null,
       "_view_module": "@jupyter-widgets/base",
       "_view_module_version": "1.2.0",
       "_view_name": "LayoutView",
       "align_content": null,
       "align_items": null,
       "align_self": null,
       "border": null,
       "bottom": null,
       "display": null,
       "flex": null,
       "flex_flow": null,
       "grid_area": null,
       "grid_auto_columns": null,
       "grid_auto_flow": null,
       "grid_auto_rows": null,
       "grid_column": null,
       "grid_gap": null,
       "grid_row": null,
       "grid_template_areas": null,
       "grid_template_columns": null,
       "grid_template_rows": null,
       "height": null,
       "justify_content": null,
       "justify_items": null,
       "left": null,
       "margin": null,
       "max_height": null,
       "max_width": null,
       "min_height": null,
       "min_width": null,
       "object_fit": null,
       "object_position": null,
       "order": null,
       "overflow": null,
       "overflow_x": null,
       "overflow_y": null,
       "padding": null,
       "right": null,
       "top": null,
       "visibility": null,
       "width": null
      }
     },
     "e31b33f8a4ef4e3ab351e718535b4788": {
      "model_module": "@jupyter-widgets/controls",
      "model_module_version": "1.5.0",
      "model_name": "ProgressStyleModel",
      "state": {
       "_model_module": "@jupyter-widgets/controls",
       "_model_module_version": "1.5.0",
       "_model_name": "ProgressStyleModel",
       "_view_count": null,
       "_view_module": "@jupyter-widgets/base",
       "_view_module_version": "1.2.0",
       "_view_name": "StyleView",
       "bar_color": null,
       "description_width": ""
      }
     },
     "e369c8f751a741f18a1141d54779edca": {
      "model_module": "@jupyter-widgets/base",
      "model_module_version": "1.2.0",
      "model_name": "LayoutModel",
      "state": {
       "_model_module": "@jupyter-widgets/base",
       "_model_module_version": "1.2.0",
       "_model_name": "LayoutModel",
       "_view_count": null,
       "_view_module": "@jupyter-widgets/base",
       "_view_module_version": "1.2.0",
       "_view_name": "LayoutView",
       "align_content": null,
       "align_items": null,
       "align_self": null,
       "border": null,
       "bottom": null,
       "display": null,
       "flex": null,
       "flex_flow": null,
       "grid_area": null,
       "grid_auto_columns": null,
       "grid_auto_flow": null,
       "grid_auto_rows": null,
       "grid_column": null,
       "grid_gap": null,
       "grid_row": null,
       "grid_template_areas": null,
       "grid_template_columns": null,
       "grid_template_rows": null,
       "height": null,
       "justify_content": null,
       "justify_items": null,
       "left": null,
       "margin": null,
       "max_height": null,
       "max_width": null,
       "min_height": null,
       "min_width": null,
       "object_fit": null,
       "object_position": null,
       "order": null,
       "overflow": null,
       "overflow_x": null,
       "overflow_y": null,
       "padding": null,
       "right": null,
       "top": null,
       "visibility": null,
       "width": null
      }
     },
     "e4486a86d7674b82b9cb11dd2faec34b": {
      "model_module": "@jupyter-widgets/controls",
      "model_module_version": "1.5.0",
      "model_name": "HBoxModel",
      "state": {
       "_dom_classes": [],
       "_model_module": "@jupyter-widgets/controls",
       "_model_module_version": "1.5.0",
       "_model_name": "HBoxModel",
       "_view_count": null,
       "_view_module": "@jupyter-widgets/controls",
       "_view_module_version": "1.5.0",
       "_view_name": "HBoxView",
       "box_style": "",
       "children": [
        "IPY_MODEL_a13d8755193c46909cd6fa3acbeaf059",
        "IPY_MODEL_0ebbc29821d948c1925ea8f6e69bed9a",
        "IPY_MODEL_502ddaf1206e45839fb99827d18982ac"
       ],
       "layout": "IPY_MODEL_fc67f93fa2cb4c538e707b8f8180dddf"
      }
     },
     "e73c3e15a26a473a88bb5ea1cb3b0d82": {
      "model_module": "@jupyter-widgets/controls",
      "model_module_version": "1.5.0",
      "model_name": "HTMLModel",
      "state": {
       "_dom_classes": [],
       "_model_module": "@jupyter-widgets/controls",
       "_model_module_version": "1.5.0",
       "_model_name": "HTMLModel",
       "_view_count": null,
       "_view_module": "@jupyter-widgets/controls",
       "_view_module_version": "1.5.0",
       "_view_name": "HTMLView",
       "description": "",
       "description_tooltip": null,
       "layout": "IPY_MODEL_81453ed8ff9d454ea2ee9f32ca712d38",
       "placeholder": "​",
       "style": "IPY_MODEL_c475162d49cd4333909f5450efb01c2e",
       "value": "Downloading: 100%"
      }
     },
     "e7956c90290149a188c4e418c88dc2db": {
      "model_module": "@jupyter-widgets/controls",
      "model_module_version": "1.5.0",
      "model_name": "HTMLModel",
      "state": {
       "_dom_classes": [],
       "_model_module": "@jupyter-widgets/controls",
       "_model_module_version": "1.5.0",
       "_model_name": "HTMLModel",
       "_view_count": null,
       "_view_module": "@jupyter-widgets/controls",
       "_view_module_version": "1.5.0",
       "_view_name": "HTMLView",
       "description": "",
       "description_tooltip": null,
       "layout": "IPY_MODEL_c5e82eedbfcf436fa65e08bdd431eb77",
       "placeholder": "​",
       "style": "IPY_MODEL_194a7298150f472bb8a5863153831bde",
       "value": " 466k/466k [00:00&lt;00:00, 877kB/s]"
      }
     },
     "e91c990d2e654667a8373aa5a9856cee": {
      "model_module": "@jupyter-widgets/controls",
      "model_module_version": "1.5.0",
      "model_name": "HBoxModel",
      "state": {
       "_dom_classes": [],
       "_model_module": "@jupyter-widgets/controls",
       "_model_module_version": "1.5.0",
       "_model_name": "HBoxModel",
       "_view_count": null,
       "_view_module": "@jupyter-widgets/controls",
       "_view_module_version": "1.5.0",
       "_view_name": "HBoxView",
       "box_style": "",
       "children": [
        "IPY_MODEL_ac64466042ee47bb9c9270245525a99d",
        "IPY_MODEL_fae15ee60ee54f78b506dab653aeaf28",
        "IPY_MODEL_2822eeaf29184e4989a68418aeeacc70"
       ],
       "layout": "IPY_MODEL_5bf7ba6fd61844bc95cae484d562e398"
      }
     },
     "ed6cb922bc724d0cbd028fd066070488": {
      "model_module": "@jupyter-widgets/base",
      "model_module_version": "1.2.0",
      "model_name": "LayoutModel",
      "state": {
       "_model_module": "@jupyter-widgets/base",
       "_model_module_version": "1.2.0",
       "_model_name": "LayoutModel",
       "_view_count": null,
       "_view_module": "@jupyter-widgets/base",
       "_view_module_version": "1.2.0",
       "_view_name": "LayoutView",
       "align_content": null,
       "align_items": null,
       "align_self": null,
       "border": null,
       "bottom": null,
       "display": null,
       "flex": null,
       "flex_flow": null,
       "grid_area": null,
       "grid_auto_columns": null,
       "grid_auto_flow": null,
       "grid_auto_rows": null,
       "grid_column": null,
       "grid_gap": null,
       "grid_row": null,
       "grid_template_areas": null,
       "grid_template_columns": null,
       "grid_template_rows": null,
       "height": null,
       "justify_content": null,
       "justify_items": null,
       "left": null,
       "margin": null,
       "max_height": null,
       "max_width": null,
       "min_height": null,
       "min_width": null,
       "object_fit": null,
       "object_position": null,
       "order": null,
       "overflow": null,
       "overflow_x": null,
       "overflow_y": null,
       "padding": null,
       "right": null,
       "top": null,
       "visibility": null,
       "width": null
      }
     },
     "fae15ee60ee54f78b506dab653aeaf28": {
      "model_module": "@jupyter-widgets/controls",
      "model_module_version": "1.5.0",
      "model_name": "FloatProgressModel",
      "state": {
       "_dom_classes": [],
       "_model_module": "@jupyter-widgets/controls",
       "_model_module_version": "1.5.0",
       "_model_name": "FloatProgressModel",
       "_view_count": null,
       "_view_module": "@jupyter-widgets/controls",
       "_view_module_version": "1.5.0",
       "_view_name": "ProgressView",
       "bar_style": "danger",
       "description": "",
       "description_tooltip": null,
       "layout": "IPY_MODEL_3876e499a5a74ff38c861fc607aca3c8",
       "max": 3.0,
       "min": 0.0,
       "orientation": "horizontal",
       "style": "IPY_MODEL_0794996227a24fc9bbd0b62306beb77f",
       "value": 0.0
      }
     },
     "fbc87361c88f4b288712ab68086b2fbe": {
      "model_module": "@jupyter-widgets/base",
      "model_module_version": "1.2.0",
      "model_name": "LayoutModel",
      "state": {
       "_model_module": "@jupyter-widgets/base",
       "_model_module_version": "1.2.0",
       "_model_name": "LayoutModel",
       "_view_count": null,
       "_view_module": "@jupyter-widgets/base",
       "_view_module_version": "1.2.0",
       "_view_name": "LayoutView",
       "align_content": null,
       "align_items": null,
       "align_self": null,
       "border": null,
       "bottom": null,
       "display": null,
       "flex": null,
       "flex_flow": null,
       "grid_area": null,
       "grid_auto_columns": null,
       "grid_auto_flow": null,
       "grid_auto_rows": null,
       "grid_column": null,
       "grid_gap": null,
       "grid_row": null,
       "grid_template_areas": null,
       "grid_template_columns": null,
       "grid_template_rows": null,
       "height": null,
       "justify_content": null,
       "justify_items": null,
       "left": null,
       "margin": null,
       "max_height": null,
       "max_width": null,
       "min_height": null,
       "min_width": null,
       "object_fit": null,
       "object_position": null,
       "order": null,
       "overflow": null,
       "overflow_x": null,
       "overflow_y": null,
       "padding": null,
       "right": null,
       "top": null,
       "visibility": null,
       "width": null
      }
     },
     "fc67f93fa2cb4c538e707b8f8180dddf": {
      "model_module": "@jupyter-widgets/base",
      "model_module_version": "1.2.0",
      "model_name": "LayoutModel",
      "state": {
       "_model_module": "@jupyter-widgets/base",
       "_model_module_version": "1.2.0",
       "_model_name": "LayoutModel",
       "_view_count": null,
       "_view_module": "@jupyter-widgets/base",
       "_view_module_version": "1.2.0",
       "_view_name": "LayoutView",
       "align_content": null,
       "align_items": null,
       "align_self": null,
       "border": null,
       "bottom": null,
       "display": null,
       "flex": null,
       "flex_flow": null,
       "grid_area": null,
       "grid_auto_columns": null,
       "grid_auto_flow": null,
       "grid_auto_rows": null,
       "grid_column": null,
       "grid_gap": null,
       "grid_row": null,
       "grid_template_areas": null,
       "grid_template_columns": null,
       "grid_template_rows": null,
       "height": null,
       "justify_content": null,
       "justify_items": null,
       "left": null,
       "margin": null,
       "max_height": null,
       "max_width": null,
       "min_height": null,
       "min_width": null,
       "object_fit": null,
       "object_position": null,
       "order": null,
       "overflow": null,
       "overflow_x": null,
       "overflow_y": null,
       "padding": null,
       "right": null,
       "top": null,
       "visibility": null,
       "width": null
      }
     }
    },
    "version_major": 2,
    "version_minor": 0
   }
  }
 },
 "nbformat": 4,
 "nbformat_minor": 5
}
